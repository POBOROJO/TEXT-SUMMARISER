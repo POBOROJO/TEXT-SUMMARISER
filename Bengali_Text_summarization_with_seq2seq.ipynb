{
  "cells": [
    {
      "cell_type": "markdown",
      "metadata": {
        "id": "view-in-github",
        "colab_type": "text"
      },
      "source": [
        "<a href=\"https://colab.research.google.com/github/POBOROJO/TEXT-SUMMARISER/blob/main/Bengali_Text_summarization_with_seq2seq.ipynb\" target=\"_parent\"><img src=\"https://colab.research.google.com/assets/colab-badge.svg\" alt=\"Open In Colab\"/></a>"
      ]
    },
    {
      "cell_type": "code",
      "execution_count": null,
      "metadata": {
        "colab": {
          "base_uri": "https://localhost:8080/"
        },
        "id": "NSK99efjEsKQ",
        "outputId": "438c263e-708a-4930-bcd8-1a31d366300e"
      },
      "outputs": [
        {
          "output_type": "stream",
          "name": "stdout",
          "text": [
            "Mounted at /content/drive\n"
          ]
        }
      ],
      "source": [
        "from google.colab import drive\n",
        "drive.mount('/content/drive')"
      ],
      "id": "NSK99efjEsKQ"
    },
    {
      "cell_type": "code",
      "source": [
        "import numpy as np\n",
        "import pandas as pd"
      ],
      "metadata": {
        "id": "FJdu75dSRc-C"
      },
      "id": "FJdu75dSRc-C",
      "execution_count": null,
      "outputs": []
    },
    {
      "cell_type": "code",
      "execution_count": null,
      "metadata": {
        "id": "dc84cb83",
        "colab": {
          "base_uri": "https://localhost:8080/"
        },
        "outputId": "24bb03fb-2f1c-4c89-b8a5-faaa5694af88"
      },
      "outputs": [
        {
          "output_type": "stream",
          "name": "stdout",
          "text": [
            "/content/drive/My Drive/IITG/pickle_stored.pkl\n",
            "/content/drive/My Drive/IITG/cc.bn.300.bin\n",
            "/content/drive/My Drive/IITG/train.csv\n",
            "/content/drive/My Drive/IITG/BiLSTM-LSTM_weights.h5\n",
            "/content/drive/My Drive/IITG/LSTM_LSTM_weights.h5\n"
          ]
        }
      ],
      "source": [
        "import os\n",
        "\n",
        "for dirname, _, filenames in os.walk(\"/content/drive/My Drive/IITG\"):\n",
        "    for filename in filenames:\n",
        "        print(os.path.join(dirname, filename))\n"
      ],
      "id": "dc84cb83"
    },
    {
      "cell_type": "markdown",
      "source": [
        "# **Pickle loaded**"
      ],
      "metadata": {
        "id": "alG9hecAqT2b"
      },
      "id": "alG9hecAqT2b"
    },
    {
      "cell_type": "code",
      "source": [
        "import pickle\n",
        "dict_load = pickle.load(open(\"/content/drive/MyDrive/IITG/pickle_stored.pkl\", 'rb'))\n",
        "x_voc=dict_load['x_voc']\n",
        "y_voc=dict_load['y_voc']\n",
        "text = dict_load['text']\n",
        "summary=dict_load['summary']\n",
        "x_tr=dict_load['x_tr']\n",
        "y_tr=dict_load['y_tr']\n",
        "x_val=dict_load['x_val']\n",
        "y_val=dict_load['y_val']\n",
        "ft_embedding_matrix_encoder=dict_load['ft_embedding_matrix_encoder']\n",
        "ft_embedding_matrix_decoder=dict_load['ft_embedding_matrix_decoder']\n",
        "x_tokenizer=dict_load['x_tokenizer']\n",
        "y_tokenizer=dict_load['y_tokenizer']\n",
        "max_text_len=dict_load['max_text_len']\n",
        "max_summary_len=dict_load['max_summary_len']"
      ],
      "metadata": {
        "id": "PX4sdnxgpwLM"
      },
      "id": "PX4sdnxgpwLM",
      "execution_count": null,
      "outputs": []
    },
    {
      "cell_type": "markdown",
      "source": [
        "## **Pickle Dump**"
      ],
      "metadata": {
        "id": "452m04emtrxU"
      },
      "id": "452m04emtrxU"
    },
    {
      "cell_type": "code",
      "source": [
        "# import pickle\n",
        "# object_dict ={\n",
        "#     'x_voc':x_voc,\n",
        "#     'y_voc':y_voc,\n",
        "#     'text':text,\n",
        "#     'summary':summary,\n",
        "#     'x_tr':x_tr,\n",
        "#     'y_tr':y_tr,\n",
        "#     'x_val':x_val,\n",
        "#     'y_val':y_val,\n",
        "#     'ft_embedding_matrix_encoder':ft_embedding_matrix_encoder,\n",
        "#     'ft_embedding_matrix_decoder':ft_embedding_matrix_decoder,\n",
        "#     'x_tokenizer':x_tokenizer,\n",
        "#     'y_tokenizer':y_tokenizer,\n",
        "#     'max_text_len':max_text_len,\n",
        "#     'max_summary_len':max_summary_len,\n",
        "# }\n",
        "\n",
        "# pickle.dump(object_dict, open(\"/content/drive/MyDrive/IITG/pickle_stored.pkl\", 'wb'))"
      ],
      "metadata": {
        "id": "-bIxGM8QpqmD"
      },
      "id": "-bIxGM8QpqmD",
      "execution_count": null,
      "outputs": []
    },
    {
      "cell_type": "markdown",
      "source": [
        "# **Read CSV**"
      ],
      "metadata": {
        "id": "MaAG0LqjS6A0"
      },
      "id": "MaAG0LqjS6A0"
    },
    {
      "cell_type": "code",
      "execution_count": null,
      "metadata": {
        "id": "88627a83"
      },
      "outputs": [],
      "source": [
        "Bset = pd.read_csv('/content/drive/MyDrive/IITG/train.csv', encoding='utf-8') # char encoding used to interpret the text data in the CSV file"
      ],
      "id": "88627a83"
    },
    {
      "cell_type": "markdown",
      "source": [
        "**encoding='iso-8859-1**, seems to refer to a character encoding specification"
      ],
      "metadata": {
        "id": "A2hEwIhUSc9b"
      },
      "id": "A2hEwIhUSc9b"
    },
    {
      "cell_type": "code",
      "execution_count": null,
      "metadata": {
        "colab": {
          "base_uri": "https://localhost:8080/",
          "height": 258
        },
        "id": "42210744",
        "outputId": "c05567b8-5e32-4550-cc7d-85d16132114b",
        "scrolled": true
      },
      "outputs": [
        {
          "output_type": "execute_result",
          "data": {
            "text/plain": [
              "                                               title  \\\n",
              "0  এই অভিনেতার ‘প্রস্তাব’ মানলে ভারতীয় সিনেমার খো...   \n",
              "1      সচিন সাংসদ হয়েছেন, তাই চিন্তা কম জেটলির। কেন?   \n",
              "2  ক্রিকেটার থেকে গাইড! জাতীয় দলের ক্রিকেটারের অব...   \n",
              "3  দুষ্কৃতীদের নজরে এটিএম, হাল হকিকত্ ঘুরে দেখলেন...   \n",
              "4    সৌজন্যের বালাই নেই, দিনভর আকচা আকচি কং-বিজেপি’র   \n",
              "\n",
              "                                             article          label  \n",
              "0   স্রেফ দু’টি টুইটেই সোশ্যাল মিডিয়ায় তোলপাড় ফে...  entertainment  \n",
              "1   একবার রেল বাজেট। একবার সাধারণ বাজেট। খবরের শি...       national  \n",
              "2   কিছুদিন আগেই রাজ্যের গাইড বনে গিয়েছিলেন চেতেশ...         sports  \n",
              "3  কলকাতায় দুষ্কৃতীদের নজরে এখন বিভিন্ন ব্যাঙ্কের...        kolkata  \n",
              "4  সারা দিন আকচা আকচিতেই কাটিয়ে দিল দেশের দুই বৃহ...       national  "
            ],
            "text/html": [
              "\n",
              "  <div id=\"df-f8d08da8-1c75-4138-9383-c510e19f13af\" class=\"colab-df-container\">\n",
              "    <div>\n",
              "<style scoped>\n",
              "    .dataframe tbody tr th:only-of-type {\n",
              "        vertical-align: middle;\n",
              "    }\n",
              "\n",
              "    .dataframe tbody tr th {\n",
              "        vertical-align: top;\n",
              "    }\n",
              "\n",
              "    .dataframe thead th {\n",
              "        text-align: right;\n",
              "    }\n",
              "</style>\n",
              "<table border=\"1\" class=\"dataframe\">\n",
              "  <thead>\n",
              "    <tr style=\"text-align: right;\">\n",
              "      <th></th>\n",
              "      <th>title</th>\n",
              "      <th>article</th>\n",
              "      <th>label</th>\n",
              "    </tr>\n",
              "  </thead>\n",
              "  <tbody>\n",
              "    <tr>\n",
              "      <th>0</th>\n",
              "      <td>এই অভিনেতার ‘প্রস্তাব’ মানলে ভারতীয় সিনেমার খো...</td>\n",
              "      <td>স্রেফ দু’টি টুইটেই সোশ্যাল মিডিয়ায় তোলপাড় ফে...</td>\n",
              "      <td>entertainment</td>\n",
              "    </tr>\n",
              "    <tr>\n",
              "      <th>1</th>\n",
              "      <td>সচিন সাংসদ হয়েছেন, তাই চিন্তা কম জেটলির। কেন?</td>\n",
              "      <td>একবার রেল বাজেট। একবার সাধারণ বাজেট। খবরের শি...</td>\n",
              "      <td>national</td>\n",
              "    </tr>\n",
              "    <tr>\n",
              "      <th>2</th>\n",
              "      <td>ক্রিকেটার থেকে গাইড! জাতীয় দলের ক্রিকেটারের অব...</td>\n",
              "      <td>কিছুদিন আগেই রাজ্যের গাইড বনে গিয়েছিলেন চেতেশ...</td>\n",
              "      <td>sports</td>\n",
              "    </tr>\n",
              "    <tr>\n",
              "      <th>3</th>\n",
              "      <td>দুষ্কৃতীদের নজরে এটিএম, হাল হকিকত্ ঘুরে দেখলেন...</td>\n",
              "      <td>কলকাতায় দুষ্কৃতীদের নজরে এখন বিভিন্ন ব্যাঙ্কের...</td>\n",
              "      <td>kolkata</td>\n",
              "    </tr>\n",
              "    <tr>\n",
              "      <th>4</th>\n",
              "      <td>সৌজন্যের বালাই নেই, দিনভর আকচা আকচি কং-বিজেপি’র</td>\n",
              "      <td>সারা দিন আকচা আকচিতেই কাটিয়ে দিল দেশের দুই বৃহ...</td>\n",
              "      <td>national</td>\n",
              "    </tr>\n",
              "  </tbody>\n",
              "</table>\n",
              "</div>\n",
              "    <div class=\"colab-df-buttons\">\n",
              "\n",
              "  <div class=\"colab-df-container\">\n",
              "    <button class=\"colab-df-convert\" onclick=\"convertToInteractive('df-f8d08da8-1c75-4138-9383-c510e19f13af')\"\n",
              "            title=\"Convert this dataframe to an interactive table.\"\n",
              "            style=\"display:none;\">\n",
              "\n",
              "  <svg xmlns=\"http://www.w3.org/2000/svg\" height=\"24px\" viewBox=\"0 -960 960 960\">\n",
              "    <path d=\"M120-120v-720h720v720H120Zm60-500h600v-160H180v160Zm220 220h160v-160H400v160Zm0 220h160v-160H400v160ZM180-400h160v-160H180v160Zm440 0h160v-160H620v160ZM180-180h160v-160H180v160Zm440 0h160v-160H620v160Z\"/>\n",
              "  </svg>\n",
              "    </button>\n",
              "\n",
              "  <style>\n",
              "    .colab-df-container {\n",
              "      display:flex;\n",
              "      gap: 12px;\n",
              "    }\n",
              "\n",
              "    .colab-df-convert {\n",
              "      background-color: #E8F0FE;\n",
              "      border: none;\n",
              "      border-radius: 50%;\n",
              "      cursor: pointer;\n",
              "      display: none;\n",
              "      fill: #1967D2;\n",
              "      height: 32px;\n",
              "      padding: 0 0 0 0;\n",
              "      width: 32px;\n",
              "    }\n",
              "\n",
              "    .colab-df-convert:hover {\n",
              "      background-color: #E2EBFA;\n",
              "      box-shadow: 0px 1px 2px rgba(60, 64, 67, 0.3), 0px 1px 3px 1px rgba(60, 64, 67, 0.15);\n",
              "      fill: #174EA6;\n",
              "    }\n",
              "\n",
              "    .colab-df-buttons div {\n",
              "      margin-bottom: 4px;\n",
              "    }\n",
              "\n",
              "    [theme=dark] .colab-df-convert {\n",
              "      background-color: #3B4455;\n",
              "      fill: #D2E3FC;\n",
              "    }\n",
              "\n",
              "    [theme=dark] .colab-df-convert:hover {\n",
              "      background-color: #434B5C;\n",
              "      box-shadow: 0px 1px 3px 1px rgba(0, 0, 0, 0.15);\n",
              "      filter: drop-shadow(0px 1px 2px rgba(0, 0, 0, 0.3));\n",
              "      fill: #FFFFFF;\n",
              "    }\n",
              "  </style>\n",
              "\n",
              "    <script>\n",
              "      const buttonEl =\n",
              "        document.querySelector('#df-f8d08da8-1c75-4138-9383-c510e19f13af button.colab-df-convert');\n",
              "      buttonEl.style.display =\n",
              "        google.colab.kernel.accessAllowed ? 'block' : 'none';\n",
              "\n",
              "      async function convertToInteractive(key) {\n",
              "        const element = document.querySelector('#df-f8d08da8-1c75-4138-9383-c510e19f13af');\n",
              "        const dataTable =\n",
              "          await google.colab.kernel.invokeFunction('convertToInteractive',\n",
              "                                                    [key], {});\n",
              "        if (!dataTable) return;\n",
              "\n",
              "        const docLinkHtml = 'Like what you see? Visit the ' +\n",
              "          '<a target=\"_blank\" href=https://colab.research.google.com/notebooks/data_table.ipynb>data table notebook</a>'\n",
              "          + ' to learn more about interactive tables.';\n",
              "        element.innerHTML = '';\n",
              "        dataTable['output_type'] = 'display_data';\n",
              "        await google.colab.output.renderOutput(dataTable, element);\n",
              "        const docLink = document.createElement('div');\n",
              "        docLink.innerHTML = docLinkHtml;\n",
              "        element.appendChild(docLink);\n",
              "      }\n",
              "    </script>\n",
              "  </div>\n",
              "\n",
              "\n",
              "<div id=\"df-f4a80621-9e62-4a93-9f7e-44f50880236d\">\n",
              "  <button class=\"colab-df-quickchart\" onclick=\"quickchart('df-f4a80621-9e62-4a93-9f7e-44f50880236d')\"\n",
              "            title=\"Suggest charts.\"\n",
              "            style=\"display:none;\">\n",
              "\n",
              "<svg xmlns=\"http://www.w3.org/2000/svg\" height=\"24px\"viewBox=\"0 0 24 24\"\n",
              "     width=\"24px\">\n",
              "    <g>\n",
              "        <path d=\"M19 3H5c-1.1 0-2 .9-2 2v14c0 1.1.9 2 2 2h14c1.1 0 2-.9 2-2V5c0-1.1-.9-2-2-2zM9 17H7v-7h2v7zm4 0h-2V7h2v10zm4 0h-2v-4h2v4z\"/>\n",
              "    </g>\n",
              "</svg>\n",
              "  </button>\n",
              "\n",
              "<style>\n",
              "  .colab-df-quickchart {\n",
              "    background-color: #E8F0FE;\n",
              "    border: none;\n",
              "    border-radius: 50%;\n",
              "    cursor: pointer;\n",
              "    display: none;\n",
              "    fill: #1967D2;\n",
              "    height: 32px;\n",
              "    padding: 0 0 0 0;\n",
              "    width: 32px;\n",
              "  }\n",
              "\n",
              "  .colab-df-quickchart:hover {\n",
              "    background-color: #E2EBFA;\n",
              "    box-shadow: 0px 1px 2px rgba(60, 64, 67, 0.3), 0px 1px 3px 1px rgba(60, 64, 67, 0.15);\n",
              "    fill: #174EA6;\n",
              "  }\n",
              "\n",
              "  [theme=dark] .colab-df-quickchart {\n",
              "    background-color: #3B4455;\n",
              "    fill: #D2E3FC;\n",
              "  }\n",
              "\n",
              "  [theme=dark] .colab-df-quickchart:hover {\n",
              "    background-color: #434B5C;\n",
              "    box-shadow: 0px 1px 3px 1px rgba(0, 0, 0, 0.15);\n",
              "    filter: drop-shadow(0px 1px 2px rgba(0, 0, 0, 0.3));\n",
              "    fill: #FFFFFF;\n",
              "  }\n",
              "</style>\n",
              "\n",
              "  <script>\n",
              "    async function quickchart(key) {\n",
              "      const charts = await google.colab.kernel.invokeFunction(\n",
              "          'suggestCharts', [key], {});\n",
              "    }\n",
              "    (() => {\n",
              "      let quickchartButtonEl =\n",
              "        document.querySelector('#df-f4a80621-9e62-4a93-9f7e-44f50880236d button');\n",
              "      quickchartButtonEl.style.display =\n",
              "        google.colab.kernel.accessAllowed ? 'block' : 'none';\n",
              "    })();\n",
              "  </script>\n",
              "</div>\n",
              "    </div>\n",
              "  </div>\n"
            ]
          },
          "metadata": {},
          "execution_count": 5
        }
      ],
      "source": [
        "Bset.head()"
      ],
      "id": "42210744"
    },
    {
      "cell_type": "code",
      "source": [
        "column_to_remove = 'label'\n",
        "\n",
        "Bset= Bset.drop(columns=[column_to_remove])\n",
        "summary=Bset"
      ],
      "metadata": {
        "id": "rORby23PX6GQ"
      },
      "id": "rORby23PX6GQ",
      "execution_count": null,
      "outputs": []
    },
    {
      "cell_type": "code",
      "source": [
        "summary.head()"
      ],
      "metadata": {
        "colab": {
          "base_uri": "https://localhost:8080/",
          "height": 206
        },
        "id": "KcEci4utZgDg",
        "outputId": "721df765-d761-48fd-9288-784da42a4d2e"
      },
      "id": "KcEci4utZgDg",
      "execution_count": null,
      "outputs": [
        {
          "output_type": "execute_result",
          "data": {
            "text/plain": [
              "                                               title  \\\n",
              "0  এই অভিনেতার ‘প্রস্তাব’ মানলে ভারতীয় সিনেমার খো...   \n",
              "1      সচিন সাংসদ হয়েছেন, তাই চিন্তা কম জেটলির। কেন?   \n",
              "2  ক্রিকেটার থেকে গাইড! জাতীয় দলের ক্রিকেটারের অব...   \n",
              "3  দুষ্কৃতীদের নজরে এটিএম, হাল হকিকত্ ঘুরে দেখলেন...   \n",
              "4    সৌজন্যের বালাই নেই, দিনভর আকচা আকচি কং-বিজেপি’র   \n",
              "\n",
              "                                             article  \n",
              "0   স্রেফ দু’টি টুইটেই সোশ্যাল মিডিয়ায় তোলপাড় ফে...  \n",
              "1   একবার রেল বাজেট। একবার সাধারণ বাজেট। খবরের শি...  \n",
              "2   কিছুদিন আগেই রাজ্যের গাইড বনে গিয়েছিলেন চেতেশ...  \n",
              "3  কলকাতায় দুষ্কৃতীদের নজরে এখন বিভিন্ন ব্যাঙ্কের...  \n",
              "4  সারা দিন আকচা আকচিতেই কাটিয়ে দিল দেশের দুই বৃহ...  "
            ],
            "text/html": [
              "\n",
              "  <div id=\"df-5acbd2dd-54b0-4156-99a6-497e76da60fc\" class=\"colab-df-container\">\n",
              "    <div>\n",
              "<style scoped>\n",
              "    .dataframe tbody tr th:only-of-type {\n",
              "        vertical-align: middle;\n",
              "    }\n",
              "\n",
              "    .dataframe tbody tr th {\n",
              "        vertical-align: top;\n",
              "    }\n",
              "\n",
              "    .dataframe thead th {\n",
              "        text-align: right;\n",
              "    }\n",
              "</style>\n",
              "<table border=\"1\" class=\"dataframe\">\n",
              "  <thead>\n",
              "    <tr style=\"text-align: right;\">\n",
              "      <th></th>\n",
              "      <th>title</th>\n",
              "      <th>article</th>\n",
              "    </tr>\n",
              "  </thead>\n",
              "  <tbody>\n",
              "    <tr>\n",
              "      <th>0</th>\n",
              "      <td>এই অভিনেতার ‘প্রস্তাব’ মানলে ভারতীয় সিনেমার খো...</td>\n",
              "      <td>স্রেফ দু’টি টুইটেই সোশ্যাল মিডিয়ায় তোলপাড় ফে...</td>\n",
              "    </tr>\n",
              "    <tr>\n",
              "      <th>1</th>\n",
              "      <td>সচিন সাংসদ হয়েছেন, তাই চিন্তা কম জেটলির। কেন?</td>\n",
              "      <td>একবার রেল বাজেট। একবার সাধারণ বাজেট। খবরের শি...</td>\n",
              "    </tr>\n",
              "    <tr>\n",
              "      <th>2</th>\n",
              "      <td>ক্রিকেটার থেকে গাইড! জাতীয় দলের ক্রিকেটারের অব...</td>\n",
              "      <td>কিছুদিন আগেই রাজ্যের গাইড বনে গিয়েছিলেন চেতেশ...</td>\n",
              "    </tr>\n",
              "    <tr>\n",
              "      <th>3</th>\n",
              "      <td>দুষ্কৃতীদের নজরে এটিএম, হাল হকিকত্ ঘুরে দেখলেন...</td>\n",
              "      <td>কলকাতায় দুষ্কৃতীদের নজরে এখন বিভিন্ন ব্যাঙ্কের...</td>\n",
              "    </tr>\n",
              "    <tr>\n",
              "      <th>4</th>\n",
              "      <td>সৌজন্যের বালাই নেই, দিনভর আকচা আকচি কং-বিজেপি’র</td>\n",
              "      <td>সারা দিন আকচা আকচিতেই কাটিয়ে দিল দেশের দুই বৃহ...</td>\n",
              "    </tr>\n",
              "  </tbody>\n",
              "</table>\n",
              "</div>\n",
              "    <div class=\"colab-df-buttons\">\n",
              "\n",
              "  <div class=\"colab-df-container\">\n",
              "    <button class=\"colab-df-convert\" onclick=\"convertToInteractive('df-5acbd2dd-54b0-4156-99a6-497e76da60fc')\"\n",
              "            title=\"Convert this dataframe to an interactive table.\"\n",
              "            style=\"display:none;\">\n",
              "\n",
              "  <svg xmlns=\"http://www.w3.org/2000/svg\" height=\"24px\" viewBox=\"0 -960 960 960\">\n",
              "    <path d=\"M120-120v-720h720v720H120Zm60-500h600v-160H180v160Zm220 220h160v-160H400v160Zm0 220h160v-160H400v160ZM180-400h160v-160H180v160Zm440 0h160v-160H620v160ZM180-180h160v-160H180v160Zm440 0h160v-160H620v160Z\"/>\n",
              "  </svg>\n",
              "    </button>\n",
              "\n",
              "  <style>\n",
              "    .colab-df-container {\n",
              "      display:flex;\n",
              "      gap: 12px;\n",
              "    }\n",
              "\n",
              "    .colab-df-convert {\n",
              "      background-color: #E8F0FE;\n",
              "      border: none;\n",
              "      border-radius: 50%;\n",
              "      cursor: pointer;\n",
              "      display: none;\n",
              "      fill: #1967D2;\n",
              "      height: 32px;\n",
              "      padding: 0 0 0 0;\n",
              "      width: 32px;\n",
              "    }\n",
              "\n",
              "    .colab-df-convert:hover {\n",
              "      background-color: #E2EBFA;\n",
              "      box-shadow: 0px 1px 2px rgba(60, 64, 67, 0.3), 0px 1px 3px 1px rgba(60, 64, 67, 0.15);\n",
              "      fill: #174EA6;\n",
              "    }\n",
              "\n",
              "    .colab-df-buttons div {\n",
              "      margin-bottom: 4px;\n",
              "    }\n",
              "\n",
              "    [theme=dark] .colab-df-convert {\n",
              "      background-color: #3B4455;\n",
              "      fill: #D2E3FC;\n",
              "    }\n",
              "\n",
              "    [theme=dark] .colab-df-convert:hover {\n",
              "      background-color: #434B5C;\n",
              "      box-shadow: 0px 1px 3px 1px rgba(0, 0, 0, 0.15);\n",
              "      filter: drop-shadow(0px 1px 2px rgba(0, 0, 0, 0.3));\n",
              "      fill: #FFFFFF;\n",
              "    }\n",
              "  </style>\n",
              "\n",
              "    <script>\n",
              "      const buttonEl =\n",
              "        document.querySelector('#df-5acbd2dd-54b0-4156-99a6-497e76da60fc button.colab-df-convert');\n",
              "      buttonEl.style.display =\n",
              "        google.colab.kernel.accessAllowed ? 'block' : 'none';\n",
              "\n",
              "      async function convertToInteractive(key) {\n",
              "        const element = document.querySelector('#df-5acbd2dd-54b0-4156-99a6-497e76da60fc');\n",
              "        const dataTable =\n",
              "          await google.colab.kernel.invokeFunction('convertToInteractive',\n",
              "                                                    [key], {});\n",
              "        if (!dataTable) return;\n",
              "\n",
              "        const docLinkHtml = 'Like what you see? Visit the ' +\n",
              "          '<a target=\"_blank\" href=https://colab.research.google.com/notebooks/data_table.ipynb>data table notebook</a>'\n",
              "          + ' to learn more about interactive tables.';\n",
              "        element.innerHTML = '';\n",
              "        dataTable['output_type'] = 'display_data';\n",
              "        await google.colab.output.renderOutput(dataTable, element);\n",
              "        const docLink = document.createElement('div');\n",
              "        docLink.innerHTML = docLinkHtml;\n",
              "        element.appendChild(docLink);\n",
              "      }\n",
              "    </script>\n",
              "  </div>\n",
              "\n",
              "\n",
              "<div id=\"df-b6af441c-81e6-4275-b3de-2331d55a1b48\">\n",
              "  <button class=\"colab-df-quickchart\" onclick=\"quickchart('df-b6af441c-81e6-4275-b3de-2331d55a1b48')\"\n",
              "            title=\"Suggest charts.\"\n",
              "            style=\"display:none;\">\n",
              "\n",
              "<svg xmlns=\"http://www.w3.org/2000/svg\" height=\"24px\"viewBox=\"0 0 24 24\"\n",
              "     width=\"24px\">\n",
              "    <g>\n",
              "        <path d=\"M19 3H5c-1.1 0-2 .9-2 2v14c0 1.1.9 2 2 2h14c1.1 0 2-.9 2-2V5c0-1.1-.9-2-2-2zM9 17H7v-7h2v7zm4 0h-2V7h2v10zm4 0h-2v-4h2v4z\"/>\n",
              "    </g>\n",
              "</svg>\n",
              "  </button>\n",
              "\n",
              "<style>\n",
              "  .colab-df-quickchart {\n",
              "    background-color: #E8F0FE;\n",
              "    border: none;\n",
              "    border-radius: 50%;\n",
              "    cursor: pointer;\n",
              "    display: none;\n",
              "    fill: #1967D2;\n",
              "    height: 32px;\n",
              "    padding: 0 0 0 0;\n",
              "    width: 32px;\n",
              "  }\n",
              "\n",
              "  .colab-df-quickchart:hover {\n",
              "    background-color: #E2EBFA;\n",
              "    box-shadow: 0px 1px 2px rgba(60, 64, 67, 0.3), 0px 1px 3px 1px rgba(60, 64, 67, 0.15);\n",
              "    fill: #174EA6;\n",
              "  }\n",
              "\n",
              "  [theme=dark] .colab-df-quickchart {\n",
              "    background-color: #3B4455;\n",
              "    fill: #D2E3FC;\n",
              "  }\n",
              "\n",
              "  [theme=dark] .colab-df-quickchart:hover {\n",
              "    background-color: #434B5C;\n",
              "    box-shadow: 0px 1px 3px 1px rgba(0, 0, 0, 0.15);\n",
              "    filter: drop-shadow(0px 1px 2px rgba(0, 0, 0, 0.3));\n",
              "    fill: #FFFFFF;\n",
              "  }\n",
              "</style>\n",
              "\n",
              "  <script>\n",
              "    async function quickchart(key) {\n",
              "      const charts = await google.colab.kernel.invokeFunction(\n",
              "          'suggestCharts', [key], {});\n",
              "    }\n",
              "    (() => {\n",
              "      let quickchartButtonEl =\n",
              "        document.querySelector('#df-b6af441c-81e6-4275-b3de-2331d55a1b48 button');\n",
              "      quickchartButtonEl.style.display =\n",
              "        google.colab.kernel.accessAllowed ? 'block' : 'none';\n",
              "    })();\n",
              "  </script>\n",
              "</div>\n",
              "    </div>\n",
              "  </div>\n"
            ]
          },
          "metadata": {},
          "execution_count": 7
        }
      ]
    },
    {
      "cell_type": "markdown",
      "source": [
        "# **Pre- processing data**"
      ],
      "metadata": {
        "id": "422iHs6Dxc53"
      },
      "id": "422iHs6Dxc53"
    },
    {
      "cell_type": "markdown",
      "metadata": {
        "id": "c7680a2e"
      },
      "source": [
        "> **Now we perform Data Cleansing**"
      ],
      "id": "c7680a2e"
    },
    {
      "cell_type": "code",
      "source": [
        "import re\n",
        "\n",
        "def clean_text(text):\n",
        "    # Define emoji removal pattern\n",
        "    emoji_pattern = re.compile(\"[\"\n",
        "                               u\"\\U0001F600-\\U0001F64F\"  # emoticons\n",
        "                               u\"\\U0001F300-\\U0001F5FF\"  # symbols & pictographs\n",
        "                               u\"\\U0001F680-\\U0001F6FF\"  # transport & map symbols\n",
        "                               u\"\\U0001F1E0-\\U0001F1FF\"  # flags (iOS)\n",
        "                               u\"\\U00002500-\\U00002BEF\"  # chinese char\n",
        "                               u\"\\U00002702-\\U000027B0\"\n",
        "                               u\"\\U00002702-\\U000027B0\"\n",
        "                               u\"\\U000024C2-\\U0001F251\"\n",
        "                               u\"\\U0001f926-\\U0001f937\"\n",
        "                               u\"\\U00010000-\\U0010ffff\"\n",
        "                               u\"\\u2640-\\u2642\"\n",
        "                               u\"\\u2600-\\u2B55\"\n",
        "                               u\"\\u200d\"\n",
        "                               u\"\\u23cf\"\n",
        "                               u\"\\u2066\"\n",
        "                               u\"\\u2069\"\n",
        "                               u\"\\u23e9\"\n",
        "                               u\"\\u231a\"\n",
        "                               u\"\\ufe0f\"  # dingbats\n",
        "                               u\"\\u3030\"\n",
        "                               \"]+\", flags=re.UNICODE)\n",
        "\n",
        "    # Remove English letters, links, numbers, and special characters\n",
        "    text = re.sub(r'http\\S+', '', text)  # Remove links\n",
        "    text = re.sub(r'[a-zA-Z]+', '', text)  # Remove English letters\n",
        "    text = re.sub(r'\\d+', '', text)  # Remove numbers\n",
        "    text = re.sub(r\"[<>()|&©ø@\\[\\]\\'\\\",;#?~*!।/—:.]\", ' ', text)  # Remove special characters\n",
        "\n",
        "    # Remove punctuation and special characters\n",
        "    punc = '''؛₹|!‼→¿()-[]{};–৷।:،۔•„'“‘—’”\"…\\,<>=./?@#$%^&*_~»«'''\n",
        "    for ele in text:\n",
        "        if ele in punc:\n",
        "            text = text.replace(ele, \"\")\n",
        "\n",
        "    # Remove emojis\n",
        "    text = emoji_pattern.sub(r'', text)\n",
        "\n",
        "    # Remove extra whitespaces\n",
        "    text = re.sub(r\"^\\s+|\\s+$\", \"\", text)\n",
        "    text = re.sub(' +', ' ', text)\n",
        "\n",
        "    text = bytes(text, 'utf-8').decode('utf-8', 'ignore')\n",
        "\n",
        "    return text\n",
        "\n",
        "# Apply the combined cleaning function to the columns you want to modify\n",
        "summary['title'] = summary['title'].apply(clean_text)\n",
        "summary['article'] = summary['article'].apply(clean_text)\n"
      ],
      "metadata": {
        "id": "arOyy52uJIll"
      },
      "id": "arOyy52uJIll",
      "execution_count": null,
      "outputs": []
    },
    {
      "cell_type": "code",
      "source": [
        "summary.head()"
      ],
      "metadata": {
        "colab": {
          "base_uri": "https://localhost:8080/",
          "height": 206
        },
        "id": "jPVwHOdVeOB6",
        "outputId": "3c883b58-0810-4254-efd4-96e65fe25c54"
      },
      "id": "jPVwHOdVeOB6",
      "execution_count": null,
      "outputs": [
        {
          "output_type": "execute_result",
          "data": {
            "text/plain": [
              "                                               title  \\\n",
              "0  এই অভিনেতার প্রস্তাব মানলে ভারতীয় সিনেমার খোলন...   \n",
              "1         সচিন সাংসদ হয়েছেন তাই চিন্তা কম জেটলির কেন   \n",
              "2  ক্রিকেটার থেকে গাইড জাতীয় দলের ক্রিকেটারের অবা...   \n",
              "3  দুষ্কৃতীদের নজরে এটিএম হাল হকিকত্ ঘুরে দেখলেন ...   \n",
              "4       সৌজন্যের বালাই নেই দিনভর আকচা আকচি কংবিজেপির   \n",
              "\n",
              "                                             article  \n",
              "0  স্রেফ দুটি টুইটেই সোশ্যাল মিডিয়ায় তোলপাড় ফেলে...  \n",
              "1  একবার রেল বাজেট একবার সাধারণ বাজেট খবরের শিরোন...  \n",
              "2  কিছুদিন আগেই রাজ্যের গাইড বনে গিয়েছিলেন চেতেশ্...  \n",
              "3  কলকাতায় দুষ্কৃতীদের নজরে এখন বিভিন্ন ব্যাঙ্কের...  \n",
              "4  সারা দিন আকচা আকচিতেই কাটিয়ে দিল দেশের দুই বৃহ...  "
            ],
            "text/html": [
              "\n",
              "  <div id=\"df-ae9b0ce3-ac20-431b-a018-07b1e4ed9850\" class=\"colab-df-container\">\n",
              "    <div>\n",
              "<style scoped>\n",
              "    .dataframe tbody tr th:only-of-type {\n",
              "        vertical-align: middle;\n",
              "    }\n",
              "\n",
              "    .dataframe tbody tr th {\n",
              "        vertical-align: top;\n",
              "    }\n",
              "\n",
              "    .dataframe thead th {\n",
              "        text-align: right;\n",
              "    }\n",
              "</style>\n",
              "<table border=\"1\" class=\"dataframe\">\n",
              "  <thead>\n",
              "    <tr style=\"text-align: right;\">\n",
              "      <th></th>\n",
              "      <th>title</th>\n",
              "      <th>article</th>\n",
              "    </tr>\n",
              "  </thead>\n",
              "  <tbody>\n",
              "    <tr>\n",
              "      <th>0</th>\n",
              "      <td>এই অভিনেতার প্রস্তাব মানলে ভারতীয় সিনেমার খোলন...</td>\n",
              "      <td>স্রেফ দুটি টুইটেই সোশ্যাল মিডিয়ায় তোলপাড় ফেলে...</td>\n",
              "    </tr>\n",
              "    <tr>\n",
              "      <th>1</th>\n",
              "      <td>সচিন সাংসদ হয়েছেন তাই চিন্তা কম জেটলির কেন</td>\n",
              "      <td>একবার রেল বাজেট একবার সাধারণ বাজেট খবরের শিরোন...</td>\n",
              "    </tr>\n",
              "    <tr>\n",
              "      <th>2</th>\n",
              "      <td>ক্রিকেটার থেকে গাইড জাতীয় দলের ক্রিকেটারের অবা...</td>\n",
              "      <td>কিছুদিন আগেই রাজ্যের গাইড বনে গিয়েছিলেন চেতেশ্...</td>\n",
              "    </tr>\n",
              "    <tr>\n",
              "      <th>3</th>\n",
              "      <td>দুষ্কৃতীদের নজরে এটিএম হাল হকিকত্ ঘুরে দেখলেন ...</td>\n",
              "      <td>কলকাতায় দুষ্কৃতীদের নজরে এখন বিভিন্ন ব্যাঙ্কের...</td>\n",
              "    </tr>\n",
              "    <tr>\n",
              "      <th>4</th>\n",
              "      <td>সৌজন্যের বালাই নেই দিনভর আকচা আকচি কংবিজেপির</td>\n",
              "      <td>সারা দিন আকচা আকচিতেই কাটিয়ে দিল দেশের দুই বৃহ...</td>\n",
              "    </tr>\n",
              "  </tbody>\n",
              "</table>\n",
              "</div>\n",
              "    <div class=\"colab-df-buttons\">\n",
              "\n",
              "  <div class=\"colab-df-container\">\n",
              "    <button class=\"colab-df-convert\" onclick=\"convertToInteractive('df-ae9b0ce3-ac20-431b-a018-07b1e4ed9850')\"\n",
              "            title=\"Convert this dataframe to an interactive table.\"\n",
              "            style=\"display:none;\">\n",
              "\n",
              "  <svg xmlns=\"http://www.w3.org/2000/svg\" height=\"24px\" viewBox=\"0 -960 960 960\">\n",
              "    <path d=\"M120-120v-720h720v720H120Zm60-500h600v-160H180v160Zm220 220h160v-160H400v160Zm0 220h160v-160H400v160ZM180-400h160v-160H180v160Zm440 0h160v-160H620v160ZM180-180h160v-160H180v160Zm440 0h160v-160H620v160Z\"/>\n",
              "  </svg>\n",
              "    </button>\n",
              "\n",
              "  <style>\n",
              "    .colab-df-container {\n",
              "      display:flex;\n",
              "      gap: 12px;\n",
              "    }\n",
              "\n",
              "    .colab-df-convert {\n",
              "      background-color: #E8F0FE;\n",
              "      border: none;\n",
              "      border-radius: 50%;\n",
              "      cursor: pointer;\n",
              "      display: none;\n",
              "      fill: #1967D2;\n",
              "      height: 32px;\n",
              "      padding: 0 0 0 0;\n",
              "      width: 32px;\n",
              "    }\n",
              "\n",
              "    .colab-df-convert:hover {\n",
              "      background-color: #E2EBFA;\n",
              "      box-shadow: 0px 1px 2px rgba(60, 64, 67, 0.3), 0px 1px 3px 1px rgba(60, 64, 67, 0.15);\n",
              "      fill: #174EA6;\n",
              "    }\n",
              "\n",
              "    .colab-df-buttons div {\n",
              "      margin-bottom: 4px;\n",
              "    }\n",
              "\n",
              "    [theme=dark] .colab-df-convert {\n",
              "      background-color: #3B4455;\n",
              "      fill: #D2E3FC;\n",
              "    }\n",
              "\n",
              "    [theme=dark] .colab-df-convert:hover {\n",
              "      background-color: #434B5C;\n",
              "      box-shadow: 0px 1px 3px 1px rgba(0, 0, 0, 0.15);\n",
              "      filter: drop-shadow(0px 1px 2px rgba(0, 0, 0, 0.3));\n",
              "      fill: #FFFFFF;\n",
              "    }\n",
              "  </style>\n",
              "\n",
              "    <script>\n",
              "      const buttonEl =\n",
              "        document.querySelector('#df-ae9b0ce3-ac20-431b-a018-07b1e4ed9850 button.colab-df-convert');\n",
              "      buttonEl.style.display =\n",
              "        google.colab.kernel.accessAllowed ? 'block' : 'none';\n",
              "\n",
              "      async function convertToInteractive(key) {\n",
              "        const element = document.querySelector('#df-ae9b0ce3-ac20-431b-a018-07b1e4ed9850');\n",
              "        const dataTable =\n",
              "          await google.colab.kernel.invokeFunction('convertToInteractive',\n",
              "                                                    [key], {});\n",
              "        if (!dataTable) return;\n",
              "\n",
              "        const docLinkHtml = 'Like what you see? Visit the ' +\n",
              "          '<a target=\"_blank\" href=https://colab.research.google.com/notebooks/data_table.ipynb>data table notebook</a>'\n",
              "          + ' to learn more about interactive tables.';\n",
              "        element.innerHTML = '';\n",
              "        dataTable['output_type'] = 'display_data';\n",
              "        await google.colab.output.renderOutput(dataTable, element);\n",
              "        const docLink = document.createElement('div');\n",
              "        docLink.innerHTML = docLinkHtml;\n",
              "        element.appendChild(docLink);\n",
              "      }\n",
              "    </script>\n",
              "  </div>\n",
              "\n",
              "\n",
              "<div id=\"df-8ae1712f-581d-429d-8728-6dfdebae5567\">\n",
              "  <button class=\"colab-df-quickchart\" onclick=\"quickchart('df-8ae1712f-581d-429d-8728-6dfdebae5567')\"\n",
              "            title=\"Suggest charts.\"\n",
              "            style=\"display:none;\">\n",
              "\n",
              "<svg xmlns=\"http://www.w3.org/2000/svg\" height=\"24px\"viewBox=\"0 0 24 24\"\n",
              "     width=\"24px\">\n",
              "    <g>\n",
              "        <path d=\"M19 3H5c-1.1 0-2 .9-2 2v14c0 1.1.9 2 2 2h14c1.1 0 2-.9 2-2V5c0-1.1-.9-2-2-2zM9 17H7v-7h2v7zm4 0h-2V7h2v10zm4 0h-2v-4h2v4z\"/>\n",
              "    </g>\n",
              "</svg>\n",
              "  </button>\n",
              "\n",
              "<style>\n",
              "  .colab-df-quickchart {\n",
              "    background-color: #E8F0FE;\n",
              "    border: none;\n",
              "    border-radius: 50%;\n",
              "    cursor: pointer;\n",
              "    display: none;\n",
              "    fill: #1967D2;\n",
              "    height: 32px;\n",
              "    padding: 0 0 0 0;\n",
              "    width: 32px;\n",
              "  }\n",
              "\n",
              "  .colab-df-quickchart:hover {\n",
              "    background-color: #E2EBFA;\n",
              "    box-shadow: 0px 1px 2px rgba(60, 64, 67, 0.3), 0px 1px 3px 1px rgba(60, 64, 67, 0.15);\n",
              "    fill: #174EA6;\n",
              "  }\n",
              "\n",
              "  [theme=dark] .colab-df-quickchart {\n",
              "    background-color: #3B4455;\n",
              "    fill: #D2E3FC;\n",
              "  }\n",
              "\n",
              "  [theme=dark] .colab-df-quickchart:hover {\n",
              "    background-color: #434B5C;\n",
              "    box-shadow: 0px 1px 3px 1px rgba(0, 0, 0, 0.15);\n",
              "    filter: drop-shadow(0px 1px 2px rgba(0, 0, 0, 0.3));\n",
              "    fill: #FFFFFF;\n",
              "  }\n",
              "</style>\n",
              "\n",
              "  <script>\n",
              "    async function quickchart(key) {\n",
              "      const charts = await google.colab.kernel.invokeFunction(\n",
              "          'suggestCharts', [key], {});\n",
              "    }\n",
              "    (() => {\n",
              "      let quickchartButtonEl =\n",
              "        document.querySelector('#df-8ae1712f-581d-429d-8728-6dfdebae5567 button');\n",
              "      quickchartButtonEl.style.display =\n",
              "        google.colab.kernel.accessAllowed ? 'block' : 'none';\n",
              "    })();\n",
              "  </script>\n",
              "</div>\n",
              "    </div>\n",
              "  </div>\n"
            ]
          },
          "metadata": {},
          "execution_count": 9
        }
      ]
    },
    {
      "cell_type": "markdown",
      "metadata": {
        "id": "b74214f8"
      },
      "source": [
        "Q. Why are we replacing non-alphabetical characters with single space here ?\n",
        "\n",
        "Ans -  As single space is a common text preprocessing technique so as to simplify the text and reduce noise.\n",
        "   * Improved Readability\n",
        "   * Uniformity\n",
        "   * Simplifying Text Analysis, etc"
      ],
      "id": "b74214f8"
    },
    {
      "cell_type": "code",
      "source": [
        "pre = summary.rename(columns={'title': 'summary', 'article': 'text'}, inplace=False)"
      ],
      "metadata": {
        "id": "kEeFsTgLp5HP"
      },
      "id": "kEeFsTgLp5HP",
      "execution_count": null,
      "outputs": []
    },
    {
      "cell_type": "code",
      "source": [
        "pre.head()"
      ],
      "metadata": {
        "colab": {
          "base_uri": "https://localhost:8080/",
          "height": 206
        },
        "id": "xtkJ1ZbJrPL7",
        "outputId": "65369f84-f780-4398-b991-893e7c4b62bc"
      },
      "id": "xtkJ1ZbJrPL7",
      "execution_count": null,
      "outputs": [
        {
          "output_type": "execute_result",
          "data": {
            "text/plain": [
              "                                             summary  \\\n",
              "0  এই অভিনেতার প্রস্তাব মানলে ভারতীয় সিনেমার খোলন...   \n",
              "1         সচিন সাংসদ হয়েছেন তাই চিন্তা কম জেটলির কেন   \n",
              "2  ক্রিকেটার থেকে গাইড জাতীয় দলের ক্রিকেটারের অবা...   \n",
              "3  দুষ্কৃতীদের নজরে এটিএম হাল হকিকত্ ঘুরে দেখলেন ...   \n",
              "4       সৌজন্যের বালাই নেই দিনভর আকচা আকচি কংবিজেপির   \n",
              "\n",
              "                                                text  \n",
              "0  স্রেফ দুটি টুইটেই সোশ্যাল মিডিয়ায় তোলপাড় ফেলে...  \n",
              "1  একবার রেল বাজেট একবার সাধারণ বাজেট খবরের শিরোন...  \n",
              "2  কিছুদিন আগেই রাজ্যের গাইড বনে গিয়েছিলেন চেতেশ্...  \n",
              "3  কলকাতায় দুষ্কৃতীদের নজরে এখন বিভিন্ন ব্যাঙ্কের...  \n",
              "4  সারা দিন আকচা আকচিতেই কাটিয়ে দিল দেশের দুই বৃহ...  "
            ],
            "text/html": [
              "\n",
              "  <div id=\"df-4dd89912-d99b-4fd2-bd2a-b00ebe951b0f\" class=\"colab-df-container\">\n",
              "    <div>\n",
              "<style scoped>\n",
              "    .dataframe tbody tr th:only-of-type {\n",
              "        vertical-align: middle;\n",
              "    }\n",
              "\n",
              "    .dataframe tbody tr th {\n",
              "        vertical-align: top;\n",
              "    }\n",
              "\n",
              "    .dataframe thead th {\n",
              "        text-align: right;\n",
              "    }\n",
              "</style>\n",
              "<table border=\"1\" class=\"dataframe\">\n",
              "  <thead>\n",
              "    <tr style=\"text-align: right;\">\n",
              "      <th></th>\n",
              "      <th>summary</th>\n",
              "      <th>text</th>\n",
              "    </tr>\n",
              "  </thead>\n",
              "  <tbody>\n",
              "    <tr>\n",
              "      <th>0</th>\n",
              "      <td>এই অভিনেতার প্রস্তাব মানলে ভারতীয় সিনেমার খোলন...</td>\n",
              "      <td>স্রেফ দুটি টুইটেই সোশ্যাল মিডিয়ায় তোলপাড় ফেলে...</td>\n",
              "    </tr>\n",
              "    <tr>\n",
              "      <th>1</th>\n",
              "      <td>সচিন সাংসদ হয়েছেন তাই চিন্তা কম জেটলির কেন</td>\n",
              "      <td>একবার রেল বাজেট একবার সাধারণ বাজেট খবরের শিরোন...</td>\n",
              "    </tr>\n",
              "    <tr>\n",
              "      <th>2</th>\n",
              "      <td>ক্রিকেটার থেকে গাইড জাতীয় দলের ক্রিকেটারের অবা...</td>\n",
              "      <td>কিছুদিন আগেই রাজ্যের গাইড বনে গিয়েছিলেন চেতেশ্...</td>\n",
              "    </tr>\n",
              "    <tr>\n",
              "      <th>3</th>\n",
              "      <td>দুষ্কৃতীদের নজরে এটিএম হাল হকিকত্ ঘুরে দেখলেন ...</td>\n",
              "      <td>কলকাতায় দুষ্কৃতীদের নজরে এখন বিভিন্ন ব্যাঙ্কের...</td>\n",
              "    </tr>\n",
              "    <tr>\n",
              "      <th>4</th>\n",
              "      <td>সৌজন্যের বালাই নেই দিনভর আকচা আকচি কংবিজেপির</td>\n",
              "      <td>সারা দিন আকচা আকচিতেই কাটিয়ে দিল দেশের দুই বৃহ...</td>\n",
              "    </tr>\n",
              "  </tbody>\n",
              "</table>\n",
              "</div>\n",
              "    <div class=\"colab-df-buttons\">\n",
              "\n",
              "  <div class=\"colab-df-container\">\n",
              "    <button class=\"colab-df-convert\" onclick=\"convertToInteractive('df-4dd89912-d99b-4fd2-bd2a-b00ebe951b0f')\"\n",
              "            title=\"Convert this dataframe to an interactive table.\"\n",
              "            style=\"display:none;\">\n",
              "\n",
              "  <svg xmlns=\"http://www.w3.org/2000/svg\" height=\"24px\" viewBox=\"0 -960 960 960\">\n",
              "    <path d=\"M120-120v-720h720v720H120Zm60-500h600v-160H180v160Zm220 220h160v-160H400v160Zm0 220h160v-160H400v160ZM180-400h160v-160H180v160Zm440 0h160v-160H620v160ZM180-180h160v-160H180v160Zm440 0h160v-160H620v160Z\"/>\n",
              "  </svg>\n",
              "    </button>\n",
              "\n",
              "  <style>\n",
              "    .colab-df-container {\n",
              "      display:flex;\n",
              "      gap: 12px;\n",
              "    }\n",
              "\n",
              "    .colab-df-convert {\n",
              "      background-color: #E8F0FE;\n",
              "      border: none;\n",
              "      border-radius: 50%;\n",
              "      cursor: pointer;\n",
              "      display: none;\n",
              "      fill: #1967D2;\n",
              "      height: 32px;\n",
              "      padding: 0 0 0 0;\n",
              "      width: 32px;\n",
              "    }\n",
              "\n",
              "    .colab-df-convert:hover {\n",
              "      background-color: #E2EBFA;\n",
              "      box-shadow: 0px 1px 2px rgba(60, 64, 67, 0.3), 0px 1px 3px 1px rgba(60, 64, 67, 0.15);\n",
              "      fill: #174EA6;\n",
              "    }\n",
              "\n",
              "    .colab-df-buttons div {\n",
              "      margin-bottom: 4px;\n",
              "    }\n",
              "\n",
              "    [theme=dark] .colab-df-convert {\n",
              "      background-color: #3B4455;\n",
              "      fill: #D2E3FC;\n",
              "    }\n",
              "\n",
              "    [theme=dark] .colab-df-convert:hover {\n",
              "      background-color: #434B5C;\n",
              "      box-shadow: 0px 1px 3px 1px rgba(0, 0, 0, 0.15);\n",
              "      filter: drop-shadow(0px 1px 2px rgba(0, 0, 0, 0.3));\n",
              "      fill: #FFFFFF;\n",
              "    }\n",
              "  </style>\n",
              "\n",
              "    <script>\n",
              "      const buttonEl =\n",
              "        document.querySelector('#df-4dd89912-d99b-4fd2-bd2a-b00ebe951b0f button.colab-df-convert');\n",
              "      buttonEl.style.display =\n",
              "        google.colab.kernel.accessAllowed ? 'block' : 'none';\n",
              "\n",
              "      async function convertToInteractive(key) {\n",
              "        const element = document.querySelector('#df-4dd89912-d99b-4fd2-bd2a-b00ebe951b0f');\n",
              "        const dataTable =\n",
              "          await google.colab.kernel.invokeFunction('convertToInteractive',\n",
              "                                                    [key], {});\n",
              "        if (!dataTable) return;\n",
              "\n",
              "        const docLinkHtml = 'Like what you see? Visit the ' +\n",
              "          '<a target=\"_blank\" href=https://colab.research.google.com/notebooks/data_table.ipynb>data table notebook</a>'\n",
              "          + ' to learn more about interactive tables.';\n",
              "        element.innerHTML = '';\n",
              "        dataTable['output_type'] = 'display_data';\n",
              "        await google.colab.output.renderOutput(dataTable, element);\n",
              "        const docLink = document.createElement('div');\n",
              "        docLink.innerHTML = docLinkHtml;\n",
              "        element.appendChild(docLink);\n",
              "      }\n",
              "    </script>\n",
              "  </div>\n",
              "\n",
              "\n",
              "<div id=\"df-d0f96eff-48ed-44ba-9746-82fbfb49b4a8\">\n",
              "  <button class=\"colab-df-quickchart\" onclick=\"quickchart('df-d0f96eff-48ed-44ba-9746-82fbfb49b4a8')\"\n",
              "            title=\"Suggest charts.\"\n",
              "            style=\"display:none;\">\n",
              "\n",
              "<svg xmlns=\"http://www.w3.org/2000/svg\" height=\"24px\"viewBox=\"0 0 24 24\"\n",
              "     width=\"24px\">\n",
              "    <g>\n",
              "        <path d=\"M19 3H5c-1.1 0-2 .9-2 2v14c0 1.1.9 2 2 2h14c1.1 0 2-.9 2-2V5c0-1.1-.9-2-2-2zM9 17H7v-7h2v7zm4 0h-2V7h2v10zm4 0h-2v-4h2v4z\"/>\n",
              "    </g>\n",
              "</svg>\n",
              "  </button>\n",
              "\n",
              "<style>\n",
              "  .colab-df-quickchart {\n",
              "    background-color: #E8F0FE;\n",
              "    border: none;\n",
              "    border-radius: 50%;\n",
              "    cursor: pointer;\n",
              "    display: none;\n",
              "    fill: #1967D2;\n",
              "    height: 32px;\n",
              "    padding: 0 0 0 0;\n",
              "    width: 32px;\n",
              "  }\n",
              "\n",
              "  .colab-df-quickchart:hover {\n",
              "    background-color: #E2EBFA;\n",
              "    box-shadow: 0px 1px 2px rgba(60, 64, 67, 0.3), 0px 1px 3px 1px rgba(60, 64, 67, 0.15);\n",
              "    fill: #174EA6;\n",
              "  }\n",
              "\n",
              "  [theme=dark] .colab-df-quickchart {\n",
              "    background-color: #3B4455;\n",
              "    fill: #D2E3FC;\n",
              "  }\n",
              "\n",
              "  [theme=dark] .colab-df-quickchart:hover {\n",
              "    background-color: #434B5C;\n",
              "    box-shadow: 0px 1px 3px 1px rgba(0, 0, 0, 0.15);\n",
              "    filter: drop-shadow(0px 1px 2px rgba(0, 0, 0, 0.3));\n",
              "    fill: #FFFFFF;\n",
              "  }\n",
              "</style>\n",
              "\n",
              "  <script>\n",
              "    async function quickchart(key) {\n",
              "      const charts = await google.colab.kernel.invokeFunction(\n",
              "          'suggestCharts', [key], {});\n",
              "    }\n",
              "    (() => {\n",
              "      let quickchartButtonEl =\n",
              "        document.querySelector('#df-d0f96eff-48ed-44ba-9746-82fbfb49b4a8 button');\n",
              "      quickchartButtonEl.style.display =\n",
              "        google.colab.kernel.accessAllowed ? 'block' : 'none';\n",
              "    })();\n",
              "  </script>\n",
              "</div>\n",
              "    </div>\n",
              "  </div>\n"
            ]
          },
          "metadata": {},
          "execution_count": 11
        }
      ]
    },
    {
      "cell_type": "code",
      "execution_count": null,
      "metadata": {
        "id": "5b8bbdb3"
      },
      "outputs": [],
      "source": [
        "text_clean=pre['summary']"
      ],
      "id": "5b8bbdb3"
    },
    {
      "cell_type": "code",
      "execution_count": null,
      "metadata": {
        "id": "1f13e53d"
      },
      "outputs": [],
      "source": [
        "import pandas as pd\n",
        "\n",
        "# Assuming 'pre' is your DataFrame\n",
        "# and you want to apply the text_apply function to a specific column\n",
        "\n",
        "def text_apply(summary):\n",
        "    a = '_START_ ' + summary + ' _END_'\n",
        "    return a\n",
        "\n",
        "# Make sure you replace 'summary' with the actual column name you want to process\n",
        "pre['summary'] = pre['summary'].apply(text_apply)\n"
      ],
      "id": "1f13e53d"
    },
    {
      "cell_type": "code",
      "execution_count": null,
      "metadata": {
        "colab": {
          "base_uri": "https://localhost:8080/"
        },
        "id": "b318a815",
        "outputId": "fd6a30ed-7c21-49fa-d531-c83b293b4dab"
      },
      "outputs": [
        {
          "output_type": "execute_result",
          "data": {
            "text/plain": [
              "0    _START_ এই অভিনেতার প্রস্তাব মানলে ভারতীয় সিনে...\n",
              "1    _START_ সচিন সাংসদ হয়েছেন তাই চিন্তা কম জেটলির...\n",
              "2    _START_ ক্রিকেটার থেকে গাইড জাতীয় দলের ক্রিকেট...\n",
              "3    _START_ দুষ্কৃতীদের নজরে এটিএম হাল হকিকত্ ঘুরে...\n",
              "4    _START_ সৌজন্যের বালাই নেই দিনভর আকচা আকচি কংব...\n",
              "5    _START_ নোট বদলের ধাক্কায় কেমন হল বিয়ে জানুন _...\n",
              "6                        _START_ সিপিএমের মুখিয়া _END_\n",
              "7    _START_ গড়িয়ায় দফায় দফায় গণধর্ষণের শিকার অষ্টম...\n",
              "8    _START_ বামেদের ধর্মঘটকে সমর্থন নবান্ন অভিযানে...\n",
              "9                     _START_ আকাশবাড়ির হাতছানি _END_\n",
              "Name: summary, dtype: object"
            ]
          },
          "metadata": {},
          "execution_count": 14
        }
      ],
      "source": [
        "pre['summary'][:10]"
      ],
      "id": "b318a815"
    },
    {
      "cell_type": "code",
      "execution_count": null,
      "metadata": {
        "id": "c3929f16"
      },
      "outputs": [],
      "source": [
        "text_count = [] # list\n",
        "summary_count = []"
      ],
      "id": "c3929f16"
    },
    {
      "cell_type": "code",
      "execution_count": null,
      "metadata": {
        "id": "877fbf89"
      },
      "outputs": [],
      "source": [
        "for sent in pre['text']: #iterates over each sentences in 'cleaned_text'\n",
        "    text_count.append(len(sent.split()))\n",
        "\n",
        "    #calculates word count of the sentence and appends the count to 'text_count'\n",
        "\n",
        "    #sentence is split into words using split()\n",
        "\n",
        "for sent in pre['summary']:\n",
        "    summary_count.append(len(sent.split()))"
      ],
      "id": "877fbf89"
    },
    {
      "cell_type": "code",
      "execution_count": null,
      "metadata": {
        "id": "9673791f"
      },
      "outputs": [],
      "source": [
        "graph_df= pd.DataFrame()\n",
        "graph_df['text']=text_count\n",
        "graph_df['summary']=summary_count"
      ],
      "id": "9673791f"
    },
    {
      "cell_type": "code",
      "execution_count": null,
      "metadata": {
        "colab": {
          "base_uri": "https://localhost:8080/",
          "height": 452
        },
        "id": "aa469cab",
        "outputId": "fa7ea6e2-5d0a-475f-db8e-0a9e023ee7d7"
      },
      "outputs": [
        {
          "output_type": "display_data",
          "data": {
            "text/plain": [
              "<Figure size 640x480 with 2 Axes>"
            ],
            "image/png": "[encoded data removed]"
          },
          "metadata": {}
        }
      ],
      "source": [
        "import matplotlib.pyplot as plt\n",
        "\n",
        "graph_df.hist(bins = 5) #smaller bins - larger intervals and vice versa\n",
        "plt.show()\n",
        "\n",
        "#"
      ],
      "id": "aa469cab"
    },
    {
      "cell_type": "code",
      "execution_count": null,
      "metadata": {
        "colab": {
          "base_uri": "https://localhost:8080/"
        },
        "id": "d0aa82a6",
        "outputId": "83b9f305-32cc-4cd5-fa2a-fba1a247af57"
      },
      "outputs": [
        {
          "output_type": "stream",
          "name": "stdout",
          "text": [
            "99.39950547509714 %\n"
          ]
        }
      ],
      "source": [
        "#Check how much % of summary have 0-20 words\n",
        "cnt=0\n",
        "for i in pre['summary']:\n",
        "    if(len(i.split())<=16):\n",
        "        cnt=cnt+1\n",
        "print(cnt/len(pre['summary'])*100,'%')"
      ],
      "id": "d0aa82a6"
    },
    {
      "cell_type": "code",
      "execution_count": null,
      "metadata": {
        "colab": {
          "base_uri": "https://localhost:8080/"
        },
        "id": "ce81ae89",
        "outputId": "554d278a-49e2-44f7-8434-80e39a8a3105"
      },
      "outputs": [
        {
          "output_type": "stream",
          "name": "stdout",
          "text": [
            "81.01377605086542 %\n"
          ]
        }
      ],
      "source": [
        "#Check how much % of text have 0-300 words\n",
        "cnt=0\n",
        "for i in pre['text']:\n",
        "    if(len(i.split())<=300):\n",
        "        cnt=cnt+1\n",
        "print(cnt/len(pre['text'])*100,'%')"
      ],
      "id": "ce81ae89"
    },
    {
      "cell_type": "code",
      "execution_count": null,
      "metadata": {
        "id": "67a43a92"
      },
      "outputs": [],
      "source": [
        "#Model to summarize the text between 0-10 words for Summary and 0-300 words for Text\n",
        "max_text_len=300\n",
        "max_summary_len=16\n",
        "\n",
        "# these values are found from the histogram"
      ],
      "id": "67a43a92"
    },
    {
      "cell_type": "code",
      "execution_count": null,
      "metadata": {
        "id": "f13259cd"
      },
      "outputs": [],
      "source": [
        "#Select the Summaries and Text between max len defined above\n",
        "\n",
        "text =np.array(pre['text'])\n",
        "summary=np.array(pre['summary'])\n",
        "\n",
        "short_text=[]\n",
        "short_summary=[]\n",
        "\n",
        "for i in range(len(text)):\n",
        "    if(len(summary [i].split())<=max_summary_len and len(text[i].split())<=max_text_len):\n",
        "        #length of the sentence in \"summary  must be <=max_summary_len and lly max_text_len\n",
        "        short_text.append(text[i])\n",
        "        short_summary.append(summary [i])\n",
        "\n",
        "post_pre=pd.DataFrame({'text':short_text,'summary':short_summary})"
      ],
      "id": "f13259cd"
    },
    {
      "cell_type": "code",
      "execution_count": null,
      "metadata": {
        "colab": {
          "base_uri": "https://localhost:8080/",
          "height": 112
        },
        "id": "47c77123",
        "outputId": "390a5417-03cf-416d-ea4f-af63f9079991"
      },
      "outputs": [
        {
          "output_type": "execute_result",
          "data": {
            "text/plain": [
              "                                                text  \\\n",
              "0  স্রেফ দুটি টুইটেই সোশ্যাল মিডিয়ায় তোলপাড় ফেলে...   \n",
              "1  একবার রেল বাজেট একবার সাধারণ বাজেট খবরের শিরোন...   \n",
              "\n",
              "                                             summary  \n",
              "0  _START_ এই অভিনেতার প্রস্তাব মানলে ভারতীয় সিনে...  \n",
              "1  _START_ সচিন সাংসদ হয়েছেন তাই চিন্তা কম জেটলির...  "
            ],
            "text/html": [
              "\n",
              "  <div id=\"df-f7a608b4-f188-4348-8680-d4cc9773eb76\" class=\"colab-df-container\">\n",
              "    <div>\n",
              "<style scoped>\n",
              "    .dataframe tbody tr th:only-of-type {\n",
              "        vertical-align: middle;\n",
              "    }\n",
              "\n",
              "    .dataframe tbody tr th {\n",
              "        vertical-align: top;\n",
              "    }\n",
              "\n",
              "    .dataframe thead th {\n",
              "        text-align: right;\n",
              "    }\n",
              "</style>\n",
              "<table border=\"1\" class=\"dataframe\">\n",
              "  <thead>\n",
              "    <tr style=\"text-align: right;\">\n",
              "      <th></th>\n",
              "      <th>text</th>\n",
              "      <th>summary</th>\n",
              "    </tr>\n",
              "  </thead>\n",
              "  <tbody>\n",
              "    <tr>\n",
              "      <th>0</th>\n",
              "      <td>স্রেফ দুটি টুইটেই সোশ্যাল মিডিয়ায় তোলপাড় ফেলে...</td>\n",
              "      <td>_START_ এই অভিনেতার প্রস্তাব মানলে ভারতীয় সিনে...</td>\n",
              "    </tr>\n",
              "    <tr>\n",
              "      <th>1</th>\n",
              "      <td>একবার রেল বাজেট একবার সাধারণ বাজেট খবরের শিরোন...</td>\n",
              "      <td>_START_ সচিন সাংসদ হয়েছেন তাই চিন্তা কম জেটলির...</td>\n",
              "    </tr>\n",
              "  </tbody>\n",
              "</table>\n",
              "</div>\n",
              "    <div class=\"colab-df-buttons\">\n",
              "\n",
              "  <div class=\"colab-df-container\">\n",
              "    <button class=\"colab-df-convert\" onclick=\"convertToInteractive('df-f7a608b4-f188-4348-8680-d4cc9773eb76')\"\n",
              "            title=\"Convert this dataframe to an interactive table.\"\n",
              "            style=\"display:none;\">\n",
              "\n",
              "  <svg xmlns=\"http://www.w3.org/2000/svg\" height=\"24px\" viewBox=\"0 -960 960 960\">\n",
              "    <path d=\"M120-120v-720h720v720H120Zm60-500h600v-160H180v160Zm220 220h160v-160H400v160Zm0 220h160v-160H400v160ZM180-400h160v-160H180v160Zm440 0h160v-160H620v160ZM180-180h160v-160H180v160Zm440 0h160v-160H620v160Z\"/>\n",
              "  </svg>\n",
              "    </button>\n",
              "\n",
              "  <style>\n",
              "    .colab-df-container {\n",
              "      display:flex;\n",
              "      gap: 12px;\n",
              "    }\n",
              "\n",
              "    .colab-df-convert {\n",
              "      background-color: #E8F0FE;\n",
              "      border: none;\n",
              "      border-radius: 50%;\n",
              "      cursor: pointer;\n",
              "      display: none;\n",
              "      fill: #1967D2;\n",
              "      height: 32px;\n",
              "      padding: 0 0 0 0;\n",
              "      width: 32px;\n",
              "    }\n",
              "\n",
              "    .colab-df-convert:hover {\n",
              "      background-color: #E2EBFA;\n",
              "      box-shadow: 0px 1px 2px rgba(60, 64, 67, 0.3), 0px 1px 3px 1px rgba(60, 64, 67, 0.15);\n",
              "      fill: #174EA6;\n",
              "    }\n",
              "\n",
              "    .colab-df-buttons div {\n",
              "      margin-bottom: 4px;\n",
              "    }\n",
              "\n",
              "    [theme=dark] .colab-df-convert {\n",
              "      background-color: #3B4455;\n",
              "      fill: #D2E3FC;\n",
              "    }\n",
              "\n",
              "    [theme=dark] .colab-df-convert:hover {\n",
              "      background-color: #434B5C;\n",
              "      box-shadow: 0px 1px 3px 1px rgba(0, 0, 0, 0.15);\n",
              "      filter: drop-shadow(0px 1px 2px rgba(0, 0, 0, 0.3));\n",
              "      fill: #FFFFFF;\n",
              "    }\n",
              "  </style>\n",
              "\n",
              "    <script>\n",
              "      const buttonEl =\n",
              "        document.querySelector('#df-f7a608b4-f188-4348-8680-d4cc9773eb76 button.colab-df-convert');\n",
              "      buttonEl.style.display =\n",
              "        google.colab.kernel.accessAllowed ? 'block' : 'none';\n",
              "\n",
              "      async function convertToInteractive(key) {\n",
              "        const element = document.querySelector('#df-f7a608b4-f188-4348-8680-d4cc9773eb76');\n",
              "        const dataTable =\n",
              "          await google.colab.kernel.invokeFunction('convertToInteractive',\n",
              "                                                    [key], {});\n",
              "        if (!dataTable) return;\n",
              "\n",
              "        const docLinkHtml = 'Like what you see? Visit the ' +\n",
              "          '<a target=\"_blank\" href=https://colab.research.google.com/notebooks/data_table.ipynb>data table notebook</a>'\n",
              "          + ' to learn more about interactive tables.';\n",
              "        element.innerHTML = '';\n",
              "        dataTable['output_type'] = 'display_data';\n",
              "        await google.colab.output.renderOutput(dataTable, element);\n",
              "        const docLink = document.createElement('div');\n",
              "        docLink.innerHTML = docLinkHtml;\n",
              "        element.appendChild(docLink);\n",
              "      }\n",
              "    </script>\n",
              "  </div>\n",
              "\n",
              "\n",
              "<div id=\"df-d0f4b606-3f37-4e76-93fa-f30ef95f7bc3\">\n",
              "  <button class=\"colab-df-quickchart\" onclick=\"quickchart('df-d0f4b606-3f37-4e76-93fa-f30ef95f7bc3')\"\n",
              "            title=\"Suggest charts.\"\n",
              "            style=\"display:none;\">\n",
              "\n",
              "<svg xmlns=\"http://www.w3.org/2000/svg\" height=\"24px\"viewBox=\"0 0 24 24\"\n",
              "     width=\"24px\">\n",
              "    <g>\n",
              "        <path d=\"M19 3H5c-1.1 0-2 .9-2 2v14c0 1.1.9 2 2 2h14c1.1 0 2-.9 2-2V5c0-1.1-.9-2-2-2zM9 17H7v-7h2v7zm4 0h-2V7h2v10zm4 0h-2v-4h2v4z\"/>\n",
              "    </g>\n",
              "</svg>\n",
              "  </button>\n",
              "\n",
              "<style>\n",
              "  .colab-df-quickchart {\n",
              "    background-color: #E8F0FE;\n",
              "    border: none;\n",
              "    border-radius: 50%;\n",
              "    cursor: pointer;\n",
              "    display: none;\n",
              "    fill: #1967D2;\n",
              "    height: 32px;\n",
              "    padding: 0 0 0 0;\n",
              "    width: 32px;\n",
              "  }\n",
              "\n",
              "  .colab-df-quickchart:hover {\n",
              "    background-color: #E2EBFA;\n",
              "    box-shadow: 0px 1px 2px rgba(60, 64, 67, 0.3), 0px 1px 3px 1px rgba(60, 64, 67, 0.15);\n",
              "    fill: #174EA6;\n",
              "  }\n",
              "\n",
              "  [theme=dark] .colab-df-quickchart {\n",
              "    background-color: #3B4455;\n",
              "    fill: #D2E3FC;\n",
              "  }\n",
              "\n",
              "  [theme=dark] .colab-df-quickchart:hover {\n",
              "    background-color: #434B5C;\n",
              "    box-shadow: 0px 1px 3px 1px rgba(0, 0, 0, 0.15);\n",
              "    filter: drop-shadow(0px 1px 2px rgba(0, 0, 0, 0.3));\n",
              "    fill: #FFFFFF;\n",
              "  }\n",
              "</style>\n",
              "\n",
              "  <script>\n",
              "    async function quickchart(key) {\n",
              "      const charts = await google.colab.kernel.invokeFunction(\n",
              "          'suggestCharts', [key], {});\n",
              "    }\n",
              "    (() => {\n",
              "      let quickchartButtonEl =\n",
              "        document.querySelector('#df-d0f4b606-3f37-4e76-93fa-f30ef95f7bc3 button');\n",
              "      quickchartButtonEl.style.display =\n",
              "        google.colab.kernel.accessAllowed ? 'block' : 'none';\n",
              "    })();\n",
              "  </script>\n",
              "</div>\n",
              "    </div>\n",
              "  </div>\n"
            ]
          },
          "metadata": {},
          "execution_count": 23
        }
      ],
      "source": [
        "post_pre.head(2)"
      ],
      "id": "47c77123"
    },
    {
      "cell_type": "code",
      "source": [
        "len(post_pre)"
      ],
      "metadata": {
        "colab": {
          "base_uri": "https://localhost:8080/"
        },
        "id": "C7mb8Xnvwbfw",
        "outputId": "f06e0a14-67cc-4edd-fff2-36cdd9b4806c"
      },
      "id": "C7mb8Xnvwbfw",
      "execution_count": null,
      "outputs": [
        {
          "output_type": "execute_result",
          "data": {
            "text/plain": [
              "9125"
            ]
          },
          "metadata": {},
          "execution_count": 24
        }
      ]
    },
    {
      "cell_type": "code",
      "execution_count": null,
      "metadata": {
        "id": "db0e3342"
      },
      "outputs": [],
      "source": [
        "#Add sostok and eostok at\n",
        "\n",
        "#The tokens help the model in identifying the start and end of a sequence\n",
        "\n",
        "# sostok-start token at the beginning # eostok -end token at the end of each sentences\n",
        "\n",
        "post_pre['summary'] = post_pre['summary'].apply(lambda x : 'sostok '+ x + ' eostok')\n",
        "\n",
        "# lamda - takes a single argumnet x and represents each element (sentence) in the 'summary' column"
      ],
      "id": "db0e3342"
    },
    {
      "cell_type": "code",
      "execution_count": null,
      "metadata": {
        "colab": {
          "base_uri": "https://localhost:8080/",
          "height": 112
        },
        "id": "5f5953a8",
        "outputId": "9ca92d70-8ef3-45ba-8d17-3e74beacf1a4"
      },
      "outputs": [
        {
          "output_type": "execute_result",
          "data": {
            "text/plain": [
              "                                                text  \\\n",
              "0  স্রেফ দুটি টুইটেই সোশ্যাল মিডিয়ায় তোলপাড় ফেলে...   \n",
              "1  একবার রেল বাজেট একবার সাধারণ বাজেট খবরের শিরোন...   \n",
              "\n",
              "                                             summary  \n",
              "0  sostok _START_ এই অভিনেতার প্রস্তাব মানলে ভারত...  \n",
              "1  sostok _START_ সচিন সাংসদ হয়েছেন তাই চিন্তা কম...  "
            ],
            "text/html": [
              "\n",
              "  <div id=\"df-b9ad1d74-a499-4645-b635-1b4d32a2c38f\" class=\"colab-df-container\">\n",
              "    <div>\n",
              "<style scoped>\n",
              "    .dataframe tbody tr th:only-of-type {\n",
              "        vertical-align: middle;\n",
              "    }\n",
              "\n",
              "    .dataframe tbody tr th {\n",
              "        vertical-align: top;\n",
              "    }\n",
              "\n",
              "    .dataframe thead th {\n",
              "        text-align: right;\n",
              "    }\n",
              "</style>\n",
              "<table border=\"1\" class=\"dataframe\">\n",
              "  <thead>\n",
              "    <tr style=\"text-align: right;\">\n",
              "      <th></th>\n",
              "      <th>text</th>\n",
              "      <th>summary</th>\n",
              "    </tr>\n",
              "  </thead>\n",
              "  <tbody>\n",
              "    <tr>\n",
              "      <th>0</th>\n",
              "      <td>স্রেফ দুটি টুইটেই সোশ্যাল মিডিয়ায় তোলপাড় ফেলে...</td>\n",
              "      <td>sostok _START_ এই অভিনেতার প্রস্তাব মানলে ভারত...</td>\n",
              "    </tr>\n",
              "    <tr>\n",
              "      <th>1</th>\n",
              "      <td>একবার রেল বাজেট একবার সাধারণ বাজেট খবরের শিরোন...</td>\n",
              "      <td>sostok _START_ সচিন সাংসদ হয়েছেন তাই চিন্তা কম...</td>\n",
              "    </tr>\n",
              "  </tbody>\n",
              "</table>\n",
              "</div>\n",
              "    <div class=\"colab-df-buttons\">\n",
              "\n",
              "  <div class=\"colab-df-container\">\n",
              "    <button class=\"colab-df-convert\" onclick=\"convertToInteractive('df-b9ad1d74-a499-4645-b635-1b4d32a2c38f')\"\n",
              "            title=\"Convert this dataframe to an interactive table.\"\n",
              "            style=\"display:none;\">\n",
              "\n",
              "  <svg xmlns=\"http://www.w3.org/2000/svg\" height=\"24px\" viewBox=\"0 -960 960 960\">\n",
              "    <path d=\"M120-120v-720h720v720H120Zm60-500h600v-160H180v160Zm220 220h160v-160H400v160Zm0 220h160v-160H400v160ZM180-400h160v-160H180v160Zm440 0h160v-160H620v160ZM180-180h160v-160H180v160Zm440 0h160v-160H620v160Z\"/>\n",
              "  </svg>\n",
              "    </button>\n",
              "\n",
              "  <style>\n",
              "    .colab-df-container {\n",
              "      display:flex;\n",
              "      gap: 12px;\n",
              "    }\n",
              "\n",
              "    .colab-df-convert {\n",
              "      background-color: #E8F0FE;\n",
              "      border: none;\n",
              "      border-radius: 50%;\n",
              "      cursor: pointer;\n",
              "      display: none;\n",
              "      fill: #1967D2;\n",
              "      height: 32px;\n",
              "      padding: 0 0 0 0;\n",
              "      width: 32px;\n",
              "    }\n",
              "\n",
              "    .colab-df-convert:hover {\n",
              "      background-color: #E2EBFA;\n",
              "      box-shadow: 0px 1px 2px rgba(60, 64, 67, 0.3), 0px 1px 3px 1px rgba(60, 64, 67, 0.15);\n",
              "      fill: #174EA6;\n",
              "    }\n",
              "\n",
              "    .colab-df-buttons div {\n",
              "      margin-bottom: 4px;\n",
              "    }\n",
              "\n",
              "    [theme=dark] .colab-df-convert {\n",
              "      background-color: #3B4455;\n",
              "      fill: #D2E3FC;\n",
              "    }\n",
              "\n",
              "    [theme=dark] .colab-df-convert:hover {\n",
              "      background-color: #434B5C;\n",
              "      box-shadow: 0px 1px 3px 1px rgba(0, 0, 0, 0.15);\n",
              "      filter: drop-shadow(0px 1px 2px rgba(0, 0, 0, 0.3));\n",
              "      fill: #FFFFFF;\n",
              "    }\n",
              "  </style>\n",
              "\n",
              "    <script>\n",
              "      const buttonEl =\n",
              "        document.querySelector('#df-b9ad1d74-a499-4645-b635-1b4d32a2c38f button.colab-df-convert');\n",
              "      buttonEl.style.display =\n",
              "        google.colab.kernel.accessAllowed ? 'block' : 'none';\n",
              "\n",
              "      async function convertToInteractive(key) {\n",
              "        const element = document.querySelector('#df-b9ad1d74-a499-4645-b635-1b4d32a2c38f');\n",
              "        const dataTable =\n",
              "          await google.colab.kernel.invokeFunction('convertToInteractive',\n",
              "                                                    [key], {});\n",
              "        if (!dataTable) return;\n",
              "\n",
              "        const docLinkHtml = 'Like what you see? Visit the ' +\n",
              "          '<a target=\"_blank\" href=https://colab.research.google.com/notebooks/data_table.ipynb>data table notebook</a>'\n",
              "          + ' to learn more about interactive tables.';\n",
              "        element.innerHTML = '';\n",
              "        dataTable['output_type'] = 'display_data';\n",
              "        await google.colab.output.renderOutput(dataTable, element);\n",
              "        const docLink = document.createElement('div');\n",
              "        docLink.innerHTML = docLinkHtml;\n",
              "        element.appendChild(docLink);\n",
              "      }\n",
              "    </script>\n",
              "  </div>\n",
              "\n",
              "\n",
              "<div id=\"df-c207f041-1cd5-4a7d-8e94-90e3251a449c\">\n",
              "  <button class=\"colab-df-quickchart\" onclick=\"quickchart('df-c207f041-1cd5-4a7d-8e94-90e3251a449c')\"\n",
              "            title=\"Suggest charts.\"\n",
              "            style=\"display:none;\">\n",
              "\n",
              "<svg xmlns=\"http://www.w3.org/2000/svg\" height=\"24px\"viewBox=\"0 0 24 24\"\n",
              "     width=\"24px\">\n",
              "    <g>\n",
              "        <path d=\"M19 3H5c-1.1 0-2 .9-2 2v14c0 1.1.9 2 2 2h14c1.1 0 2-.9 2-2V5c0-1.1-.9-2-2-2zM9 17H7v-7h2v7zm4 0h-2V7h2v10zm4 0h-2v-4h2v4z\"/>\n",
              "    </g>\n",
              "</svg>\n",
              "  </button>\n",
              "\n",
              "<style>\n",
              "  .colab-df-quickchart {\n",
              "    background-color: #E8F0FE;\n",
              "    border: none;\n",
              "    border-radius: 50%;\n",
              "    cursor: pointer;\n",
              "    display: none;\n",
              "    fill: #1967D2;\n",
              "    height: 32px;\n",
              "    padding: 0 0 0 0;\n",
              "    width: 32px;\n",
              "  }\n",
              "\n",
              "  .colab-df-quickchart:hover {\n",
              "    background-color: #E2EBFA;\n",
              "    box-shadow: 0px 1px 2px rgba(60, 64, 67, 0.3), 0px 1px 3px 1px rgba(60, 64, 67, 0.15);\n",
              "    fill: #174EA6;\n",
              "  }\n",
              "\n",
              "  [theme=dark] .colab-df-quickchart {\n",
              "    background-color: #3B4455;\n",
              "    fill: #D2E3FC;\n",
              "  }\n",
              "\n",
              "  [theme=dark] .colab-df-quickchart:hover {\n",
              "    background-color: #434B5C;\n",
              "    box-shadow: 0px 1px 3px 1px rgba(0, 0, 0, 0.15);\n",
              "    filter: drop-shadow(0px 1px 2px rgba(0, 0, 0, 0.3));\n",
              "    fill: #FFFFFF;\n",
              "  }\n",
              "</style>\n",
              "\n",
              "  <script>\n",
              "    async function quickchart(key) {\n",
              "      const charts = await google.colab.kernel.invokeFunction(\n",
              "          'suggestCharts', [key], {});\n",
              "    }\n",
              "    (() => {\n",
              "      let quickchartButtonEl =\n",
              "        document.querySelector('#df-c207f041-1cd5-4a7d-8e94-90e3251a449c button');\n",
              "      quickchartButtonEl.style.display =\n",
              "        google.colab.kernel.accessAllowed ? 'block' : 'none';\n",
              "    })();\n",
              "  </script>\n",
              "</div>\n",
              "    </div>\n",
              "  </div>\n"
            ]
          },
          "metadata": {},
          "execution_count": 26
        }
      ],
      "source": [
        "post_pre.head(2)"
      ],
      "id": "5f5953a8"
    },
    {
      "cell_type": "markdown",
      "metadata": {
        "id": "932395ad"
      },
      "source": [
        "#**MODEL** BUILDING"
      ],
      "id": "932395ad"
    },
    {
      "cell_type": "markdown",
      "metadata": {
        "id": "ded3b2f8"
      },
      "source": [
        "Split the data to TRAIN and VALIDATION sets"
      ],
      "id": "ded3b2f8"
    },
    {
      "cell_type": "code",
      "execution_count": null,
      "metadata": {
        "id": "307cf9bf"
      },
      "outputs": [],
      "source": [
        "from sklearn.model_selection import train_test_split\n",
        "x_tr,x_val,y_tr,y_val=train_test_split(np.array(post_pre['text']),np.array(post_pre['summary']),test_size=0.2,random_state=0,shuffle=True)\n",
        "#here we split the data into training and validation sets to build the model\n",
        "#data is shuffled in the same way every time we run the code with that particular random_state value"
      ],
      "id": "307cf9bf"
    },
    {
      "cell_type": "code",
      "source": [
        "#Lets tokenize the text to get the vocab count , you can use Spacy here also\n",
        "\n",
        "from tensorflow.keras.preprocessing.text import Tokenizer\n",
        "from tensorflow.keras.preprocessing.sequence import pad_sequences\n",
        "\n",
        "#prepare a tokenizer for reviews on training data\n",
        "x_tokenizer = Tokenizer()\n",
        "x_tokenizer.fit_on_texts(list(x_tr))"
      ],
      "metadata": {
        "id": "xhNnGE_BvQOI"
      },
      "id": "xhNnGE_BvQOI",
      "execution_count": null,
      "outputs": []
    },
    {
      "cell_type": "markdown",
      "metadata": {
        "id": "d2aecb70"
      },
      "source": [
        "##### RARE WORD ANALYSIS FOR X i.e 'text'"
      ],
      "id": "d2aecb70"
    },
    {
      "cell_type": "markdown",
      "metadata": {
        "id": "e5914863"
      },
      "source": [
        "* tot_cnt gives the size of vocabulary (which means every unique words in the text)\n",
        "\n",
        "* cnt gives the no. of rare words whose count falls below threshold\n",
        "\n",
        "* tot_cnt - cnt gives me the top most common words"
      ],
      "id": "e5914863"
    },
    {
      "cell_type": "code",
      "execution_count": null,
      "metadata": {
        "colab": {
          "base_uri": "https://localhost:8080/"
        },
        "id": "97a25002",
        "outputId": "66d0b461-7e5a-47a4-e502-63b99869399b"
      },
      "outputs": [
        {
          "output_type": "stream",
          "name": "stdout",
          "text": [
            "% of rare words in vocabulary: 62.53451165258069\n",
            "Total Coverage of rare words: 4.898090808469791\n"
          ]
        }
      ],
      "source": [
        "thresh=3\n",
        "\n",
        "cnt=0\n",
        "tot_cnt=0\n",
        "freq=0\n",
        "tot_freq=0\n",
        "\n",
        "for key,value in x_tokenizer.word_counts.items():#iterates through the word counts in the vocabulary\n",
        "    #word_counts contains a dictionary with as words - keys and their frequencies - value\n",
        "    tot_cnt=tot_cnt+1\n",
        "    tot_freq=tot_freq+value\n",
        "    if(value<thresh):\n",
        "        cnt=cnt+1\n",
        "        freq=freq+value\n",
        "\n",
        "print(\"% of rare words in vocabulary:\",(cnt/tot_cnt)*100)\n",
        "print(\"Total Coverage of rare words:\",(freq/tot_freq)*100)"
      ],
      "id": "97a25002"
    },
    {
      "cell_type": "code",
      "execution_count": null,
      "metadata": {
        "colab": {
          "base_uri": "https://localhost:8080/"
        },
        "id": "904b1706",
        "outputId": "9ab59918-4ba3-4dc5-ecf3-89a8b9205aed"
      },
      "outputs": [
        {
          "output_type": "stream",
          "name": "stdout",
          "text": [
            "Size of vocabulary in X = 31076\n"
          ]
        }
      ],
      "source": [
        "#prepare a tokenizer for reviews on training data\n",
        "x_tokenizer = Tokenizer(num_words=tot_cnt-cnt)\n",
        "x_tokenizer.fit_on_texts(list(x_tr))\n",
        "\n",
        "#convert text sequences into integer sequences (i.e one-hot encodeing all the words)\n",
        "x_tr_seq    =   x_tokenizer.texts_to_sequences(x_tr)\n",
        "x_val_seq   =   x_tokenizer.texts_to_sequences(x_val)\n",
        "\n",
        "#padding zero upto maximum length\n",
        "x_tr    =   pad_sequences(x_tr_seq,  maxlen=max_text_len, padding='post')\n",
        "x_val   =   pad_sequences(x_val_seq, maxlen=max_text_len, padding='post')\n",
        "\n",
        "#size of vocabulary ( +1 for padding token)\n",
        "x_voc   =  x_tokenizer.num_words + 1\n",
        "\n",
        "print(\"Size of vocabulary in X = {}\".format(x_voc))"
      ],
      "id": "904b1706"
    },
    {
      "cell_type": "markdown",
      "source": [
        "**RARE WORD ANALYSIS FOR Y i.e 'summary'**\n",
        "\n",
        "\n",
        "*   tot_cnt gives the size of vocabulary (which means every unique words in the text)\n",
        "*   cnt gives me the no. of rare words whose count falls below threshold\n",
        "\n",
        "*   tot_cnt - cnt gives me the top most common words\n",
        "\n"
      ],
      "metadata": {
        "id": "E9_FhcuFlGF3"
      },
      "id": "E9_FhcuFlGF3"
    },
    {
      "cell_type": "code",
      "source": [
        "#prepare a tokenizer for reviews on training data\n",
        "y_tokenizer = Tokenizer()\n",
        "y_tokenizer.fit_on_texts(list(y_tr))"
      ],
      "metadata": {
        "id": "wxmV1KWSCyro"
      },
      "id": "wxmV1KWSCyro",
      "execution_count": null,
      "outputs": []
    },
    {
      "cell_type": "code",
      "execution_count": null,
      "metadata": {
        "colab": {
          "base_uri": "https://localhost:8080/"
        },
        "id": "1a37ea0e",
        "outputId": "f01dc992-f3c8-4930-931e-1defea641ab6"
      },
      "outputs": [
        {
          "output_type": "stream",
          "name": "stdout",
          "text": [
            "% of rare words in vocabulary: 57.47687564234327\n",
            "Total Coverage of rare words: 9.963366700442048\n"
          ]
        }
      ],
      "source": [
        "thresh=2\n",
        "\n",
        "cnt=0\n",
        "tot_cnt=0\n",
        "freq=0\n",
        "tot_freq=0\n",
        "\n",
        "for key,value in y_tokenizer.word_counts.items():\n",
        "    tot_cnt=tot_cnt+1\n",
        "    tot_freq=tot_freq+value\n",
        "    if(value<thresh):\n",
        "        cnt=cnt+1\n",
        "        freq=freq+value\n",
        "\n",
        "print(\"% of rare words in vocabulary:\",(cnt/tot_cnt)*100)\n",
        "print(\"Total Coverage of rare words:\",(freq/tot_freq)*100)"
      ],
      "id": "1a37ea0e"
    },
    {
      "cell_type": "code",
      "execution_count": null,
      "metadata": {
        "colab": {
          "base_uri": "https://localhost:8080/"
        },
        "id": "4dc478f2",
        "outputId": "f0ac7317-2f2b-4b7d-933b-430d65427810"
      },
      "outputs": [
        {
          "output_type": "stream",
          "name": "stdout",
          "text": [
            "Size of vocabulary in Y = 6621\n"
          ]
        }
      ],
      "source": [
        "#prepare a tokenizer for reviews on training data\n",
        "y_tokenizer = Tokenizer(num_words=tot_cnt-cnt) #This parameter limits the tokenizer to consider only the most frequent words\n",
        "y_tokenizer.fit_on_texts(list(y_tr)) #creates a word index based on frequency of words in the training data & assigns unique integer/tokens to each word\n",
        "\n",
        "#convert text sequences into integer sequences (i.e one hot encode the text in Y)\n",
        "y_tr_seq    =   y_tokenizer.texts_to_sequences(y_tr)\n",
        "y_val_seq   =   y_tokenizer.texts_to_sequences(y_val)\n",
        "\n",
        "#padding zero upto maximum length\n",
        "# Any sequences shorter than max_len will be padded with zeros at the end(as it is given 'post')\n",
        "\n",
        "y_tr    =   pad_sequences(y_tr_seq, maxlen=max_summary_len, padding='post')\n",
        "y_val   =   pad_sequences(y_val_seq, maxlen=max_summary_len, padding='post')\n",
        "\n",
        "#size of vocabulary\n",
        "y_voc  =   y_tokenizer.num_words +1\n",
        "print(\"Size of vocabulary in Y = {}\".format(y_voc))\n"
      ],
      "id": "4dc478f2"
    },
    {
      "cell_type": "markdown",
      "metadata": {
        "id": "2dee6792"
      },
      "source": [
        "We remove \"Summary\" i.e Y (both train and val) which has only START and END\n",
        "\n",
        "i.e jo sare summary jin mein sirf START aur END hain unko remove karna hain kiuki woh khali hain"
      ],
      "id": "2dee6792"
    },
    {
      "cell_type": "code",
      "execution_count": null,
      "metadata": {
        "id": "fd39bd67"
      },
      "outputs": [],
      "source": [
        "#in the above code we are doing data filtering removing specific rows from both 'y_tr' and 'x_tr' arrays\n",
        "ind=[] # stores indices of the rows to be removed\n",
        "for i in range(len(y_tr)):\n",
        "    cnt=0 # counts the non-zero elements\n",
        "    for j in y_tr[i]:\n",
        "        if j!=0:\n",
        "            cnt=cnt+1\n",
        "    if(cnt==2):\n",
        "        ind.append(i)\n",
        "\n",
        "y_tr=np.delete(y_tr,ind, axis=0) #remove those rows from the 'y_tr' array along the first axis (axis=0 means rows rows).\n",
        "x_tr=np.delete(x_tr,ind, axis=0)"
      ],
      "id": "fd39bd67"
    },
    {
      "cell_type": "markdown",
      "metadata": {
        "id": "9ddcbccc"
      },
      "source": [
        "specific condition is that only rows with exactly two non-zero elements (START and END only) are removed from both arrays"
      ],
      "id": "9ddcbccc"
    },
    {
      "cell_type": "code",
      "execution_count": null,
      "metadata": {
        "id": "35a4601f"
      },
      "outputs": [],
      "source": [
        "ind=[] # similary we are doing here\n",
        "for i in range(len(y_val)):\n",
        "    cnt=0\n",
        "    for j in y_val[i]:\n",
        "        if j!=0:\n",
        "            cnt=cnt+1\n",
        "    if(cnt==2):\n",
        "        ind.append(i)\n",
        "\n",
        "y_val=np.delete(y_val,ind, axis=0)\n",
        "x_val=np.delete(x_val,ind, axis=0)"
      ],
      "id": "35a4601f"
    },
    {
      "cell_type": "markdown",
      "metadata": {
        "id": "ddbfe5ac"
      },
      "source": [
        " the model consists of an encoder with multiple LSTM layers to process the input sequences and capture their context, and a decoder with an LSTM layer and a dense layer to generate the output sequences."
      ],
      "id": "ddbfe5ac"
    },
    {
      "cell_type": "markdown",
      "source": [
        "**Fasttext model bin file uploaded**"
      ],
      "metadata": {
        "id": "ckHImM09mjww"
      },
      "id": "ckHImM09mjww"
    },
    {
      "cell_type": "code",
      "source": [
        "!wget -P /content/ \"https://dl.fbaipublicfiles.com/fasttext/vectors-crawl/cc.bn.300.bin.gz\""
      ],
      "metadata": {
        "colab": {
          "base_uri": "https://localhost:8080/"
        },
        "id": "Dl8jASg0e63E",
        "outputId": "6e1d4038-4fb1-4ae5-a65b-bd973d79ed15"
      },
      "id": "Dl8jASg0e63E",
      "execution_count": null,
      "outputs": [
        {
          "output_type": "stream",
          "name": "stdout",
          "text": [
            "--2023-08-11 13:26:43--  https://dl.fbaipublicfiles.com/fasttext/vectors-crawl/cc.bn.300.bin.gz\n",
            "Resolving dl.fbaipublicfiles.com (dl.fbaipublicfiles.com)... 18.154.144.74, 18.154.144.13, 18.154.144.87, ...\n",
            "Connecting to dl.fbaipublicfiles.com (dl.fbaipublicfiles.com)|18.154.144.74|:443... connected.\n",
            "HTTP request sent, awaiting response... 200 OK\n",
            "Length: 3934298272 (3.7G) [application/octet-stream]\n",
            "Saving to: ‘/content/cc.bn.300.bin.gz’\n",
            "\n",
            "cc.bn.300.bin.gz    100%[===================>]   3.66G  30.1MB/s    in 2m 4s   \n",
            "\n",
            "2023-08-11 13:28:48 (30.2 MB/s) - ‘/content/cc.bn.300.bin.gz’ saved [3934298272/3934298272]\n",
            "\n"
          ]
        }
      ]
    },
    {
      "cell_type": "code",
      "source": [
        "!gzip -d /content/drive/MyDrive/IITG/cc.bn.300.bin"
      ],
      "metadata": {
        "id": "R01-9FoCgoVJ",
        "colab": {
          "base_uri": "https://localhost:8080/"
        },
        "outputId": "3d8d218f-28b4-4f42-dbf9-9c278f289cbe"
      },
      "id": "R01-9FoCgoVJ",
      "execution_count": null,
      "outputs": [
        {
          "output_type": "stream",
          "name": "stdout",
          "text": [
            "gzip: /content/drive/MyDrive/IITG/cc.bn.300.bin: unknown suffix -- ignored\n"
          ]
        }
      ]
    },
    {
      "cell_type": "code",
      "source": [
        "!pip install fasttext"
      ],
      "metadata": {
        "colab": {
          "base_uri": "https://localhost:8080/"
        },
        "id": "Yz_b2xV0DFts",
        "outputId": "599440eb-2ae9-445d-f747-aa24fcac0e63"
      },
      "id": "Yz_b2xV0DFts",
      "execution_count": null,
      "outputs": [
        {
          "output_type": "stream",
          "name": "stdout",
          "text": [
            "Collecting fasttext\n",
            "  Downloading fasttext-0.9.2.tar.gz (68 kB)\n",
            "\u001b[2K     \u001b[90m━━━━━━━━━━━━━━━━━━━━━━━━━━━━━━━━━━━━━━━━\u001b[0m \u001b[32m68.8/68.8 kB\u001b[0m \u001b[31m1.7 MB/s\u001b[0m eta \u001b[36m0:00:00\u001b[0m\n",
            "\u001b[?25h  Preparing metadata (setup.py) ... \u001b[?25l\u001b[?25hdone\n",
            "Collecting pybind11>=2.2 (from fasttext)\n",
            "  Using cached pybind11-2.11.1-py3-none-any.whl (227 kB)\n",
            "Requirement already satisfied: setuptools>=0.7.0 in /usr/local/lib/python3.10/dist-packages (from fasttext) (67.7.2)\n",
            "Requirement already satisfied: numpy in /usr/local/lib/python3.10/dist-packages (from fasttext) (1.23.5)\n",
            "Building wheels for collected packages: fasttext\n",
            "  Building wheel for fasttext (setup.py) ... \u001b[?25l\u001b[?25hdone\n",
            "  Created wheel for fasttext: filename=fasttext-0.9.2-cp310-cp310-linux_x86_64.whl size=4199771 sha256=f4003546b523bba28a127725895ac323b0c5cad842e9cd2a55ebf425058c8b5c\n",
            "  Stored in directory: /root/.cache/pip/wheels/a5/13/75/f811c84a8ab36eedbaef977a6a58a98990e8e0f1967f98f394\n",
            "Successfully built fasttext\n",
            "Installing collected packages: pybind11, fasttext\n",
            "Successfully installed fasttext-0.9.2 pybind11-2.11.1\n"
          ]
        }
      ]
    },
    {
      "cell_type": "code",
      "source": [
        "import fasttext as ft\n",
        "ft_model = ft.load_model('/content/drive/MyDrive/IITG/cc.bn.300.bin')"
      ],
      "metadata": {
        "colab": {
          "base_uri": "https://localhost:8080/"
        },
        "id": "4FZIixWlEoGo",
        "outputId": "6e9529a3-b3d9-4551-f15d-dcc6cfee96f2"
      },
      "id": "4FZIixWlEoGo",
      "execution_count": null,
      "outputs": [
        {
          "output_type": "stream",
          "name": "stderr",
          "text": [
            "Warning : `load_model` does not return WordVectorModel or SupervisedModel any more, but a `FastText` object which is very similar.\n"
          ]
        }
      ]
    },
    {
      "cell_type": "markdown",
      "source": [
        "**Embedding matrix created for both encoder and decoder**"
      ],
      "metadata": {
        "id": "uGlDVAfQmvsz"
      },
      "id": "uGlDVAfQmvsz"
    },
    {
      "cell_type": "markdown",
      "source": [
        "embedding matrix- allows us to represent words or tokens in a dense vector space"
      ],
      "metadata": {
        "id": "u82oEO8DLrRp"
      },
      "id": "u82oEO8DLrRp"
    },
    {
      "cell_type": "code",
      "source": [
        "# Create the embedding matrix using the FastText model for encoder\n",
        "ft_embedding_matrix_encoder = np.empty((x_voc, ft_model.get_dimension()))\n",
        "i1=0\n",
        "i2=0\n",
        "for word, idx in x_tokenizer.word_index.items():\n",
        "    if word in ft_model.words:\n",
        "        ft_embedding_matrix_encoder[i1] = ft_model[word]\n",
        "        i1+=1\n",
        "    if i1==x_voc-1:\n",
        "      break;\n",
        "\n",
        "\n",
        "# Create the embedding matrix using the FastText model for decoder\n",
        "ft_embedding_matrix_decoder = np.empty((y_voc, ft_model.get_dimension()))\n",
        "for word, idx in y_tokenizer.word_index.items():\n",
        "    if word in ft_model.words:\n",
        "        ft_embedding_matrix_decoder[i2] = ft_model[word]\n",
        "        i2+=1\n",
        "    if i2==y_voc-1:\n",
        "      break;\n"
      ],
      "metadata": {
        "id": "LGVUOs4ofrFS"
      },
      "id": "LGVUOs4ofrFS",
      "execution_count": null,
      "outputs": []
    },
    {
      "cell_type": "markdown",
      "source": [
        "# **CuDNN** (**LSTM-LSTM**)"
      ],
      "metadata": {
        "id": "NAqg_ELBeVIS"
      },
      "id": "NAqg_ELBeVIS"
    },
    {
      "cell_type": "code",
      "source": [
        "from keras import backend as K\n",
        "import fasttext as ft\n",
        "from numpy import *\n",
        "import numpy as np\n",
        "import pandas as pd\n",
        "from keras.layers import Input, LSTM, Embedding, Dense, TimeDistributed\n",
        "from keras.models import Model\n",
        "from tensorflow.keras.callbacks import EarlyStopping, ReduceLROnPlateau\n",
        "import warnings\n",
        "pd.set_option(\"display.max_colwidth\", 200)\n",
        "warnings.filterwarnings(\"ignore\")\n",
        "from keras.layers import CuDNNLSTM\n",
        "K.clear_session()\n",
        "\n",
        "# Assuming FastText was trained with an embedding dimension of 300\n",
        "embedding_dim = 300\n",
        "latent_dim=300\n",
        "max_text_len=300\n",
        "\n",
        "# Encoder\n",
        "encoder_inputs = Input(shape=(max_text_len,))\n",
        "\n",
        "# Embedding layer with FastText embeddings for the encoder\n",
        "enc_emb = Embedding(x_voc, embedding_dim, weights=[ft_embedding_matrix_encoder], trainable=True)(encoder_inputs)\n",
        "\n",
        "# Encoder LSTM layers (you can customize the number of layers and other parameters)\n",
        "encoder_lstm1 = CuDNNLSTM(latent_dim, return_sequences=True, return_state=True)\n",
        "encoder_output1, state_h1, state_c1 = encoder_lstm1(enc_emb)\n",
        "\n",
        "encoder_lstm2 = CuDNNLSTM(latent_dim, return_sequences=True, return_state=True)\n",
        "encoder_output2, state_h2, state_c2 = encoder_lstm2(encoder_output1)\n",
        "\n",
        "encoder_lstm3 = CuDNNLSTM(latent_dim, return_state=True, return_sequences=True)\n",
        "encoder_outputs, state_h, state_c = encoder_lstm3(encoder_output2)\n",
        "\n",
        "\n",
        "# Decoder\n",
        "decoder_inputs = Input(shape=(None,))\n",
        "\n",
        "# Embedding layer with FastText embeddings for the decoder\n",
        "dec_emb_layer = Embedding(y_voc, embedding_dim, weights=[ft_embedding_matrix_decoder], trainable=True)\n",
        "dec_emb = dec_emb_layer(decoder_inputs)\n",
        "\n",
        "# Decoder LSTM layers (you can customize the number of layers and other parameters)\n",
        "decoder_lstm = CuDNNLSTM(latent_dim, return_sequences=True, return_state=True)\n",
        "decoder_outputs, decoder_fwd_state, decoder_back_state  = decoder_lstm(dec_emb, initial_state=[state_h, state_c])\n",
        "\n",
        "# Dense layer\n",
        "decoder_dense = TimeDistributed(Dense(y_voc, activation='softmax'))\n",
        "decoder_outputs = decoder_dense(decoder_outputs)\n",
        "\n",
        "# Define the model\n",
        "model = Model([encoder_inputs, decoder_inputs], decoder_outputs)\n",
        "\n",
        "model.summary()\n",
        "\n",
        "model.compile(optimizer='Adam', loss='sparse_categorical_crossentropy')\n",
        "\n",
        "# Early Stopping\n",
        "es = EarlyStopping(monitor='val_loss', mode='min', verbose=1, patience=3)\n",
        "\n",
        "# monitor parameter specifies the metric that the Early Stopping callback will monitor to determine when to stop training\n",
        "#'val_loss' refers to the validation loss\n",
        "# verbose=1 means that the callback will produce informative messages about the training progress, including notifications when the training is stopped due to early stopping conditions being met.\n",
        "# patience=3 means that if the validation loss does not improve for two consecutive epochs, the training will be stopped early."
      ],
      "metadata": {
        "id": "pYjMxaO9egwf",
        "colab": {
          "base_uri": "https://localhost:8080/"
        },
        "outputId": "72818b9a-8282-44fd-a892-8b37c6cf1909"
      },
      "id": "pYjMxaO9egwf",
      "execution_count": null,
      "outputs": [
        {
          "output_type": "stream",
          "name": "stdout",
          "text": [
            "Model: \"model\"\n",
            "__________________________________________________________________________________________________\n",
            " Layer (type)                   Output Shape         Param #     Connected to                     \n",
            "==================================================================================================\n",
            " input_1 (InputLayer)           [(None, 300)]        0           []                               \n",
            "                                                                                                  \n",
            " embedding (Embedding)          (None, 300, 300)     9322800     ['input_1[0][0]']                \n",
            "                                                                                                  \n",
            " cu_dnnlstm (CuDNNLSTM)         [(None, 300, 300),   722400      ['embedding[0][0]']              \n",
            "                                 (None, 300),                                                     \n",
            "                                 (None, 300)]                                                     \n",
            "                                                                                                  \n",
            " input_2 (InputLayer)           [(None, None)]       0           []                               \n",
            "                                                                                                  \n",
            " cu_dnnlstm_1 (CuDNNLSTM)       [(None, 300, 300),   722400      ['cu_dnnlstm[0][0]']             \n",
            "                                 (None, 300),                                                     \n",
            "                                 (None, 300)]                                                     \n",
            "                                                                                                  \n",
            " embedding_1 (Embedding)        (None, None, 300)    1986300     ['input_2[0][0]']                \n",
            "                                                                                                  \n",
            " cu_dnnlstm_2 (CuDNNLSTM)       [(None, 300, 300),   722400      ['cu_dnnlstm_1[0][0]']           \n",
            "                                 (None, 300),                                                     \n",
            "                                 (None, 300)]                                                     \n",
            "                                                                                                  \n",
            " cu_dnnlstm_3 (CuDNNLSTM)       [(None, None, 300),  722400      ['embedding_1[0][0]',            \n",
            "                                 (None, 300),                     'cu_dnnlstm_2[0][1]',           \n",
            "                                 (None, 300)]                     'cu_dnnlstm_2[0][2]']           \n",
            "                                                                                                  \n",
            " time_distributed (TimeDistribu  (None, None, 6621)  1992921     ['cu_dnnlstm_3[0][0]']           \n",
            " ted)                                                                                             \n",
            "                                                                                                  \n",
            "==================================================================================================\n",
            "Total params: 16,191,621\n",
            "Trainable params: 16,191,621\n",
            "Non-trainable params: 0\n",
            "__________________________________________________________________________________________________\n"
          ]
        }
      ]
    },
    {
      "cell_type": "code",
      "source": [
        "# we remove the last word [:,:-1] & the first word [:,1:] so that the model can predict the next one\n",
        "#reshape is done because the decoder expects a 3d tensor\n",
        "history=model.fit([x_tr,y_tr[:,:-1]], y_tr.reshape(y_tr.shape[0],y_tr.shape[1], 1)[:,1:] ,epochs=50,callbacks=[es],batch_size=128,verbose=1, validation_data=([x_val,y_val[:,:-1]], y_val.reshape(y_val.shape[0],y_val.shape[1], 1)[:,1:]))"
      ],
      "metadata": {
        "id": "dt_QSi7EnVGe",
        "colab": {
          "base_uri": "https://localhost:8080/"
        },
        "outputId": "7f87f799-4d82-4a3c-92f3-ab2248ffea4c"
      },
      "id": "dt_QSi7EnVGe",
      "execution_count": null,
      "outputs": [
        {
          "output_type": "stream",
          "name": "stdout",
          "text": [
            "Epoch 1/50\n",
            "58/58 [==============================] - 42s 512ms/step - loss: 5.2603 - val_loss: 3.8321\n",
            "Epoch 2/50\n",
            "58/58 [==============================] - 26s 459ms/step - loss: 4.0798 - val_loss: 3.5450\n",
            "Epoch 3/50\n",
            "58/58 [==============================] - 21s 366ms/step - loss: 3.9147 - val_loss: 3.4990\n",
            "Epoch 4/50\n",
            "58/58 [==============================] - 21s 360ms/step - loss: 3.8599 - val_loss: 3.4912\n",
            "Epoch 5/50\n",
            "58/58 [==============================] - 20s 344ms/step - loss: 3.8211 - val_loss: 3.4901\n",
            "Epoch 6/50\n",
            "58/58 [==============================] - 20s 334ms/step - loss: 3.7858 - val_loss: 3.5028\n",
            "Epoch 7/50\n",
            "58/58 [==============================] - 19s 328ms/step - loss: 3.7549 - val_loss: 3.5010\n",
            "Epoch 8/50\n",
            "58/58 [==============================] - 17s 296ms/step - loss: 3.7242 - val_loss: 3.5032\n",
            "Epoch 8: early stopping\n"
          ]
        }
      ]
    },
    {
      "cell_type": "markdown",
      "source": [
        "**Model weights saved**"
      ],
      "metadata": {
        "id": "iSmQ4H0Sw329"
      },
      "id": "iSmQ4H0Sw329"
    },
    {
      "cell_type": "code",
      "source": [
        "import tensorflow as tf\n",
        "\n",
        "# Assuming you have already defined and compiled your model\n",
        "# Save the model weights\n",
        "model.save_weights(\"/content/drive/MyDrive/IITG/LSTM_LSTM_weights.h5\")"
      ],
      "metadata": {
        "id": "tpc7lVcEw1ii"
      },
      "id": "tpc7lVcEw1ii",
      "execution_count": null,
      "outputs": []
    },
    {
      "cell_type": "markdown",
      "source": [
        "**Model loaded**"
      ],
      "metadata": {
        "id": "TDqnVon4w-37"
      },
      "id": "TDqnVon4w-37"
    },
    {
      "cell_type": "code",
      "source": [
        "import tensorflow as tf\n",
        "\n",
        "# Load the saved model weights\n",
        "model.load_weights(\"/content/drive/MyDrive/IITG/LSTM_LSTM_weights.h5\")"
      ],
      "metadata": {
        "id": "bWrQQiwHw3au"
      },
      "id": "bWrQQiwHw3au",
      "execution_count": null,
      "outputs": []
    },
    {
      "cell_type": "markdown",
      "source": [
        "**Visualize the model learning**"
      ],
      "metadata": {
        "id": "lKuzeOvMP6QQ"
      },
      "id": "lKuzeOvMP6QQ"
    },
    {
      "cell_type": "code",
      "source": [
        "from matplotlib import pyplot\n",
        "pyplot.plot(history.history['loss'], label='train')\n",
        "pyplot.plot(history.history['val_loss'], label='test')\n",
        "pyplot.legend()\n",
        "pyplot.show()"
      ],
      "metadata": {
        "id": "vVUFzG-GnWmz",
        "colab": {
          "base_uri": "https://localhost:8080/",
          "height": 430
        },
        "outputId": "5e2951bc-a477-473e-a0f1-8024b772ae56"
      },
      "id": "vVUFzG-GnWmz",
      "execution_count": null,
      "outputs": [
        {
          "output_type": "display_data",
          "data": {
            "text/plain": [
              "<Figure size 640x480 with 1 Axes>"
            ],
            "image/png": "[encoded data removed]"
          },
          "metadata": {}
        }
      ]
    },
    {
      "cell_type": "code",
      "source": [
        "reverse_target_word_index=y_tokenizer.index_word\n",
        "reverse_source_word_index=x_tokenizer.index_word\n",
        "target_word_index=y_tokenizer.word_index"
      ],
      "metadata": {
        "id": "su7GCUjD3CpW"
      },
      "id": "su7GCUjD3CpW",
      "execution_count": null,
      "outputs": []
    },
    {
      "cell_type": "code",
      "source": [
        "# Encode the input sequence to get the feature vector\n",
        "encoder_model = Model(inputs=encoder_inputs,outputs=[encoder_outputs, state_h, state_c])\n",
        "\n",
        "# Decoder setup\n",
        "# Below tensors will hold the states of the previous time step\n",
        "decoder_state_input_h = Input(shape=(latent_dim,))\n",
        "decoder_state_input_c = Input(shape=(latent_dim,))\n",
        "decoder_hidden_state_input = Input(shape=(max_text_len,latent_dim))\n",
        "\n",
        "# Get the embeddings of the decoder sequence\n",
        "dec_emb2= dec_emb_layer(decoder_inputs)\n",
        "# To predict the next word in the sequence, set the initial states to the states from the previous time step\n",
        "decoder_outputs2, state_h2, state_c2 = decoder_lstm(dec_emb2, initial_state=[decoder_state_input_h, decoder_state_input_c])\n",
        "\n",
        "# A dense softmax layer to generate prob dist. over the target vocabulary\n",
        "decoder_outputs2 = decoder_dense(decoder_outputs2)\n",
        "\n",
        "# Final decoder model\n",
        "decoder_model = Model(\n",
        "    [decoder_inputs] + [decoder_hidden_state_input,decoder_state_input_h, decoder_state_input_c],\n",
        "    [decoder_outputs2] + [state_h2, state_c2])"
      ],
      "metadata": {
        "id": "TaBaZhEW3ItT"
      },
      "id": "TaBaZhEW3ItT",
      "execution_count": null,
      "outputs": []
    },
    {
      "cell_type": "markdown",
      "source": [
        "So now we are creating a new LSTM model here and in the previous LSTM model the weights were adjusted, and now the new LSTM model will use the adjusted LSTM model and test it on new data without changing the weights.\n",
        "\n",
        "\n",
        "\n",
        "1. Here we have 2 models encoder and decoder made using Model()\n",
        "2. encoder Model -> It takes the input text data (encoder_inputs) as input and returns the encoder outputs (encoder_outputs) and hidden state(state_h and state_c) as outputs\n",
        "\n",
        "3. Decoder Setup:\n",
        "These are input representing the hidden state and cell state\n",
        "from the previous time step of the decoder LSTM\n",
        "\n",
        "4. Decoder Embeddings:\n",
        "\n",
        "dec_emb2: This line gets the embeddings of the decoder input sequence (decoder_inputs) using the decoder embedding layer (dec_emb_layer).\n",
        "\n",
        "decoder_outputs2: The decoder LSTM outputs at each time step are passed through a dense softmax layer (decoder_dense) to generate the probability distribution over the target vocabulary.\n",
        "\n",
        "5. Decoder Model:\n",
        "\n",
        "decoder_model: This is the final decoder model used for inference. It takes the decoder input sequence (decoder_inputs) and the initial states (decoder_hidden_state_input, decoder_state_input_h, and decoder_state_input_c) as inputs.\n",
        "The decoder model returns the predicted output tokens (decoder_outputs2) and the updated hidden state (state_h2) and cell state (state_c2) for the next time step.\n",
        "\n",
        "\n"
      ],
      "metadata": {
        "id": "77VBeD9a0gtr"
      },
      "id": "77VBeD9a0gtr"
    },
    {
      "cell_type": "code",
      "source": [
        "def decode_sequence(input_seq):\n",
        "    # Encode the input as state vectors.\n",
        "    e_out, e_h, e_c = encoder_model.predict(input_seq,verbose=0)\n",
        "\n",
        "    # Generate empty target sequence of length 1.\n",
        "    target_seq = np.zeros((1,1))\n",
        "\n",
        "    # Populate the first word of target sequence with the start word.\n",
        "    target_seq[0, 0] = target_word_index['sostok']\n",
        "\n",
        "    stop_condition = False\n",
        "    decoded_sentence = ''\n",
        "    while not stop_condition:\n",
        "\n",
        "        output_tokens, h, c = decoder_model.predict([target_seq] + [e_out, e_h, e_c],verbose=0)\n",
        "\n",
        "        # Sample a token\n",
        "        sampled_token_index = np.argmax(output_tokens[0, -1, :])\n",
        "        sampled_token = reverse_target_word_index[sampled_token_index]\n",
        "\n",
        "        if(sampled_token!='eostok'):\n",
        "            decoded_sentence += ' '+sampled_token\n",
        "\n",
        "        # Exit condition: either hit max length or find stop word.\n",
        "        if (sampled_token == 'eostok'  or len(decoded_sentence.split()) >= (max_summary_len-1)):\n",
        "            stop_condition = True\n",
        "\n",
        "        # Update the target sequence (of length 1).\n",
        "        target_seq = np.zeros((1,1))\n",
        "        target_seq[0, 0] = sampled_token_index\n",
        "\n",
        "        # Update internal states\n",
        "        e_h, e_c = h, c\n",
        "\n",
        "    return decoded_sentence"
      ],
      "metadata": {
        "id": "k4NmyUz13OS9"
      },
      "id": "k4NmyUz13OS9",
      "execution_count": null,
      "outputs": []
    },
    {
      "cell_type": "markdown",
      "source": [
        "**INPUT SEQUENCE TO SUMMARY**\n",
        "\n",
        "Let us define the functions to convert an integer sequence to a word sequence for summary as well as the reviews:\n",
        "\n",
        "Run the model over the data to see the results"
      ],
      "metadata": {
        "id": "otDGMyxKi7zF"
      },
      "id": "otDGMyxKi7zF"
    },
    {
      "cell_type": "code",
      "source": [
        "def seq2summary(input_seq):\n",
        "    newString=''\n",
        "    for i in input_seq:\n",
        "        if((i!=0 and i!=target_word_index['sostok']) and i!=target_word_index['eostok']):\n",
        "            newString=newString+reverse_target_word_index[i]+' '\n",
        "    return newString\n",
        "\n",
        "def seq2text(input_seq):\n",
        "    newString=''\n",
        "    for i in input_seq:\n",
        "        if(i!=0):  #  --> padding i.e., WE IGNORE 0\n",
        "            newString=newString+reverse_source_word_index[i]+' '\n",
        "    return newString"
      ],
      "metadata": {
        "id": "Hx0L1o2Oqz85"
      },
      "id": "Hx0L1o2Oqz85",
      "execution_count": null,
      "outputs": []
    },
    {
      "cell_type": "code",
      "source": [
        "for i in range(0,10):\n",
        "    print(\"Review:\",seq2text(x_tr[i]))\n",
        "    print(\"Original summary:\",seq2summary(y_tr[i]))\n",
        "    print(\"Predicted summary:\",decode_sequence(x_tr[i].reshape(1,max_text_len)))\n",
        "    print(\"\\n\")"
      ],
      "metadata": {
        "id": "Ecww2gDBrFz_",
        "colab": {
          "base_uri": "https://localhost:8080/"
        },
        "outputId": "bea2347d-928f-4c2b-cec1-5000cc115047"
      },
      "id": "Ecww2gDBrFz_",
      "execution_count": null,
      "outputs": [
        {
          "output_type": "stream",
          "name": "stdout",
          "text": [
            "Review: টানা দশম সব যেন একে অপরকে টেক্কা দেওয়ার নেমেছে কিন্তু যে সব পর্যটক ও ঘুরে এসেছেন তাঁদের অনেককেই বলতে শোনা যাচ্ছে এ বার কিন্তু তিনটে জলপ্রপাতের মধ্যে হল হিরো নম্বর ওয়ান এই বর্ষায় টেক্কা দেওয়া কঠিন শুরু হয়ে গিয়েছে স্বাধীনতা দিবসের ছুটির মরশুম সোমবার ছুটি নিলেই টানা তিনদিন ধরে ছুটি তাই পর্যটকদের ভিড়ও প্রচুর এমনিতেই দশম খুব জলপ্রপাত গত বছরে দশমের পাথরে বসে স্নান করতে গিয়ে বেশ কয়েকজন পর্যটকের মৃত্যু হয়েছে এবার দশমের এই সচেতন জলপ্রপাতের কর্মীরা তাঁরা বারবার পর্যটকদের জলপ্রপাতের বেশি কাছে যেতে নিষেধ করছেন দশমের রুদ্রমূর্তি দেখে বেশি সাহস দেখানোর চেষ্টা করছেন না কাঁচি নদীর এই জলপ্রপাতের দশটি ধারায় জল পড়ে বলে এর নাম দশম জলপ্রপাত তবে এই বর্ষায় সব জলের ধারা মিলে মিশে একাকার দশম সঙ্গে বিন্দু বিন্দু জল হাওয়ায় উড়িয়ে দিচ্ছে ওই বিন্দু বিন্দু জল একসঙ্গে জমাট বেধে চলে যাচ্ছে অনেক দূর তাই জলপ্রপাত থেকে অনেকটা দূরে দাঁড়িয়ে থাকলেও হালকা ভিজিয়ে দিচ্ছে দশম দশমের এ ভাবেই ভিজতে ভিজতে কোনও এক পর্যটক বলে ওঠেন একেই বলে বোধহয় ভয়ঙ্কর সুন্দর \n",
            "Original summary: start সবাইকে টেক্কা দিচ্ছে দশম end \n",
            "Predicted summary:  start ফের থেকে এবার নিয়ে end\n",
            "\n",
            "\n",
            "Review: দুদিনের সফরে রাজ্যে এলেন প্রধানমন্ত্রী নরেন্দ্র মোদী বিকেল চারটে কুড়ি নাগাদ বায়ুসেনার বিশেষ বিমানে দমদমে পৌছলেন তিনি নির্ধারিত সময়ের মিনিট আগে রাজ্যে পৌছন তিনি বিমানবন্দরে প্রধানমন্ত্রীকে স্বাগত জানাল রাজ্যপাল ও অর্থমন্ত্রী অমিত মিত্র ছিলেন রাজ্য বিজেপি নেতারা ওয়েব ডেস্ক দুদিনের সফরে রাজ্যে এলেন প্রধানমন্ত্রী নরেন্দ্র মোদী বিকেল চারটে কুড়ি নাগাদ বায়ুসেনার বিশেষ বিমানে দমদমে পৌছলেন তিনি নির্ধারিত সময়ের মিনিট আগে রাজ্যে পৌছন তিনি বিমানবন্দরে প্রধানমন্ত্রীকে স্বাগত জানাল রাজ্যপাল ও অর্থমন্ত্রী অমিত মিত্র ছিলেন রাজ্য বিজেপি নেতারা বিমানবন্দর থেকে বায়ুসেনার হেলিকপ্টারে রেসকোর্স যান প্রধানমন্ত্রী রেসকোর্স থেকে যাবেন নজরুল মঞ্চে সেখানে একাধিক সামাজিক প্রকল্পের উদ্বোধন করবেন নজরুল মঞ্চ থেকে রামকৃষ্ণ মিশন সেবাপ্রতিষ্ঠানে যাবেন প্রধানমন্ত্রী সেখানে ভর্তি রয়েছেন রামকৃষ্ণ মঠ ও মিশনের অধ্যক্ষ স্বামী আত্মস্থানন্দ তাঁকে দেখে রাত আটটায় রাজভবনে যাবেন সেখানেই আটটা পাঁচে মুখ্যমন্ত্রীর সঙ্গে তাঁর বৈঠক তারপর সময় দেবেন রাজ্য বিজেপি নেতাদের রবিবার সকাল সাতটা পঞ্চাশে প্রধানমন্ত্রী যাবেন দক্ষিণেশ্বরে সেখান থেকে আটটা পঁচিশে পৌছবেন বেলুড় মঠে দশটা পঞ্চাশে বার্নপুরে ইসকোর আধুনিকীকরণ প্রকল্পের উদ্বোধন করবেন সাড়ে এগারোটায় জনসভায় ভাষণ দুপুর একটায় অণ্ডাল বিমান বন্দরে যাবেন প্রধানমন্ত্রী অণ্ডাল থেকেই ফিরবেন দিল্লিতে \n",
            "Original summary: start সময়ের মিনিট আগে শহরে এলেন প্রধানমন্ত্রী end \n",
            "Predicted summary:  start ফের থেকে এবার নিয়ে end\n",
            "\n",
            "\n",
            "Review: রোগী সেজে থেকে দালাল ধরল পুলিস আজ কার্ডিও থোরাসিক বিভাগ থেকে হাতেনাতে মহম্মদ নাজিম নামে ওই ব্যক্তিকে গ্রেফতার করল পুলিস রাজ্যের সুপার স্পেশালিটি হাসপাতাল চত্বরে রক্তের দালালি করত নাজিম হাসপাতালে দালালরাজ চলছেই রবিবার বিভাগ থেকে মহঃ নাজিম নামে আরও এক দালালকে গ্রেফতার করল পুলিস এ দাঁড়িয়েই রাজ্যের সুপার স্পেশালিটি হাসপাতালের দালালরাজ নিয়ে ক্ষোভ উগরে দেন মুখ্যমন্ত্রী ভবানীপুর থানাকে ব্যবস্থা নেওয়ার নির্দেশ দেন তারপরও রাশ টানা যাচ্ছে কই মাস কয়েক আগে দালাল চক্র চালানোর অভিযোগে গ্রেফতার করা হয় হাসপাতালেরই গ্রুপ ডি স্টাফ রাজেন মল্লিককে রবিবার পুলিসের জালে হাওড়ার বাসিন্দা মহঃ নাজিম ওয়েব ডেস্ক রোগী সেজে থেকে দালাল ধরল পুলিস আজ কার্ডিও থোরাসিক বিভাগ থেকে হাতেনাতে মহম্মদ নাজিম নামে ওই ব্যক্তিকে গ্রেফতার করল পুলিস রাজ্যের সুপার স্পেশালিটি হাসপাতাল চত্বরে রক্তের দালালি করত নাজিম হাসপাতালে দালালরাজ চলছেই রবিবার বিভাগ থেকে মহঃ নাজিম নামে আরও এক দালালকে গ্রেফতার করল পুলিস এ দাঁড়িয়েই রাজ্যের সুপার স্পেশালিটি হাসপাতালের দালালরাজ নিয়ে ক্ষোভ উগরে দেন মুখ্যমন্ত্রী ভবানীপুর থানাকে ব্যবস্থা নেওয়ার নির্দেশ দেন তারপরও রাশ টানা যাচ্ছে কই মাস কয়েক আগে দালাল চক্র চালানোর অভিযোগে গ্রেফতার করা হয় হাসপাতালেরই গ্রুপ ডি স্টাফ রাজেন মল্লিককে রবিবার পুলিসের জালে হাওড়ার বাসিন্দা মহঃ নাজিম মহঃ নাজিম দীর্ঘদিন ধরে হাসপাতালে রক্তের দালালি চালায় বিভিন্ন সূত্র থেকে পুলিসের কাছে সেখবর ছিল সম্প্রতি কার্ডিও থোরাসিক বিভাগে চিকিত্সাধীন বালিগঞ্জের এক রোগীর রক্তের দরকার পড়ে শনিবার রোগীর পরিবারের কাছে হাজার টাকার অস্ত্রোপচারের প্যাকেজ নিয়ে হাজির হয় নাজিম ফাঁদ পাতে পুলিস রবিবার রক্তের দরকার পড়তেই হাজির হয়ে যায় নাজিম তখনই হাতে নাতে ধরা হয় তাকে প্রতি প্যাকেট রক্তের জন্য টাকা আদায় করত নাজিম নাজিম যে হাসপাতাল চত্বরে রীতিমতো জমিয়ে বসেছিল রোগীদের কথা থেকেই তা স্পষ্ট পুলিসের জালে নাজিম কিন্তু দালালচক্রের দাঁড়ি পড়বে কি \n",
            "Original summary: start রোগী সেজে থেকে দালাল ধরল পুলিস end \n",
            "Predicted summary:  start ফের থেকে এবার নিয়ে end\n",
            "\n",
            "\n",
            "Review: বিক্ষোভকারীদের শর্ত উপাচার্যকে আটকানো হচ্ছে না তিনি গেলে যেতে পারেন কিন্তু যেতে হবে পড়ুয়াদের মাড়িয়ে কিন্তু রাতভর উপাচার্য বিশ্ববিদ্যালয়েই থেকে যান   নিজস্ব প্রতিবেদন   কাউন্সিল নয় পুরোদস্তুর ছাত্র সংসদ গড়তে হবে এই দাবিতে ফের বিক্ষোভে উত্তাল যাদবপুর বিশ্ববিদ্যালয় সোমবার রাতভর যাদবপুরে অবস্থান বিক্ষোভ করলেন ছাত্রছাত্রীদের একাংশ বিক্ষোভকারীদের শর্ত উপাচার্যকে আটকানো হচ্ছে না তিনি গেলে যেতে পারেন কিন্তু যেতে হবে পড়ুয়াদের মাড়িয়ে কিন্তু রাতভর উপাচার্য বিশ্ববিদ্যালয়েই থেকে যান ছাত্রছাত্রীদের ছেড়ে যাননি তিনি কিন্তু যাদবপুরে ছাত্র আন্দোলনের যৌক্তিকতা নিয়েই মঙ্গলবার সকালে প্রশ্ন তোলেন উপাচার্য সুরঞ্জন দাস তাঁর যুক্তি আইন তো সরকার এনেছে সেই আইন সরকারকেই বদলাতে হবে সরকারের সঙ্গে আলোচনার জন্য যাদবপুরের নিয়ে কমিটি গড়ার প্রস্তাব দিয়েছে কর্তৃপক্ষ  রাতে ছাত্রদের সঙ্গে একাধিকবার বৈঠক করেন উপাচার্য যদিও এই নিয়ে এখনও কোনও পৌঁছানো সম্ভব হয়নি \n",
            "Original summary: start ছাত্র কাউন্সিলের দাবি ফের উত্তাল যাদবপুর বিশ্ববিদ্যালয় end \n",
            "Predicted summary:  start ফের থেকে এবার নিয়ে end\n",
            "\n",
            "\n",
            "Review: হিংস্র কোনও অজানা হামলায় জখম জন শিশু সহ এক মহিলা ঘটনাকে কেন্দ্র করে ব্যাপক চাঞ্চল্য ছড়িয়েছে দক্ষিণ এলাকায় গলায় কানে হাতে গুরুতর ক্ষত নিয়ে আহত অবস্থায় জখম শিশু ও মহিলাদের ইসলামপুর মহকুমা হাসপাতালে করা হয়েছে   অজানা ওই পশুর পরিচয় নিয়ে ধন্দে জখমদের পরিবার তবে আহতদের মধ্যে কেউ কেউ মনে করছেন অজানা ওই পশু আসলে চিতাবাঘ হাসপাতাল সূত্রে জানা গেছে   জন জখম অবস্থায় ভর্তি হয়েছে হাসপাতালে তাদের চিকিৎসা শুরু করা হয়েছে তাদের গলায় হাতে কানে ও গালে পশুর চিহ্ন পাওয়া গিয়েছে ঘটনার তদন্তে নেমেছে জেলা বন দফতর   জানা গিয়েছে বুধবার বিকেলে দক্ষিণ এলাকার খেলছিল এলাকার বেশ কয়েকটি শিশু তখনই আচমকা অজানা এক পশু তাদের ওপর হামলা চালায় এক এক করে জখম হয় টি শিশু ও একজন মহিলা অজানা পশুর হামলায় ব্যাপক আতঙ্ক ছড়ায় শিশুদের মধ্যে দেখুন ভিডিও আহত এক শিশুর অভিভাবক আবদুল জানিয়েছেন মাঠে খেলতে গিয়ে অজানা পশুর হামলায় টি শিশু গুরুতর আহত হয়েছে তবে আমাদের মনে হচ্ছে বন্য কোনও এই হামলা চালিয়েছে আমাদের এলাকার চারপাশে অনেক চা বাগান রয়েছে সেখানে মাঝে মধ্যে দেখা গিয়েছে চিতার আক্রমণে এর আগেও এলাকার অনেক মানুষ আহত হয়েছে তবে একসঙ্গে এতগুলি শিশুকে কোনও বন্যপ্রাণী আহত করেনি কোনও শিশু ভাল করে বলতেই পারছে না প্রাণীটির আকার ঠিক কীরকম ঘটনার পরে এখনও বনদফতর বা কেউই এলাকায় আসেনি আমরা খুব আতঙ্কে রয়েছি ইসলামপুর মহকুমা হাসপাতালের ভারপ্রাপ্ত সুপার এ কে সিনহা জানিয়েছেন বন্য কোনও শিশুদের উপর হামলা চালিয়েছে বলে মনে হচ্ছে চিকিৎসা শুরু করেছি   জেলাশাসক আয়েশা রানি বলেন আমরা ঘটনার খবর পেয়েছি এলাকার ঘটনার তদন্তের জন্য পাঠানো হয়েছে এদিকে বন আধিকারিক দত্ত দফতরের কাজে জেলার বাইরে থাকায় তিনি ঘটনাস্থলে পাঠিয়েছেন বলে জানা গিয়েছে দেখুন ভিডিও দেখুন ভিডিও \n",
            "Original summary: start টার্গেট শিশুরা অজানা আতঙ্কে কাঁটা দেখুন ভিডিও end \n",
            "Predicted summary:  start ফের থেকে এবার নিয়ে end\n",
            "\n",
            "\n",
            "Review: জোসে অ্যাটলেটিকো ডি কলকাতার কোচ হচ্ছেন না তা প্রায় আগেই ঠিক হয়ে গিয়েছিল এখনও সরকারিভাবে অ্যাটলেটিকো কলকাতার তরফ থেকে কিছু জানানো  না হলেও সূত্রের খবর চেয়ারে হয়তো বসতে চলেছেন বেঙ্গালুরু এফসির প্রাক্তন কোচ অ্যাশলে ওয়েস্টউড বেঙ্গালুরু এফসির হয়ে দুবারের আইলিগ এবং ফেডারেশন কাপ জয়ী কোচ বেঙ্গালুরুর দায়িত্ব ছাড়ার পর সুপার লিগে এফসির কোচ হয়েছিলেন তবে সেখানে সফল হতে পারেননি তিনি বর্তমানে ছিলেন ওয়েস্টউড তবে কিছু কর্তা এখনও কথা স্বীকার না করলেও জানিয়ে রাখছেন অন্যভাবে ব্যবহার করার পরিকল্পনা রয়েছে এটিকের কী সেই পরিকল্পনা জানা গিয়েছে কোচ হিসেবে সম্ভব না হলে ডিরেক্টর হিসেবেও নিয়োগ করতে পারেন কর্তারা সেক্ষেত্রে শুধু দল নয় মাঠের বাইরেও গুরুত্বপূর্ণ প্রভাব থাকবে অর্থাৎ না পাওয়ায় ঘর কাজ শুরু করে দিয়েছে এটিকে কলকাতার দলটির সঙ্গে অ্যাটলেটিকো মাদ্রিদের গাঁটছড়া আদৌ থাকছে কিনা তার জবাব দেবে সময় তবে ওয়েস্টউড যে আসছেন তা দিনের আলোর মতোই পরিষ্কার   উল্লেখ্য ম্যাঞ্চেস্টার ইউনাইটেডের ট্রেনার হিসেবে কেরিয়ার শুরু করেছিলেন ওয়েস্টউড রেড ডেভিলস সংসারের প্রাক্তনী এবার সফল হবে নতুন ভূমিকায় দেখা যাক \n",
            "Original summary: start সৌরভের এটিকের দায়িত্বে আসছেন আইলিগ জয়ী কোচ end \n",
            "Predicted summary:  start ফের থেকে এবার নিয়ে end\n",
            "\n",
            "\n",
            "Review: ফোন করার মিনিটের মধ্যে চুরি যাওয়া গয়না এবং টাকা ফিরিয়ে দিল চোর গোটা ঘটনাই অবিশ্বাস্য যাদবপুরের এক ব্যবসায়ী পরিবারের তদন্তে নেমে দুজনকে গ্রেফতার করেছে পুলিশ   ঘটনাস্থল যাদবপুরের কালীতলা লেন শনিবার রাত সাড়ে টা নাগাদ বাড়ি ফেরেন কৌশিক ভট্টাচার্যের পরিবারের সদস্যেরা দরজায় চাবি তাঁরা বুঝতে পারেন দরজা খোলা ঢুকে দেখেন ঘর লন্ডভন্ড হয়ে রয়েছে একটি ঘরের আলমারি এবং অন্য ঘরের লকার খোলা আলমারি থেকে টাকা গায়েব লকার থেকে চুরি গিয়েছে কয়েক লক্ষ টাকার গয়না সঙ্গে সঙ্গেই যাদবপুর থানায় অভিযোগ জানান কৌশিক   পরিবারের সদস্যেরা জানিয়েছেন গত ডিসেম্বর কাশ্মীর বেড়াতে গিয়েছিলেন তাঁরা ফেরেন শনিবার তার বাড়িতে চুরি হয় রবিবার সকালে বাড়ির পরিচারিকা মণ্ডলের বোন তাঁদের জনৈক কথা বলে তাকে বললে নাকি চুরি যাওয়া সামগ্রী ফিরে পাওয়া যাবে এদিন দুপুর দেড়টা নাগাদ ফোন করেন কৌশিক কৌশিকের কথায় ফোনে বলে চিন্তা করবেন না দুঘণ্টার মধ্যে সব ফিরে পাবেন এর মিনিটের মধ্যে বাড়ির নীচে সাইকেলে ঝোলানো অবস্থায় একটি প্যাকেট উদ্ধার হয় সেই প্যাকেটের মধ্যে মেলে চুরি যাওয়া গয়না এবং কিছু টাকা তারপর খাটের নীচে আরও একটি প্যাকেট থেকে টাকা উদ্ধার হয় কৌশিকের স্ত্রী বলেন সকাল থেকে সব ঘরে খুঁজেছি কোথাও কিছু ছিল না কে রেখে গেল দেখতে পাইনি তবে বলে কিছু মানি না   পুলিশ সূত্রের খবর পরিচারিকা এবং গাড়ির চালক জয়রাম রাউতকে জিজ্ঞাসাবাদ করা হয় পরে গ্রেফতার করা হয় তাদের একইসঙ্গে ভূমিকাও খতিয়ে দেখা হচ্ছে তবে চুরির জন্য দরজা বা জানলা ভাঙা হয়নি তদন্তকারীদের প্রাথমিক অনুমান নকল চাবি ব্যবহার করা হয়ে থাকতে পারে চুরি প্রসঙ্গে অবশ্য দাবি আমি প্রায় সাত বছর কাজ করছি জানি না কীভাবে চুরি হয়েছে আমি জড়িত নই একই দাবি করেছেন \n",
            "Original summary: start বলা মাত্র সামগ্রী ফেরাল চোর রহস্য রয়েছে দাবি করল পরিবার end \n",
            "Predicted summary:  start ফের থেকে এবার নিয়ে end\n",
            "\n",
            "\n",
            "Review: ওয়েব ডেস্ক প্রতীক্ষার অবসান প্রায় তিন বছর দশ মাস পরে আজ রায় ঘোষণা হবে পার্ক স্ট্রিট ধর্ষণ কাণ্ডের ন্যায্য বিচার কি পাবে নির্যাতিতার পরিবার পাঁচই ফেব্রুয়ারি দুহাজার বারো পার্ক স্ট্রিট এলাকায় শুনসান রাস্তায় রাতে অন্ধকারে বিলাসবহুল গাড়ির মধ্যেই ধর্ষিতা হন এক তরুণী রাতেই অভিযোগ জানাতে ছুটে যান থানায় তারপর যা ঘটেছিল তা এরাজ্যের পুলিস এবং প্রশাসনের কাছে একটি কলঙ্কিত অধ্যায় হয়েই থাকবে শুধু ধর্ষিতার চরিত্রই নয় পুলিসের তরফে প্রশ্ন তোলা হয় ঘটনার সত্যতা নিয়েও কলকাতা পুলিসের তত্কালীন নগরপাল রঞ্জিত দাবি করেছিলেন গোটা ঘটনা সরকারের ভাবমুর্তি নষ্ট করার চেষ্টা মাত্র তারপর থেকেই পার্ক স্ট্রিট কাণ্ড নিয়ে রাজ্য জুড়ে তোলপাড় শুরু হয়ে যায় চাপে পড়ে রুমান খান সুমিত বাজাজ এবং নাসের খান নামে তিন অভিযুক্তকে গ্রেফতার করে পুলিস তবে ফেরার মূল অভিযুক্ত কাদের খান এবং মহম্মদ আলি এরপর থেকে সম্পূর্ণ অন্য এক ভূমিকায় দেখা গেল নির্যাতিতাকে   যেখানেই নারী নির্যাতনের ঘটনা ঘটেছে ছুটে গিয়েছেন তিনি ফলে অচিরেই পার্ক স্ট্রিট কাণ্ডের নির্যাতিতা হয়ে ওঠেন প্রতিবাদের আরও একটি মুখ সব প্রতিকূলতাকে অতিক্রম করে লড়াই চালিয়ে গিয়েছেন তিনি তেরোই মার্চ দু হাজার পনেরো মৃত্যু হয় প্রতিবাদীর তবে প্রতিবাদী না থাকলেও সুবিচার মিলবে আশা আইনজীবীর ভারাক্রান্ত মনে মেয়ের দোষীদের শাস্তি কামনা করেন মা বিচার পাবেন কি প্রতিবাদী শাস্তি হবে কি দোষীদের জানা যাবে জানা যাবে আজ \n",
            "Original summary: start বছর মাস পরে আজ রায় ঘোষণা হবে পার্ক স্ট্রিট ধর্ষণ কাণ্ডের end \n",
            "Predicted summary:  start ফের থেকে এবার নিয়ে end\n",
            "\n",
            "\n",
            "Review: দিঘার হোটেল থেকে উদ্ধার হল যুবকযুবতীর ঝুলন্ত দেহ শুক্রবার সকালে নিউ দিঘার একটি হোটেল থেকে ওই যুগলের দেহ উদ্ধার হয় মৃতদের দাম গোপাল সরকার ও সরকার হোটেল কর্তৃপক্ষের কাছে তাঁরা এই নাম দিয়েই রুম বুক করেছিলেন বলে জানা গিয়েছে এই বিষয়ে অন্যান্য খবর ফুটফুটে বাচ্চাটি কার দিঘার সৈকতে শিশুর কান্না জল্পনা চাপা দিল সমুদ্রের গর্জন দিঘায় মারাত্মক অভিযোগ মহিলা পর্যটককে প্রায় বিবস্ত্র করে হেনস্থা জানা গিয়েছে স্বামীস্ত্রীর পরিচয় দিয়ে ওই যুগল গত তারিখ হোটেলে ওঠেন হোটেলের হুগলির গ্রামের বাসিন্দা বলেন তাঁরা শুক্রবারই তাঁদের ফিরে যাওয়ার কথা ছিল   এদিন সকালে রুমের মধ্যে থেকে যুবকযুবতীর কোনও সাড়াশব্দ না পাওয়ায় সন্দেহ হয় মধ্যে পরে দরজা ভাঙতেই তাঁদের ঝুলন্ত দেহ দেখতে পান পরে পুলিশ এসে উদ্ধার করে ময়নাতদন্তের জন্য পাঠায় পুলিশের প্রাথমিক ধারণা প্রেমঘটিত কারণের জেরে আত্মহত্যা করেছেন ওই যুগল ঘটনার তদন্তে নেমেছে দিঘা থানার পুলিশ \n",
            "Original summary: start দিঘার হোটেলে রহস্য পরিচয় নিয়ে পুলিশ end \n",
            "Predicted summary:  start ফের থেকে এবার নিয়ে end\n",
            "\n",
            "\n",
            "Review: সিপিএমের চেয়েও কয়েক কদম এগিয়ে গেল সিপিআই বিজেপিকে রুখতে বৃহত্তর গণতান্ত্রিক ঐক্যের পথে তারা থাকছে তো বটেই কংগ্রেসের সঙ্গে প্রয়োজনে নির্বাচনী সমঝোতার পথও সিপিআই খুলে দিল তাদের তম পার্টি কংগ্রেসে কেরলের রবিবার শেষ হওয়া সিপিআইয়ের পার্টি কংগ্রেসে গৃহীত রাজনৈতিক প্রস্তাবে সিপিএমের মতোই বলা হয়েছে এখন প্রধান বিপদ তাদের ধর্মনিরপেক্ষ ও গণতান্ত্রিক সব শক্তিকে এক জায়গায় আনতে হবে পার্টি কংগ্রেসে বিতর্কের শেষে জবাবি ভাষণে সিপিআইয়ের সাধারণ সম্পাদক সুধাকর রেড্ডি জানিয়ে দিয়েছেন রাজনৈতিক লড়াইয়ের অঙ্গ তাই সেখানেও প্রয়োজনে কংগ্রেসকে সঙ্গে রাখতে হবে নির্বাচনী কোথায় কী ভাবে কংগ্রেস বা অন্য কোনও দলের সঙ্গে যাওয়া হবে তা ঠিক করার ভার রাজ্যগুলির উপরেই ছেড়ে দিয়েছে সিপিআই পার্টি কংগ্রেসের এমন সিদ্ধান্তে খুশি বাংলার সিপিআই নেতৃত্বের বড় অংশ তাঁরাও ধর্মনিরপেক্ষ সব শক্তিকে একজোট করে লড়াইয়ের পক্ষে দলের রাজ্য সম্মেলনের আগে কলকাতা জেলা সম্মেলনেই প্রথম প্রস্তাব নেওয়া হয়েছিল প্রয়োজনে কংগ্রেসের সঙ্গে ভোটে আসন করেই বিজেপির বিরুদ্ধে লড়তে হবে সেই পথেই স্বীকৃতি মিলল পার্টি কংগ্রেসে সিপিআই সূত্রের খবর পার্টি কংগ্রেসে এ বার কেরলের নেতারাও মত দিয়েছেন কংগ্রেসকে করে রেখে এখন আর বিরুদ্ধে লড়াই সম্ভব নয় পার্টি কংগ্রেসের পর্বে গেরুয়া শিবিরের বিরুদ্ধে সর্বাত্মক আহ্বান জানিয়েছিলেন সিপিএমের সাধারণ সম্পাদক সীতারাম ইয়েচুরি পার্টি কংগ্রেস থেকে ফের সিপিআইয়ের সাধারণ সম্পাদক নির্বাচিত হয়েছেন কেন্দ্রীয় সম্পাদকমণ্ডলীর থেকে বাড়িয়ে করা হয়েছে শারীরিক কারণে দাশগুপ্ত অব্যাহতি নেওয়ায় তাঁর জায়গায় বাংলা থেকে কেন্দ্রীয় এসেছেন পল্লব সেনগুপ্ত আর নতুন জাতীয় পরিষদে জায়গা পেয়েছেন জেএনইউএর ছাত্র সংসদ থেকে উঠে আসা ছাত্রনেতা কানহাইয়া কুমার বাংলা থেকে জাতীয় পরিষদের নতুন সদস্য উজ্জ্বল চৌধুরী ও দাস ঠাকুর \n",
            "Original summary: start কংগ্রেসের সঙ্গে সায় end \n",
            "Predicted summary:  start ফের থেকে এবার নিয়ে end\n",
            "\n",
            "\n"
          ]
        }
      ]
    },
    {
      "cell_type": "markdown",
      "source": [
        "**ROGUE SCORE**"
      ],
      "metadata": {
        "id": "bXdjyX19Gk7L"
      },
      "id": "bXdjyX19Gk7L"
    },
    {
      "cell_type": "code",
      "source": [
        "!pip install rouge"
      ],
      "metadata": {
        "colab": {
          "base_uri": "https://localhost:8080/"
        },
        "id": "QksjYUTDxUI5",
        "outputId": "0460c725-d1df-4c52-fd0b-76353dceb88e"
      },
      "id": "QksjYUTDxUI5",
      "execution_count": null,
      "outputs": [
        {
          "output_type": "stream",
          "name": "stdout",
          "text": [
            "Collecting rouge\n",
            "  Downloading rouge-1.0.1-py3-none-any.whl (13 kB)\n",
            "Requirement already satisfied: six in /usr/local/lib/python3.10/dist-packages (from rouge) (1.16.0)\n",
            "Installing collected packages: rouge\n",
            "Successfully installed rouge-1.0.1\n"
          ]
        }
      ]
    },
    {
      "cell_type": "code",
      "source": [
        "!pip install rouge-score"
      ],
      "metadata": {
        "colab": {
          "base_uri": "https://localhost:8080/"
        },
        "id": "oz97kfKV43UN",
        "outputId": "ecabe33f-ad63-4b37-e3b5-981fdadba496"
      },
      "id": "oz97kfKV43UN",
      "execution_count": null,
      "outputs": [
        {
          "output_type": "stream",
          "name": "stdout",
          "text": [
            "Collecting rouge-score\n",
            "  Downloading rouge_score-0.1.2.tar.gz (17 kB)\n",
            "  Preparing metadata (setup.py) ... \u001b[?25l\u001b[?25hdone\n",
            "Requirement already satisfied: absl-py in /usr/local/lib/python3.10/dist-packages (from rouge-score) (1.4.0)\n",
            "Requirement already satisfied: nltk in /usr/local/lib/python3.10/dist-packages (from rouge-score) (3.8.1)\n",
            "Requirement already satisfied: numpy in /usr/local/lib/python3.10/dist-packages (from rouge-score) (1.23.5)\n",
            "Requirement already satisfied: six>=1.14.0 in /usr/local/lib/python3.10/dist-packages (from rouge-score) (1.16.0)\n",
            "Requirement already satisfied: click in /usr/local/lib/python3.10/dist-packages (from nltk->rouge-score) (8.1.6)\n",
            "Requirement already satisfied: joblib in /usr/local/lib/python3.10/dist-packages (from nltk->rouge-score) (1.3.2)\n",
            "Requirement already satisfied: regex>=2021.8.3 in /usr/local/lib/python3.10/dist-packages (from nltk->rouge-score) (2023.6.3)\n",
            "Requirement already satisfied: tqdm in /usr/local/lib/python3.10/dist-packages (from nltk->rouge-score) (4.66.1)\n",
            "Building wheels for collected packages: rouge-score\n",
            "  Building wheel for rouge-score (setup.py) ... \u001b[?25l\u001b[?25hdone\n",
            "  Created wheel for rouge-score: filename=rouge_score-0.1.2-py3-none-any.whl size=24933 sha256=7d1d644c21136eb70c9d0afb61aa77e23977586f6523b6f9e2166242f5fd7c89\n",
            "  Stored in directory: /root/.cache/pip/wheels/5f/dd/89/461065a73be61a532ff8599a28e9beef17985c9e9c31e541b4\n",
            "Successfully built rouge-score\n"
          ]
        }
      ]
    },
    {
      "cell_type": "code",
      "source": [
        "def calculate_precision_recall_fmeasure(predicted_summary, original_summary):\n",
        "    predicted_set = set(predicted_summary)\n",
        "    reference_set = set(original_summary)\n",
        "\n",
        "    # Calculate precision\n",
        "    precision = len(predicted_set.intersection(reference_set)) / len(predicted_set)\n",
        "\n",
        "\n",
        "    # Calculate recall\n",
        "    if len(reference_set) > 0:\n",
        "        recall = len(predicted_set.intersection(reference_set)) / len(reference_set)\n",
        "    else:\n",
        "        recall = 0.0\n",
        "\n",
        "\n",
        "    # Calculate F-measure\n",
        "    if precision + recall != 0:\n",
        "        f_measure = 2 * (precision * recall) / (precision + recall)\n",
        "    else:\n",
        "        f_measure = 0.0\n",
        "\n",
        "\n",
        "    return precision, recall, f_measure"
      ],
      "metadata": {
        "id": "AXam8E3Px5pt"
      },
      "id": "AXam8E3Px5pt",
      "execution_count": null,
      "outputs": []
    },
    {
      "cell_type": "code",
      "source": [
        "from rouge import Rouge\n",
        "rouge=Rouge()\n",
        "\n",
        "precision = []\n",
        "recall = []\n",
        "f_measure = []\n",
        "Rough_f=[]\n",
        "Rough_p=[]\n",
        "Rough_r=[]\n",
        "\n",
        "for i in range(1000):\n",
        "    p, r, f= calculate_precision_recall_fmeasure(decode_sequence(x_tr[i].reshape(1, max_text_len)), seq2summary(y_tr[i]))\n",
        "    precision.append(p)\n",
        "    recall.append(r)\n",
        "    f_measure.append(f)\n",
        "\n",
        "    # Calculate ROUGE scores using rouge library\n",
        "    scores = rouge.get_scores(decode_sequence(x_tr[i].reshape(1, max_text_len)), seq2summary(y_tr[i]))\n",
        "    Rough_f.append(scores[0]['rouge-1']['f'])\n",
        "    Rough_p.append(scores[0]['rouge-1']['p'])\n",
        "    Rough_r.append(scores[0]['rouge-1']['r'])\n",
        "\n",
        "print(\"Precision: \", sum(precision)/len(precision))\n",
        "print(\"Recall:\", sum(recall)/len(recall))\n",
        "print(\"F-Measure / F1-Score:\", sum(f_measure)/len(f_measure))\n",
        "print(\"\\nRough:\\n\\t1. F:\", sum(Rough_f)/len(Rough_f),\"\\n\\t2. P:\",sum(Rough_p)/len(Rough_p),\"\\n\\t2. R:\",sum(Rough_r)/len(Rough_r))"
      ],
      "metadata": {
        "id": "8TUgD3ACx8mo",
        "colab": {
          "base_uri": "https://localhost:8080/"
        },
        "outputId": "40f41199-7dee-40e6-92bf-75d2323d31d6"
      },
      "id": "8TUgD3ACx8mo",
      "execution_count": null,
      "outputs": [
        {
          "output_type": "stream",
          "name": "stdout",
          "text": [
            "Precision:  0.7653333333333333\n",
            "Recall: 0.519023078356225\n",
            "F-Measure / F1-Score: 0.6109102124366469\n",
            "\n",
            "Rough:\n",
            "\t1. F: 0.3105239710199082 \n",
            "\t2. P: 0.4212 \n",
            "\t2. R: 0.2590713897213897\n"
          ]
        }
      ]
    },
    {
      "cell_type": "code",
      "source": [
        "!pip install evaluate"
      ],
      "metadata": {
        "id": "i5CPUef-j1jK",
        "colab": {
          "base_uri": "https://localhost:8080/"
        },
        "outputId": "70f4c44f-875d-44ea-9453-dc084813b6cb"
      },
      "id": "i5CPUef-j1jK",
      "execution_count": null,
      "outputs": [
        {
          "output_type": "stream",
          "name": "stdout",
          "text": [
            "Requirement already satisfied: evaluate in /usr/local/lib/python3.10/dist-packages (0.4.0)\n",
            "Requirement already satisfied: datasets>=2.0.0 in /usr/local/lib/python3.10/dist-packages (from evaluate) (2.14.4)\n",
            "Requirement already satisfied: numpy>=1.17 in /usr/local/lib/python3.10/dist-packages (from evaluate) (1.23.5)\n",
            "Requirement already satisfied: dill in /usr/local/lib/python3.10/dist-packages (from evaluate) (0.3.7)\n",
            "Requirement already satisfied: pandas in /usr/local/lib/python3.10/dist-packages (from evaluate) (1.5.3)\n",
            "Requirement already satisfied: requests>=2.19.0 in /usr/local/lib/python3.10/dist-packages (from evaluate) (2.31.0)\n",
            "Requirement already satisfied: tqdm>=4.62.1 in /usr/local/lib/python3.10/dist-packages (from evaluate) (4.66.1)\n",
            "Requirement already satisfied: xxhash in /usr/local/lib/python3.10/dist-packages (from evaluate) (3.3.0)\n",
            "Requirement already satisfied: multiprocess in /usr/local/lib/python3.10/dist-packages (from evaluate) (0.70.15)\n",
            "Requirement already satisfied: fsspec[http]>=2021.05.0 in /usr/local/lib/python3.10/dist-packages (from evaluate) (2023.6.0)\n",
            "Requirement already satisfied: huggingface-hub>=0.7.0 in /usr/local/lib/python3.10/dist-packages (from evaluate) (0.16.4)\n",
            "Requirement already satisfied: packaging in /usr/local/lib/python3.10/dist-packages (from evaluate) (23.1)\n",
            "Requirement already satisfied: responses<0.19 in /usr/local/lib/python3.10/dist-packages (from evaluate) (0.18.0)\n",
            "Requirement already satisfied: pyarrow>=8.0.0 in /usr/local/lib/python3.10/dist-packages (from datasets>=2.0.0->evaluate) (9.0.0)\n",
            "Requirement already satisfied: aiohttp in /usr/local/lib/python3.10/dist-packages (from datasets>=2.0.0->evaluate) (3.8.5)\n",
            "Requirement already satisfied: pyyaml>=5.1 in /usr/local/lib/python3.10/dist-packages (from datasets>=2.0.0->evaluate) (6.0.1)\n",
            "Requirement already satisfied: filelock in /usr/local/lib/python3.10/dist-packages (from huggingface-hub>=0.7.0->evaluate) (3.12.2)\n",
            "Requirement already satisfied: typing-extensions>=3.7.4.3 in /usr/local/lib/python3.10/dist-packages (from huggingface-hub>=0.7.0->evaluate) (4.7.1)\n",
            "Requirement already satisfied: charset-normalizer<4,>=2 in /usr/local/lib/python3.10/dist-packages (from requests>=2.19.0->evaluate) (3.2.0)\n",
            "Requirement already satisfied: idna<4,>=2.5 in /usr/local/lib/python3.10/dist-packages (from requests>=2.19.0->evaluate) (3.4)\n",
            "Requirement already satisfied: urllib3<3,>=1.21.1 in /usr/local/lib/python3.10/dist-packages (from requests>=2.19.0->evaluate) (2.0.4)\n",
            "Requirement already satisfied: certifi>=2017.4.17 in /usr/local/lib/python3.10/dist-packages (from requests>=2.19.0->evaluate) (2023.7.22)\n",
            "Requirement already satisfied: python-dateutil>=2.8.1 in /usr/local/lib/python3.10/dist-packages (from pandas->evaluate) (2.8.2)\n",
            "Requirement already satisfied: pytz>=2020.1 in /usr/local/lib/python3.10/dist-packages (from pandas->evaluate) (2023.3)\n",
            "Requirement already satisfied: attrs>=17.3.0 in /usr/local/lib/python3.10/dist-packages (from aiohttp->datasets>=2.0.0->evaluate) (23.1.0)\n",
            "Requirement already satisfied: multidict<7.0,>=4.5 in /usr/local/lib/python3.10/dist-packages (from aiohttp->datasets>=2.0.0->evaluate) (6.0.4)\n",
            "Requirement already satisfied: async-timeout<5.0,>=4.0.0a3 in /usr/local/lib/python3.10/dist-packages (from aiohttp->datasets>=2.0.0->evaluate) (4.0.3)\n",
            "Requirement already satisfied: yarl<2.0,>=1.0 in /usr/local/lib/python3.10/dist-packages (from aiohttp->datasets>=2.0.0->evaluate) (1.9.2)\n",
            "Requirement already satisfied: frozenlist>=1.1.1 in /usr/local/lib/python3.10/dist-packages (from aiohttp->datasets>=2.0.0->evaluate) (1.4.0)\n",
            "Requirement already satisfied: aiosignal>=1.1.2 in /usr/local/lib/python3.10/dist-packages (from aiohttp->datasets>=2.0.0->evaluate) (1.3.1)\n",
            "Requirement already satisfied: six>=1.5 in /usr/local/lib/python3.10/dist-packages (from python-dateutil>=2.8.1->pandas->evaluate) (1.16.0)\n"
          ]
        }
      ]
    },
    {
      "cell_type": "code",
      "source": [
        "from rouge_score import rouge_scorer"
      ],
      "metadata": {
        "id": "O9f_slo7j4Md"
      },
      "id": "O9f_slo7j4Md",
      "execution_count": null,
      "outputs": []
    },
    {
      "cell_type": "code",
      "source": [
        "from rouge_score import rouge_scorer\n",
        "from tqdm import tqdm\n",
        "\n",
        "# Initialize the scorer\n",
        "scorer = rouge_scorer.RougeScorer(['rouge1', 'rouge2', 'rouge3', 'rougeL'])\n",
        "\n",
        "# Initialize variables to store cumulative scores\n",
        "total_scores = {'rouge1': {'precision': 0, 'recall': 0, 'fmeasure': 0},\n",
        "                'rouge2': {'precision': 0, 'recall': 0, 'fmeasure': 0},\n",
        "                'rouge3': {'precision': 0, 'recall': 0, 'fmeasure': 0},\n",
        "                'rougeL': {'precision': 0, 'recall': 0, 'fmeasure': 0}}\n",
        "\n",
        "num_samples = len(y_tr)\n",
        "\n",
        "# Use tqdm to create a progress bar\n",
        "for i in tqdm(range(1000), desc=\"Calculating ROUGE scores\"):\n",
        "    y_or = seq2summary(y_tr[i])\n",
        "    y_pred = decode_sequence(x_tr[i].reshape(1, max_text_len))\n",
        "    scores = scorer.score(y_or, y_pred)\n",
        "\n",
        "    for key in scores:\n",
        "        total_scores[key]['precision'] += scores[key].precision\n",
        "        total_scores[key]['recall'] += scores[key].recall\n",
        "        total_scores[key]['fmeasure'] += scores[key].fmeasure\n",
        "\n",
        "# Calculate averages\n",
        "average_scores = {}\n",
        "for key in total_scores:\n",
        "    average_scores[key] = {\n",
        "        'precision': total_scores[key]['precision'] / num_samples,\n",
        "        'recall': total_scores[key]['recall'] / num_samples,\n",
        "        'fmeasure': total_scores[key]['fmeasure'] / num_samples\n",
        "    }\n",
        "\n",
        "# Print average scores\n",
        "for key in average_scores:\n",
        "    print(f'{key}: Precision={average_scores[key][\"precision\"]:.4f}, Recall={average_scores[key][\"recall\"]:.4f}, F1-score={average_scores[key][\"fmeasure\"]:.4f}')\n"
      ],
      "metadata": {
        "id": "bWMTJNv_j6x6",
        "colab": {
          "base_uri": "https://localhost:8080/"
        },
        "outputId": "cb3a885b-cfbf-4a72-ac13-2600c9ceb159"
      },
      "id": "bWMTJNv_j6x6",
      "execution_count": null,
      "outputs": [
        {
          "output_type": "stream",
          "name": "stderr",
          "text": [
            "Calculating ROUGE scores: 100%|██████████| 1000/1000 [10:10<00:00,  1.64it/s]"
          ]
        },
        {
          "output_type": "stream",
          "name": "stdout",
          "text": [
            "rouge1: Precision=0.1368, Recall=0.1370, F1-score=0.1369\n",
            "rouge2: Precision=0.1367, Recall=0.1367, F1-score=0.1367\n",
            "rouge3: Precision=0.0000, Recall=0.0000, F1-score=0.0000\n",
            "rougeL: Precision=0.1368, Recall=0.1370, F1-score=0.1369\n"
          ]
        },
        {
          "output_type": "stream",
          "name": "stderr",
          "text": [
            "\n"
          ]
        }
      ]
    },
    {
      "cell_type": "markdown",
      "source": [
        "# **BiLSTM - LSTM**"
      ],
      "metadata": {
        "id": "GlZ3hbZGjF1h"
      },
      "id": "GlZ3hbZGjF1h"
    },
    {
      "cell_type": "code",
      "source": [
        "from keras.layers import Input, Embedding, Bidirectional, LSTM, RepeatVector, Concatenate, Dense, TimeDistributed\n",
        "from keras.layers import CuDNNLSTM\n",
        "from keras.layers import Attention, Concatenate\n",
        "from keras.optimizers import Adam\n",
        "from keras.preprocessing.text import Tokenizer\n",
        "from tensorflow.keras.preprocessing.sequence import pad_sequences\n",
        "from tensorflow.keras import backend as K # keras -> main deep learning library,   backend -> tenseflow or others\n",
        "from numpy import *\n",
        "import numpy as np\n",
        "from keras import backend as K\n",
        "from tensorflow.keras.models import Model   # helps to make custom architecture by defining input & output\n",
        "from tensorflow.keras.callbacks import EarlyStopping   # callback function that stops working if the monitored metric stops improving\n",
        "import warnings   # control the warning msgs\n",
        "pd.set_option(\"display.max_colwidth\", 200)\n",
        "warnings.filterwarnings(\"ignore\")\n",
        "\n",
        "K.clear_session()\n",
        "\n",
        "# Input lengths\n",
        "max_text_len = 300\n",
        "latent_dim = 300    # no. of memory cells / units in the LSTM\n",
        "embedding_dim=300\n",
        "\n",
        "# Encoder\n",
        "encoder_inputs = Input(shape=(max_text_len,))\n",
        "enc_emb = Embedding(x_voc, embedding_dim, weights=[ft_embedding_matrix_encoder], trainable=True)(encoder_inputs)\n",
        "\n",
        "# Encoder Layer\n",
        "encoder_bilstm_1 = CuDNNLSTM(latent_dim, return_sequences=True, return_state=True)\n",
        "encoder_output1, forward_h1, forward_c1= encoder_bilstm_1(enc_emb)\n",
        "\n",
        "encoder_bilstm_2 = CuDNNLSTM(latent_dim, return_sequences=True, return_state=True)\n",
        "encoder_output2, forward_h2, forward_c2= encoder_bilstm_2(encoder_output1)\n",
        "\n",
        "encoder_bilstm = Bidirectional(CuDNNLSTM(latent_dim, return_sequences=True, return_state=True))\n",
        "encoder_outputs, forward_h, forward_c, backward_h, backward_c = encoder_bilstm(encoder_output2)\n",
        "\n",
        "# Concatenate the forward and backward states\n",
        "state_h = Concatenate()([forward_h, backward_h])\n",
        "state_c = Concatenate()([forward_c, backward_c])\n",
        "\n",
        "# Decoder\n",
        "decoder_inputs = Input(shape=(None,))\n",
        "dec_emb = Embedding(input_dim=y_voc, output_dim=embedding_dim, weights=[ft_embedding_matrix_decoder], trainable=True)(decoder_inputs)\n",
        "\n",
        "decoder_lstm = CuDNNLSTM(latent_dim*2, return_sequences=True, return_state=True)  # BiLSTM with concatenated states\n",
        "decoder_outputs, decoder_fwd_state, decoder_back_state = decoder_lstm(dec_emb, initial_state=[state_h, state_c])\n",
        "\n",
        "# # Attention mechanism\n",
        "# attention = Attention(name='attention_layer')([encoder_outputs, decoder_outputs])\n",
        "# decoder_concat_input = Concatenate(axis=-1, name='concat_layer')([decoder_outputs, attention])\n",
        "\n",
        "# Dense layer\n",
        "decoder_dense = TimeDistributed(Dense(y_voc, activation='softmax'))\n",
        "decoder_outputs = decoder_dense(decoder_outputs)\n",
        "\n",
        "# Define the model\n",
        "model = Model(inputs=[encoder_inputs, decoder_inputs], outputs=decoder_outputs)\n",
        "\n",
        "model.summary()\n",
        "\n",
        "\n",
        "model.compile(optimizer='Adam', loss='sparse_categorical_crossentropy')\n",
        "\n",
        "# Early Stopping\n",
        "es = EarlyStopping(monitor='val_loss', mode='min', verbose=1, patience=3)\n",
        "\n",
        "# monitor parameter specifies the metric that the Early Stopping callback will monitor to determine when to stop training\n",
        "#'val_loss' refers to the validation loss\n",
        "# verbose=1 means that the callback will produce informative messages about the training progress, including notifications when the training is stopped due to early stopping conditions being met.\n",
        "# patience=3 means that if the validation loss does not improve for two consecutive epochs, the training will be stopped early."
      ],
      "metadata": {
        "id": "tbxJ2ATYjBiW",
        "colab": {
          "base_uri": "https://localhost:8080/"
        },
        "outputId": "dfa5a8b6-c36b-4d45-e239-b70e22e8159e"
      },
      "id": "tbxJ2ATYjBiW",
      "execution_count": null,
      "outputs": [
        {
          "output_type": "stream",
          "name": "stdout",
          "text": [
            "Model: \"model\"\n",
            "__________________________________________________________________________________________________\n",
            " Layer (type)                   Output Shape         Param #     Connected to                     \n",
            "==================================================================================================\n",
            " input_1 (InputLayer)           [(None, 300)]        0           []                               \n",
            "                                                                                                  \n",
            " embedding (Embedding)          (None, 300, 300)     9322800     ['input_1[0][0]']                \n",
            "                                                                                                  \n",
            " cu_dnnlstm (CuDNNLSTM)         [(None, 300, 300),   722400      ['embedding[0][0]']              \n",
            "                                 (None, 300),                                                     \n",
            "                                 (None, 300)]                                                     \n",
            "                                                                                                  \n",
            " cu_dnnlstm_1 (CuDNNLSTM)       [(None, 300, 300),   722400      ['cu_dnnlstm[0][0]']             \n",
            "                                 (None, 300),                                                     \n",
            "                                 (None, 300)]                                                     \n",
            "                                                                                                  \n",
            " input_2 (InputLayer)           [(None, None)]       0           []                               \n",
            "                                                                                                  \n",
            " bidirectional (Bidirectional)  [(None, 300, 600),   1444800     ['cu_dnnlstm_1[0][0]']           \n",
            "                                 (None, 300),                                                     \n",
            "                                 (None, 300),                                                     \n",
            "                                 (None, 300),                                                     \n",
            "                                 (None, 300)]                                                     \n",
            "                                                                                                  \n",
            " embedding_1 (Embedding)        (None, None, 300)    1986300     ['input_2[0][0]']                \n",
            "                                                                                                  \n",
            " concatenate (Concatenate)      (None, 600)          0           ['bidirectional[0][1]',          \n",
            "                                                                  'bidirectional[0][3]']          \n",
            "                                                                                                  \n",
            " concatenate_1 (Concatenate)    (None, 600)          0           ['bidirectional[0][2]',          \n",
            "                                                                  'bidirectional[0][4]']          \n",
            "                                                                                                  \n",
            " cu_dnnlstm_3 (CuDNNLSTM)       [(None, None, 600),  2164800     ['embedding_1[0][0]',            \n",
            "                                 (None, 600),                     'concatenate[0][0]',            \n",
            "                                 (None, 600)]                     'concatenate_1[0][0]']          \n",
            "                                                                                                  \n",
            " time_distributed (TimeDistribu  (None, None, 6621)  3979221     ['cu_dnnlstm_3[0][0]']           \n",
            " ted)                                                                                             \n",
            "                                                                                                  \n",
            "==================================================================================================\n",
            "Total params: 20,342,721\n",
            "Trainable params: 20,342,721\n",
            "Non-trainable params: 0\n",
            "__________________________________________________________________________________________________\n"
          ]
        }
      ]
    },
    {
      "cell_type": "code",
      "source": [
        "# we remove the last word [:,:-1] & the first word [:,1:] so that the model can predict the next one\n",
        "#reshape is done because the decoder expects a 3d tensor\n",
        "history=model.fit([x_tr,y_tr[:,:-1]], y_tr.reshape(y_tr.shape[0],y_tr.shape[1], 1)[:,1:] ,epochs=50,callbacks=[es],batch_size=128,verbose=1, validation_data=([x_val,y_val[:,:-1]], y_val.reshape(y_val.shape[0],y_val.shape[1], 1)[:,1:]))"
      ],
      "metadata": {
        "id": "IUML-nawAiwA",
        "colab": {
          "base_uri": "https://localhost:8080/"
        },
        "outputId": "2a57cd90-ed7d-452d-cf10-8118b76a5c8d"
      },
      "id": "IUML-nawAiwA",
      "execution_count": null,
      "outputs": [
        {
          "output_type": "stream",
          "name": "stdout",
          "text": [
            "Epoch 1/50\n",
            "58/58 [==============================] - 44s 622ms/step - loss: 4.8770 - val_loss: 3.6909\n",
            "Epoch 2/50\n",
            "58/58 [==============================] - 34s 590ms/step - loss: 3.9840 - val_loss: 3.5127\n",
            "Epoch 3/50\n",
            "58/58 [==============================] - 29s 496ms/step - loss: 3.8798 - val_loss: 3.4882\n",
            "Epoch 4/50\n",
            "58/58 [==============================] - 30s 516ms/step - loss: 3.8253 - val_loss: 3.5151\n",
            "Epoch 5/50\n",
            "58/58 [==============================] - 28s 493ms/step - loss: 3.7766 - val_loss: 3.5026\n",
            "Epoch 6/50\n",
            "58/58 [==============================] - 28s 478ms/step - loss: 3.7255 - val_loss: 3.5323\n",
            "Epoch 6: early stopping\n"
          ]
        }
      ]
    },
    {
      "cell_type": "markdown",
      "source": [
        "**Model saved**"
      ],
      "metadata": {
        "id": "lAXC3KGGX9ci"
      },
      "id": "lAXC3KGGX9ci"
    },
    {
      "cell_type": "code",
      "source": [
        "import tensorflow as tf\n",
        "\n",
        "# Assuming you have already defined and compiled your model\n",
        "# Save the model weights\n",
        "model.save_weights(\"/content/drive/MyDrive/IITG/BiLSTM_LSTM_weights.h5\")"
      ],
      "metadata": {
        "id": "2bjxPS5IXz3y"
      },
      "id": "2bjxPS5IXz3y",
      "execution_count": null,
      "outputs": []
    },
    {
      "cell_type": "markdown",
      "source": [
        "**Model loaded**"
      ],
      "metadata": {
        "id": "4D45fWF0YELm"
      },
      "id": "4D45fWF0YELm"
    },
    {
      "cell_type": "code",
      "source": [
        "import tensorflow as tf\n",
        "\n",
        "# Load the saved model weights\n",
        "model.load_weights(\"/content/drive/MyDrive/IITG/BiLSTM_LSTM_weights.h5\")"
      ],
      "metadata": {
        "id": "5d9LmeqPX0_X"
      },
      "id": "5d9LmeqPX0_X",
      "execution_count": null,
      "outputs": []
    },
    {
      "cell_type": "markdown",
      "source": [
        "**Visualize the model learning**"
      ],
      "metadata": {
        "id": "4Q4JFaH5P19G"
      },
      "id": "4Q4JFaH5P19G"
    },
    {
      "cell_type": "code",
      "source": [
        "from matplotlib import pyplot\n",
        "pyplot.plot(history.history['loss'], label='train')\n",
        "pyplot.plot(history.history['val_loss'], label='test')\n",
        "pyplot.legend()\n",
        "pyplot.show()"
      ],
      "metadata": {
        "id": "bc4VsRfXAlQz",
        "colab": {
          "base_uri": "https://localhost:8080/",
          "height": 430
        },
        "outputId": "7739d7fe-d45c-4781-96a8-932cc0a27f33"
      },
      "id": "bc4VsRfXAlQz",
      "execution_count": null,
      "outputs": [
        {
          "output_type": "display_data",
          "data": {
            "text/plain": [
              "<Figure size 640x480 with 1 Axes>"
            ],
            "image/png": "[encoded data removed]"
          },
          "metadata": {}
        }
      ]
    },
    {
      "cell_type": "code",
      "source": [
        "reverse_target_word_index=y_tokenizer.index_word # from token int to word -> for y (tr summary)\n",
        "reverse_source_word_index=x_tokenizer.index_word # from token int to word -> for x(tr text)\n",
        "target_word_index=y_tokenizer.word_index # from word to token int -> for y(tr summary)"
      ],
      "metadata": {
        "id": "en_WnAIDqWpv"
      },
      "id": "en_WnAIDqWpv",
      "execution_count": null,
      "outputs": []
    },
    {
      "cell_type": "code",
      "source": [
        "#Model to summarize between 0-15 words for Summary and 0-300 words for Text\n",
        "max_text_len=300\n",
        "max_summary_len=16\n",
        "\n",
        "# these values are found from the histogram"
      ],
      "metadata": {
        "id": "o7tA17c_wVqK"
      },
      "id": "o7tA17c_wVqK",
      "execution_count": null,
      "outputs": []
    },
    {
      "cell_type": "code",
      "source": [
        "# Encode the input sequence to get the feature vector\n",
        "encoder_model = Model(inputs=encoder_inputs,outputs=[encoder_outputs, forward_h, forward_c, backward_h, backward_c])\n",
        "\n",
        "# Decoder setup\n",
        "# Below tensors will hold the states of the previous time step\n",
        "decoder_state_input_h = Input(shape=(latent_dim*2,))\n",
        "decoder_state_input_c = Input(shape=(latent_dim*2,))\n",
        "decoder_hidden_state_input = Input(shape=(max_text_len,latent_dim))\n",
        "\n",
        "\n",
        "# To predict the next word in the sequence, set the initial states to the states from the previous time step\n",
        "decoder_outputs2, state_h2, state_c2 = decoder_lstm(dec_emb, initial_state=[decoder_state_input_h, decoder_state_input_c])\n",
        "\n",
        "# A dense softmax layer to generate prob dist. over the target vocabulary\n",
        "decoder_outputs2 = decoder_dense(decoder_outputs2)\n",
        "\n",
        "# Final decoder model\n",
        "decoder_model = Model(\n",
        "    [decoder_inputs] + [decoder_state_input_h, decoder_state_input_c],\n",
        "    [decoder_outputs2] + [state_h2, state_c2]\n",
        ")"
      ],
      "metadata": {
        "id": "AHOIQdncJ0zC"
      },
      "id": "AHOIQdncJ0zC",
      "execution_count": null,
      "outputs": []
    },
    {
      "cell_type": "code",
      "source": [
        "def decode_sequence(input_seq):\n",
        "    # Encode the input as state vectors.\n",
        "    e_out, forward_h, forward_c, backward_h, backward_c = encoder_model.predict(input_seq,verbose=0)\n",
        "\n",
        "    e_h = Concatenate()([forward_h, backward_h])\n",
        "    e_c = Concatenate()([forward_c, backward_c])\n",
        "\n",
        "    # Generate empty target sequence of length 1.\n",
        "    target_seq = np.zeros((1,1))\n",
        "\n",
        "    # Populate the first word of target sequence with the start word.\n",
        "    target_seq[0, 0] = target_word_index['sostok']\n",
        "\n",
        "    stop_condition = False\n",
        "    decoded_sentence = ''\n",
        "    while not stop_condition:\n",
        "\n",
        "        output_tokens, h, c = decoder_model.predict([target_seq] + [e_h, e_c],verbose=0)\n",
        "\n",
        "        # Sample a token\n",
        "        sampled_token_index = np.argmax(output_tokens[0, -1, :])\n",
        "        sampled_token = reverse_target_word_index[sampled_token_index]\n",
        "\n",
        "        if(sampled_token!='eostok'):\n",
        "            decoded_sentence += ' '+sampled_token\n",
        "\n",
        "        # Exit condition: either hit max length or find stop word.\n",
        "        if (sampled_token == 'eostok'  or len(decoded_sentence.split()) >= (max_summary_len-1)):\n",
        "            stop_condition = True\n",
        "\n",
        "        # Update the target sequence (of length 1).\n",
        "        target_seq = np.zeros((1,1))\n",
        "        target_seq[0, 0] = sampled_token_index\n",
        "\n",
        "        # Update internal states\n",
        "        e_h, e_c = h, c\n",
        "\n",
        "    return decoded_sentence"
      ],
      "metadata": {
        "id": "VXuIqqwyNwos"
      },
      "id": "VXuIqqwyNwos",
      "execution_count": null,
      "outputs": []
    },
    {
      "cell_type": "markdown",
      "source": [
        "**INPUT SEQUENCE TO SUMMARY**\n",
        "\n",
        "Let us define the functions to convert an integer sequence to a word sequence for summary as well as the reviews:\n",
        "\n",
        "Run the model over the data to see the results"
      ],
      "metadata": {
        "id": "RvJveQ2Di3hG"
      },
      "id": "RvJveQ2Di3hG"
    },
    {
      "cell_type": "code",
      "source": [
        "def seq2summary(input_seq):\n",
        "    newString=''\n",
        "    for i in input_seq:\n",
        "        if((i!=0 and i!=target_word_index['sostok']) and i!=target_word_index['eostok']):\n",
        "            newString=newString+reverse_target_word_index[i]+' '\n",
        "    return newString\n",
        "\n",
        "def seq2text(input_seq):\n",
        "    newString=''\n",
        "    for i in input_seq:\n",
        "        if(i!=0):  #  --> padding i.e., WE IGNORE 0\n",
        "            newString=newString+reverse_source_word_index[i]+' '\n",
        "    return newString"
      ],
      "metadata": {
        "id": "u-G1hSvNhsqA"
      },
      "id": "u-G1hSvNhsqA",
      "execution_count": null,
      "outputs": []
    },
    {
      "cell_type": "code",
      "source": [
        "for i in range(0,10):\n",
        "    print(\"Review:\",seq2text(x_tr[i]))\n",
        "    print(\"Original summary:\",seq2summary(y_tr[i]))\n",
        "    print(\"Predicted summary:\",decode_sequence(x_tr[i].reshape(1,max_text_len)))\n",
        "    print(\"\\n\")"
      ],
      "metadata": {
        "id": "s_-UFp6-huBB",
        "colab": {
          "base_uri": "https://localhost:8080/"
        },
        "outputId": "9e19c5b9-e7ef-40d9-c045-4bdb4751c802"
      },
      "id": "s_-UFp6-huBB",
      "execution_count": null,
      "outputs": [
        {
          "output_type": "stream",
          "name": "stdout",
          "text": [
            "Review: টানা দশম সব যেন একে অপরকে টেক্কা দেওয়ার নেমেছে কিন্তু যে সব পর্যটক ও ঘুরে এসেছেন তাঁদের অনেককেই বলতে শোনা যাচ্ছে এ বার কিন্তু তিনটে জলপ্রপাতের মধ্যে হল হিরো নম্বর ওয়ান এই বর্ষায় টেক্কা দেওয়া কঠিন শুরু হয়ে গিয়েছে স্বাধীনতা দিবসের ছুটির মরশুম সোমবার ছুটি নিলেই টানা তিনদিন ধরে ছুটি তাই পর্যটকদের ভিড়ও প্রচুর এমনিতেই দশম খুব জলপ্রপাত গত বছরে দশমের পাথরে বসে স্নান করতে গিয়ে বেশ কয়েকজন পর্যটকের মৃত্যু হয়েছে এবার দশমের এই সচেতন জলপ্রপাতের কর্মীরা তাঁরা বারবার পর্যটকদের জলপ্রপাতের বেশি কাছে যেতে নিষেধ করছেন দশমের রুদ্রমূর্তি দেখে বেশি সাহস দেখানোর চেষ্টা করছেন না কাঁচি নদীর এই জলপ্রপাতের দশটি ধারায় জল পড়ে বলে এর নাম দশম জলপ্রপাত তবে এই বর্ষায় সব জলের ধারা মিলে মিশে একাকার দশম সঙ্গে বিন্দু বিন্দু জল হাওয়ায় উড়িয়ে দিচ্ছে ওই বিন্দু বিন্দু জল একসঙ্গে জমাট বেধে চলে যাচ্ছে অনেক দূর তাই জলপ্রপাত থেকে অনেকটা দূরে দাঁড়িয়ে থাকলেও হালকা ভিজিয়ে দিচ্ছে দশম দশমের এ ভাবেই ভিজতে ভিজতে কোনও এক পর্যটক বলে ওঠেন একেই বলে বোধহয় ভয়ঙ্কর সুন্দর \n",
            "Original summary: start সবাইকে টেক্কা দিচ্ছে দশম end \n",
            "Predicted summary:  start ফের থেকে ফের নিয়ে নিয়ে নিয়ে end\n",
            "\n",
            "\n",
            "Review: দুদিনের সফরে রাজ্যে এলেন প্রধানমন্ত্রী নরেন্দ্র মোদী বিকেল চারটে কুড়ি নাগাদ বায়ুসেনার বিশেষ বিমানে দমদমে পৌছলেন তিনি নির্ধারিত সময়ের মিনিট আগে রাজ্যে পৌছন তিনি বিমানবন্দরে প্রধানমন্ত্রীকে স্বাগত জানাল রাজ্যপাল ও অর্থমন্ত্রী অমিত মিত্র ছিলেন রাজ্য বিজেপি নেতারা ওয়েব ডেস্ক দুদিনের সফরে রাজ্যে এলেন প্রধানমন্ত্রী নরেন্দ্র মোদী বিকেল চারটে কুড়ি নাগাদ বায়ুসেনার বিশেষ বিমানে দমদমে পৌছলেন তিনি নির্ধারিত সময়ের মিনিট আগে রাজ্যে পৌছন তিনি বিমানবন্দরে প্রধানমন্ত্রীকে স্বাগত জানাল রাজ্যপাল ও অর্থমন্ত্রী অমিত মিত্র ছিলেন রাজ্য বিজেপি নেতারা বিমানবন্দর থেকে বায়ুসেনার হেলিকপ্টারে রেসকোর্স যান প্রধানমন্ত্রী রেসকোর্স থেকে যাবেন নজরুল মঞ্চে সেখানে একাধিক সামাজিক প্রকল্পের উদ্বোধন করবেন নজরুল মঞ্চ থেকে রামকৃষ্ণ মিশন সেবাপ্রতিষ্ঠানে যাবেন প্রধানমন্ত্রী সেখানে ভর্তি রয়েছেন রামকৃষ্ণ মঠ ও মিশনের অধ্যক্ষ স্বামী আত্মস্থানন্দ তাঁকে দেখে রাত আটটায় রাজভবনে যাবেন সেখানেই আটটা পাঁচে মুখ্যমন্ত্রীর সঙ্গে তাঁর বৈঠক তারপর সময় দেবেন রাজ্য বিজেপি নেতাদের রবিবার সকাল সাতটা পঞ্চাশে প্রধানমন্ত্রী যাবেন দক্ষিণেশ্বরে সেখান থেকে আটটা পঁচিশে পৌছবেন বেলুড় মঠে দশটা পঞ্চাশে বার্নপুরে ইসকোর আধুনিকীকরণ প্রকল্পের উদ্বোধন করবেন সাড়ে এগারোটায় জনসভায় ভাষণ দুপুর একটায় অণ্ডাল বিমান বন্দরে যাবেন প্রধানমন্ত্রী অণ্ডাল থেকেই ফিরবেন দিল্লিতে \n",
            "Original summary: start সময়ের মিনিট আগে শহরে এলেন প্রধানমন্ত্রী end \n",
            "Predicted summary:  start এবার থেকে এবার end\n",
            "\n",
            "\n",
            "Review: রোগী সেজে থেকে দালাল ধরল পুলিস আজ কার্ডিও থোরাসিক বিভাগ থেকে হাতেনাতে মহম্মদ নাজিম নামে ওই ব্যক্তিকে গ্রেফতার করল পুলিস রাজ্যের সুপার স্পেশালিটি হাসপাতাল চত্বরে রক্তের দালালি করত নাজিম হাসপাতালে দালালরাজ চলছেই রবিবার বিভাগ থেকে মহঃ নাজিম নামে আরও এক দালালকে গ্রেফতার করল পুলিস এ দাঁড়িয়েই রাজ্যের সুপার স্পেশালিটি হাসপাতালের দালালরাজ নিয়ে ক্ষোভ উগরে দেন মুখ্যমন্ত্রী ভবানীপুর থানাকে ব্যবস্থা নেওয়ার নির্দেশ দেন তারপরও রাশ টানা যাচ্ছে কই মাস কয়েক আগে দালাল চক্র চালানোর অভিযোগে গ্রেফতার করা হয় হাসপাতালেরই গ্রুপ ডি স্টাফ রাজেন মল্লিককে রবিবার পুলিসের জালে হাওড়ার বাসিন্দা মহঃ নাজিম ওয়েব ডেস্ক রোগী সেজে থেকে দালাল ধরল পুলিস আজ কার্ডিও থোরাসিক বিভাগ থেকে হাতেনাতে মহম্মদ নাজিম নামে ওই ব্যক্তিকে গ্রেফতার করল পুলিস রাজ্যের সুপার স্পেশালিটি হাসপাতাল চত্বরে রক্তের দালালি করত নাজিম হাসপাতালে দালালরাজ চলছেই রবিবার বিভাগ থেকে মহঃ নাজিম নামে আরও এক দালালকে গ্রেফতার করল পুলিস এ দাঁড়িয়েই রাজ্যের সুপার স্পেশালিটি হাসপাতালের দালালরাজ নিয়ে ক্ষোভ উগরে দেন মুখ্যমন্ত্রী ভবানীপুর থানাকে ব্যবস্থা নেওয়ার নির্দেশ দেন তারপরও রাশ টানা যাচ্ছে কই মাস কয়েক আগে দালাল চক্র চালানোর অভিযোগে গ্রেফতার করা হয় হাসপাতালেরই গ্রুপ ডি স্টাফ রাজেন মল্লিককে রবিবার পুলিসের জালে হাওড়ার বাসিন্দা মহঃ নাজিম মহঃ নাজিম দীর্ঘদিন ধরে হাসপাতালে রক্তের দালালি চালায় বিভিন্ন সূত্র থেকে পুলিসের কাছে সেখবর ছিল সম্প্রতি কার্ডিও থোরাসিক বিভাগে চিকিত্সাধীন বালিগঞ্জের এক রোগীর রক্তের দরকার পড়ে শনিবার রোগীর পরিবারের কাছে হাজার টাকার অস্ত্রোপচারের প্যাকেজ নিয়ে হাজির হয় নাজিম ফাঁদ পাতে পুলিস রবিবার রক্তের দরকার পড়তেই হাজির হয়ে যায় নাজিম তখনই হাতে নাতে ধরা হয় তাকে প্রতি প্যাকেট রক্তের জন্য টাকা আদায় করত নাজিম নাজিম যে হাসপাতাল চত্বরে রীতিমতো জমিয়ে বসেছিল রোগীদের কথা থেকেই তা স্পষ্ট পুলিসের জালে নাজিম কিন্তু দালালচক্রের দাঁড়ি পড়বে কি \n",
            "Original summary: start রোগী সেজে থেকে দালাল ধরল পুলিস end \n",
            "Predicted summary:  start কলকাতা থেকে এবার নিয়ে নিয়ে end\n",
            "\n",
            "\n",
            "Review: বিক্ষোভকারীদের শর্ত উপাচার্যকে আটকানো হচ্ছে না তিনি গেলে যেতে পারেন কিন্তু যেতে হবে পড়ুয়াদের মাড়িয়ে কিন্তু রাতভর উপাচার্য বিশ্ববিদ্যালয়েই থেকে যান   নিজস্ব প্রতিবেদন   কাউন্সিল নয় পুরোদস্তুর ছাত্র সংসদ গড়তে হবে এই দাবিতে ফের বিক্ষোভে উত্তাল যাদবপুর বিশ্ববিদ্যালয় সোমবার রাতভর যাদবপুরে অবস্থান বিক্ষোভ করলেন ছাত্রছাত্রীদের একাংশ বিক্ষোভকারীদের শর্ত উপাচার্যকে আটকানো হচ্ছে না তিনি গেলে যেতে পারেন কিন্তু যেতে হবে পড়ুয়াদের মাড়িয়ে কিন্তু রাতভর উপাচার্য বিশ্ববিদ্যালয়েই থেকে যান ছাত্রছাত্রীদের ছেড়ে যাননি তিনি কিন্তু যাদবপুরে ছাত্র আন্দোলনের যৌক্তিকতা নিয়েই মঙ্গলবার সকালে প্রশ্ন তোলেন উপাচার্য সুরঞ্জন দাস তাঁর যুক্তি আইন তো সরকার এনেছে সেই আইন সরকারকেই বদলাতে হবে সরকারের সঙ্গে আলোচনার জন্য যাদবপুরের নিয়ে কমিটি গড়ার প্রস্তাব দিয়েছে কর্তৃপক্ষ  রাতে ছাত্রদের সঙ্গে একাধিকবার বৈঠক করেন উপাচার্য যদিও এই নিয়ে এখনও কোনও পৌঁছানো সম্ভব হয়নি \n",
            "Original summary: start ছাত্র কাউন্সিলের দাবি ফের উত্তাল যাদবপুর বিশ্ববিদ্যালয় end \n",
            "Predicted summary:  start ফের থেকে ফের নিয়ে নিয়ে নিয়ে end\n",
            "\n",
            "\n",
            "Review: হিংস্র কোনও অজানা হামলায় জখম জন শিশু সহ এক মহিলা ঘটনাকে কেন্দ্র করে ব্যাপক চাঞ্চল্য ছড়িয়েছে দক্ষিণ এলাকায় গলায় কানে হাতে গুরুতর ক্ষত নিয়ে আহত অবস্থায় জখম শিশু ও মহিলাদের ইসলামপুর মহকুমা হাসপাতালে করা হয়েছে   অজানা ওই পশুর পরিচয় নিয়ে ধন্দে জখমদের পরিবার তবে আহতদের মধ্যে কেউ কেউ মনে করছেন অজানা ওই পশু আসলে চিতাবাঘ হাসপাতাল সূত্রে জানা গেছে   জন জখম অবস্থায় ভর্তি হয়েছে হাসপাতালে তাদের চিকিৎসা শুরু করা হয়েছে তাদের গলায় হাতে কানে ও গালে পশুর চিহ্ন পাওয়া গিয়েছে ঘটনার তদন্তে নেমেছে জেলা বন দফতর   জানা গিয়েছে বুধবার বিকেলে দক্ষিণ এলাকার খেলছিল এলাকার বেশ কয়েকটি শিশু তখনই আচমকা অজানা এক পশু তাদের ওপর হামলা চালায় এক এক করে জখম হয় টি শিশু ও একজন মহিলা অজানা পশুর হামলায় ব্যাপক আতঙ্ক ছড়ায় শিশুদের মধ্যে দেখুন ভিডিও আহত এক শিশুর অভিভাবক আবদুল জানিয়েছেন মাঠে খেলতে গিয়ে অজানা পশুর হামলায় টি শিশু গুরুতর আহত হয়েছে তবে আমাদের মনে হচ্ছে বন্য কোনও এই হামলা চালিয়েছে আমাদের এলাকার চারপাশে অনেক চা বাগান রয়েছে সেখানে মাঝে মধ্যে দেখা গিয়েছে চিতার আক্রমণে এর আগেও এলাকার অনেক মানুষ আহত হয়েছে তবে একসঙ্গে এতগুলি শিশুকে কোনও বন্যপ্রাণী আহত করেনি কোনও শিশু ভাল করে বলতেই পারছে না প্রাণীটির আকার ঠিক কীরকম ঘটনার পরে এখনও বনদফতর বা কেউই এলাকায় আসেনি আমরা খুব আতঙ্কে রয়েছি ইসলামপুর মহকুমা হাসপাতালের ভারপ্রাপ্ত সুপার এ কে সিনহা জানিয়েছেন বন্য কোনও শিশুদের উপর হামলা চালিয়েছে বলে মনে হচ্ছে চিকিৎসা শুরু করেছি   জেলাশাসক আয়েশা রানি বলেন আমরা ঘটনার খবর পেয়েছি এলাকার ঘটনার তদন্তের জন্য পাঠানো হয়েছে এদিকে বন আধিকারিক দত্ত দফতরের কাজে জেলার বাইরে থাকায় তিনি ঘটনাস্থলে পাঠিয়েছেন বলে জানা গিয়েছে দেখুন ভিডিও দেখুন ভিডিও \n",
            "Original summary: start টার্গেট শিশুরা অজানা আতঙ্কে কাঁটা দেখুন ভিডিও end \n",
            "Predicted summary:  start এবার থেকে এবার নিয়ে নিয়ে end\n",
            "\n",
            "\n",
            "Review: জোসে অ্যাটলেটিকো ডি কলকাতার কোচ হচ্ছেন না তা প্রায় আগেই ঠিক হয়ে গিয়েছিল এখনও সরকারিভাবে অ্যাটলেটিকো কলকাতার তরফ থেকে কিছু জানানো  না হলেও সূত্রের খবর চেয়ারে হয়তো বসতে চলেছেন বেঙ্গালুরু এফসির প্রাক্তন কোচ অ্যাশলে ওয়েস্টউড বেঙ্গালুরু এফসির হয়ে দুবারের আইলিগ এবং ফেডারেশন কাপ জয়ী কোচ বেঙ্গালুরুর দায়িত্ব ছাড়ার পর সুপার লিগে এফসির কোচ হয়েছিলেন তবে সেখানে সফল হতে পারেননি তিনি বর্তমানে ছিলেন ওয়েস্টউড তবে কিছু কর্তা এখনও কথা স্বীকার না করলেও জানিয়ে রাখছেন অন্যভাবে ব্যবহার করার পরিকল্পনা রয়েছে এটিকের কী সেই পরিকল্পনা জানা গিয়েছে কোচ হিসেবে সম্ভব না হলে ডিরেক্টর হিসেবেও নিয়োগ করতে পারেন কর্তারা সেক্ষেত্রে শুধু দল নয় মাঠের বাইরেও গুরুত্বপূর্ণ প্রভাব থাকবে অর্থাৎ না পাওয়ায় ঘর কাজ শুরু করে দিয়েছে এটিকে কলকাতার দলটির সঙ্গে অ্যাটলেটিকো মাদ্রিদের গাঁটছড়া আদৌ থাকছে কিনা তার জবাব দেবে সময় তবে ওয়েস্টউড যে আসছেন তা দিনের আলোর মতোই পরিষ্কার   উল্লেখ্য ম্যাঞ্চেস্টার ইউনাইটেডের ট্রেনার হিসেবে কেরিয়ার শুরু করেছিলেন ওয়েস্টউড রেড ডেভিলস সংসারের প্রাক্তনী এবার সফল হবে নতুন ভূমিকায় দেখা যাক \n",
            "Original summary: start সৌরভের এটিকের দায়িত্বে আসছেন আইলিগ জয়ী কোচ end \n",
            "Predicted summary:  start কলকাতা নিয়ে নিয়ে নিয়ে end\n",
            "\n",
            "\n",
            "Review: ফোন করার মিনিটের মধ্যে চুরি যাওয়া গয়না এবং টাকা ফিরিয়ে দিল চোর গোটা ঘটনাই অবিশ্বাস্য যাদবপুরের এক ব্যবসায়ী পরিবারের তদন্তে নেমে দুজনকে গ্রেফতার করেছে পুলিশ   ঘটনাস্থল যাদবপুরের কালীতলা লেন শনিবার রাত সাড়ে টা নাগাদ বাড়ি ফেরেন কৌশিক ভট্টাচার্যের পরিবারের সদস্যেরা দরজায় চাবি তাঁরা বুঝতে পারেন দরজা খোলা ঢুকে দেখেন ঘর লন্ডভন্ড হয়ে রয়েছে একটি ঘরের আলমারি এবং অন্য ঘরের লকার খোলা আলমারি থেকে টাকা গায়েব লকার থেকে চুরি গিয়েছে কয়েক লক্ষ টাকার গয়না সঙ্গে সঙ্গেই যাদবপুর থানায় অভিযোগ জানান কৌশিক   পরিবারের সদস্যেরা জানিয়েছেন গত ডিসেম্বর কাশ্মীর বেড়াতে গিয়েছিলেন তাঁরা ফেরেন শনিবার তার বাড়িতে চুরি হয় রবিবার সকালে বাড়ির পরিচারিকা মণ্ডলের বোন তাঁদের জনৈক কথা বলে তাকে বললে নাকি চুরি যাওয়া সামগ্রী ফিরে পাওয়া যাবে এদিন দুপুর দেড়টা নাগাদ ফোন করেন কৌশিক কৌশিকের কথায় ফোনে বলে চিন্তা করবেন না দুঘণ্টার মধ্যে সব ফিরে পাবেন এর মিনিটের মধ্যে বাড়ির নীচে সাইকেলে ঝোলানো অবস্থায় একটি প্যাকেট উদ্ধার হয় সেই প্যাকেটের মধ্যে মেলে চুরি যাওয়া গয়না এবং কিছু টাকা তারপর খাটের নীচে আরও একটি প্যাকেট থেকে টাকা উদ্ধার হয় কৌশিকের স্ত্রী বলেন সকাল থেকে সব ঘরে খুঁজেছি কোথাও কিছু ছিল না কে রেখে গেল দেখতে পাইনি তবে বলে কিছু মানি না   পুলিশ সূত্রের খবর পরিচারিকা এবং গাড়ির চালক জয়রাম রাউতকে জিজ্ঞাসাবাদ করা হয় পরে গ্রেফতার করা হয় তাদের একইসঙ্গে ভূমিকাও খতিয়ে দেখা হচ্ছে তবে চুরির জন্য দরজা বা জানলা ভাঙা হয়নি তদন্তকারীদের প্রাথমিক অনুমান নকল চাবি ব্যবহার করা হয়ে থাকতে পারে চুরি প্রসঙ্গে অবশ্য দাবি আমি প্রায় সাত বছর কাজ করছি জানি না কীভাবে চুরি হয়েছে আমি জড়িত নই একই দাবি করেছেন \n",
            "Original summary: start বলা মাত্র সামগ্রী ফেরাল চোর রহস্য রয়েছে দাবি করল পরিবার end \n",
            "Predicted summary:  start ফের থেকে ফের নিয়ে নিয়ে নিয়ে end\n",
            "\n",
            "\n",
            "Review: ওয়েব ডেস্ক প্রতীক্ষার অবসান প্রায় তিন বছর দশ মাস পরে আজ রায় ঘোষণা হবে পার্ক স্ট্রিট ধর্ষণ কাণ্ডের ন্যায্য বিচার কি পাবে নির্যাতিতার পরিবার পাঁচই ফেব্রুয়ারি দুহাজার বারো পার্ক স্ট্রিট এলাকায় শুনসান রাস্তায় রাতে অন্ধকারে বিলাসবহুল গাড়ির মধ্যেই ধর্ষিতা হন এক তরুণী রাতেই অভিযোগ জানাতে ছুটে যান থানায় তারপর যা ঘটেছিল তা এরাজ্যের পুলিস এবং প্রশাসনের কাছে একটি কলঙ্কিত অধ্যায় হয়েই থাকবে শুধু ধর্ষিতার চরিত্রই নয় পুলিসের তরফে প্রশ্ন তোলা হয় ঘটনার সত্যতা নিয়েও কলকাতা পুলিসের তত্কালীন নগরপাল রঞ্জিত দাবি করেছিলেন গোটা ঘটনা সরকারের ভাবমুর্তি নষ্ট করার চেষ্টা মাত্র তারপর থেকেই পার্ক স্ট্রিট কাণ্ড নিয়ে রাজ্য জুড়ে তোলপাড় শুরু হয়ে যায় চাপে পড়ে রুমান খান সুমিত বাজাজ এবং নাসের খান নামে তিন অভিযুক্তকে গ্রেফতার করে পুলিস তবে ফেরার মূল অভিযুক্ত কাদের খান এবং মহম্মদ আলি এরপর থেকে সম্পূর্ণ অন্য এক ভূমিকায় দেখা গেল নির্যাতিতাকে   যেখানেই নারী নির্যাতনের ঘটনা ঘটেছে ছুটে গিয়েছেন তিনি ফলে অচিরেই পার্ক স্ট্রিট কাণ্ডের নির্যাতিতা হয়ে ওঠেন প্রতিবাদের আরও একটি মুখ সব প্রতিকূলতাকে অতিক্রম করে লড়াই চালিয়ে গিয়েছেন তিনি তেরোই মার্চ দু হাজার পনেরো মৃত্যু হয় প্রতিবাদীর তবে প্রতিবাদী না থাকলেও সুবিচার মিলবে আশা আইনজীবীর ভারাক্রান্ত মনে মেয়ের দোষীদের শাস্তি কামনা করেন মা বিচার পাবেন কি প্রতিবাদী শাস্তি হবে কি দোষীদের জানা যাবে জানা যাবে আজ \n",
            "Original summary: start বছর মাস পরে আজ রায় ঘোষণা হবে পার্ক স্ট্রিট ধর্ষণ কাণ্ডের end \n",
            "Predicted summary:  start ফের থেকে ফের নিয়ে নিয়ে end\n",
            "\n",
            "\n",
            "Review: দিঘার হোটেল থেকে উদ্ধার হল যুবকযুবতীর ঝুলন্ত দেহ শুক্রবার সকালে নিউ দিঘার একটি হোটেল থেকে ওই যুগলের দেহ উদ্ধার হয় মৃতদের দাম গোপাল সরকার ও সরকার হোটেল কর্তৃপক্ষের কাছে তাঁরা এই নাম দিয়েই রুম বুক করেছিলেন বলে জানা গিয়েছে এই বিষয়ে অন্যান্য খবর ফুটফুটে বাচ্চাটি কার দিঘার সৈকতে শিশুর কান্না জল্পনা চাপা দিল সমুদ্রের গর্জন দিঘায় মারাত্মক অভিযোগ মহিলা পর্যটককে প্রায় বিবস্ত্র করে হেনস্থা জানা গিয়েছে স্বামীস্ত্রীর পরিচয় দিয়ে ওই যুগল গত তারিখ হোটেলে ওঠেন হোটেলের হুগলির গ্রামের বাসিন্দা বলেন তাঁরা শুক্রবারই তাঁদের ফিরে যাওয়ার কথা ছিল   এদিন সকালে রুমের মধ্যে থেকে যুবকযুবতীর কোনও সাড়াশব্দ না পাওয়ায় সন্দেহ হয় মধ্যে পরে দরজা ভাঙতেই তাঁদের ঝুলন্ত দেহ দেখতে পান পরে পুলিশ এসে উদ্ধার করে ময়নাতদন্তের জন্য পাঠায় পুলিশের প্রাথমিক ধারণা প্রেমঘটিত কারণের জেরে আত্মহত্যা করেছেন ওই যুগল ঘটনার তদন্তে নেমেছে দিঘা থানার পুলিশ \n",
            "Original summary: start দিঘার হোটেলে রহস্য পরিচয় নিয়ে পুলিশ end \n",
            "Predicted summary:  start এবার end\n",
            "\n",
            "\n",
            "Review: সিপিএমের চেয়েও কয়েক কদম এগিয়ে গেল সিপিআই বিজেপিকে রুখতে বৃহত্তর গণতান্ত্রিক ঐক্যের পথে তারা থাকছে তো বটেই কংগ্রেসের সঙ্গে প্রয়োজনে নির্বাচনী সমঝোতার পথও সিপিআই খুলে দিল তাদের তম পার্টি কংগ্রেসে কেরলের রবিবার শেষ হওয়া সিপিআইয়ের পার্টি কংগ্রেসে গৃহীত রাজনৈতিক প্রস্তাবে সিপিএমের মতোই বলা হয়েছে এখন প্রধান বিপদ তাদের ধর্মনিরপেক্ষ ও গণতান্ত্রিক সব শক্তিকে এক জায়গায় আনতে হবে পার্টি কংগ্রেসে বিতর্কের শেষে জবাবি ভাষণে সিপিআইয়ের সাধারণ সম্পাদক সুধাকর রেড্ডি জানিয়ে দিয়েছেন রাজনৈতিক লড়াইয়ের অঙ্গ তাই সেখানেও প্রয়োজনে কংগ্রেসকে সঙ্গে রাখতে হবে নির্বাচনী কোথায় কী ভাবে কংগ্রেস বা অন্য কোনও দলের সঙ্গে যাওয়া হবে তা ঠিক করার ভার রাজ্যগুলির উপরেই ছেড়ে দিয়েছে সিপিআই পার্টি কংগ্রেসের এমন সিদ্ধান্তে খুশি বাংলার সিপিআই নেতৃত্বের বড় অংশ তাঁরাও ধর্মনিরপেক্ষ সব শক্তিকে একজোট করে লড়াইয়ের পক্ষে দলের রাজ্য সম্মেলনের আগে কলকাতা জেলা সম্মেলনেই প্রথম প্রস্তাব নেওয়া হয়েছিল প্রয়োজনে কংগ্রেসের সঙ্গে ভোটে আসন করেই বিজেপির বিরুদ্ধে লড়তে হবে সেই পথেই স্বীকৃতি মিলল পার্টি কংগ্রেসে সিপিআই সূত্রের খবর পার্টি কংগ্রেসে এ বার কেরলের নেতারাও মত দিয়েছেন কংগ্রেসকে করে রেখে এখন আর বিরুদ্ধে লড়াই সম্ভব নয় পার্টি কংগ্রেসের পর্বে গেরুয়া শিবিরের বিরুদ্ধে সর্বাত্মক আহ্বান জানিয়েছিলেন সিপিএমের সাধারণ সম্পাদক সীতারাম ইয়েচুরি পার্টি কংগ্রেস থেকে ফের সিপিআইয়ের সাধারণ সম্পাদক নির্বাচিত হয়েছেন কেন্দ্রীয় সম্পাদকমণ্ডলীর থেকে বাড়িয়ে করা হয়েছে শারীরিক কারণে দাশগুপ্ত অব্যাহতি নেওয়ায় তাঁর জায়গায় বাংলা থেকে কেন্দ্রীয় এসেছেন পল্লব সেনগুপ্ত আর নতুন জাতীয় পরিষদে জায়গা পেয়েছেন জেএনইউএর ছাত্র সংসদ থেকে উঠে আসা ছাত্রনেতা কানহাইয়া কুমার বাংলা থেকে জাতীয় পরিষদের নতুন সদস্য উজ্জ্বল চৌধুরী ও দাস ঠাকুর \n",
            "Original summary: start কংগ্রেসের সঙ্গে সায় end \n",
            "Predicted summary:  start end\n",
            "\n",
            "\n"
          ]
        }
      ]
    },
    {
      "cell_type": "markdown",
      "source": [
        "**ROUGE SCORE**"
      ],
      "metadata": {
        "id": "2l_12IjEP95s"
      },
      "id": "2l_12IjEP95s"
    },
    {
      "cell_type": "code",
      "source": [
        "!pip install rouge"
      ],
      "metadata": {
        "colab": {
          "base_uri": "https://localhost:8080/"
        },
        "outputId": "317cbe22-c395-407c-cc9a-a82097aa97f0",
        "id": "8vbeYfXuNLDm"
      },
      "execution_count": null,
      "outputs": [
        {
          "output_type": "stream",
          "name": "stdout",
          "text": [
            "Requirement already satisfied: rouge in /usr/local/lib/python3.10/dist-packages (1.0.1)\n",
            "Requirement already satisfied: six in /usr/local/lib/python3.10/dist-packages (from rouge) (1.16.0)\n"
          ]
        }
      ],
      "id": "8vbeYfXuNLDm"
    },
    {
      "cell_type": "code",
      "source": [
        "!pip install rouge-score"
      ],
      "metadata": {
        "id": "Zjz6-gQyP7kd",
        "colab": {
          "base_uri": "https://localhost:8080/"
        },
        "outputId": "4f21e00c-28e8-4e3c-810f-a0e2f3bfe651"
      },
      "id": "Zjz6-gQyP7kd",
      "execution_count": null,
      "outputs": [
        {
          "output_type": "stream",
          "name": "stdout",
          "text": [
            "Requirement already satisfied: rouge-score in /usr/local/lib/python3.10/dist-packages (0.1.2)\n",
            "Requirement already satisfied: absl-py in /usr/local/lib/python3.10/dist-packages (from rouge-score) (1.4.0)\n",
            "Requirement already satisfied: nltk in /usr/local/lib/python3.10/dist-packages (from rouge-score) (3.8.1)\n",
            "Requirement already satisfied: numpy in /usr/local/lib/python3.10/dist-packages (from rouge-score) (1.23.5)\n",
            "Requirement already satisfied: six>=1.14.0 in /usr/local/lib/python3.10/dist-packages (from rouge-score) (1.16.0)\n",
            "Requirement already satisfied: click in /usr/local/lib/python3.10/dist-packages (from nltk->rouge-score) (8.1.6)\n",
            "Requirement already satisfied: joblib in /usr/local/lib/python3.10/dist-packages (from nltk->rouge-score) (1.3.2)\n",
            "Requirement already satisfied: regex>=2021.8.3 in /usr/local/lib/python3.10/dist-packages (from nltk->rouge-score) (2023.6.3)\n",
            "Requirement already satisfied: tqdm in /usr/local/lib/python3.10/dist-packages (from nltk->rouge-score) (4.66.1)\n"
          ]
        }
      ]
    },
    {
      "cell_type": "code",
      "source": [
        "def calculate_precision_recall_fmeasure(predicted_summary, original_summary):\n",
        "    predicted_set = set(predicted_summary)\n",
        "    reference_set = set(original_summary)\n",
        "\n",
        "    # Calculate precision\n",
        "    precision = len(predicted_set.intersection(reference_set)) / len(predicted_set)\n",
        "\n",
        "\n",
        "    # Calculate recall\n",
        "    if len(reference_set) > 0:\n",
        "        recall = len(predicted_set.intersection(reference_set)) / len(reference_set)\n",
        "    else:\n",
        "        recall = 0.0\n",
        "\n",
        "\n",
        "    # Calculate F-measure\n",
        "    if precision + recall != 0:\n",
        "        f_measure = 2 * (precision * recall) / (precision + recall)\n",
        "    else:\n",
        "        f_measure = 0.0\n",
        "\n",
        "\n",
        "    return precision, recall, f_measure"
      ],
      "metadata": {
        "id": "OGf1r-nQP8J0"
      },
      "id": "OGf1r-nQP8J0",
      "execution_count": null,
      "outputs": []
    },
    {
      "cell_type": "code",
      "source": [
        "from rouge import Rouge\n",
        "rouge=Rouge()\n",
        "\n",
        "precision = []\n",
        "recall = []\n",
        "f_measure = []\n",
        "Rough_f=[]\n",
        "Rough_p=[]\n",
        "Rough_r=[]\n",
        "\n",
        "for i in range(1000):\n",
        "    p, r, f= calculate_precision_recall_fmeasure(decode_sequence(x_tr[i].reshape(1, max_text_len)), seq2summary(y_tr[i]))\n",
        "    precision.append(p)\n",
        "    recall.append(r)\n",
        "    f_measure.append(f)\n",
        "\n",
        "    # Calculate ROUGE scores using rouge library\n",
        "    scores = rouge.get_scores(decode_sequence(x_tr[i].reshape(1, max_text_len)), seq2summary(y_tr[i]))\n",
        "    Rough_f.append(scores[0]['rouge-1']['f'])\n",
        "    Rough_p.append(scores[0]['rouge-1']['p'])\n",
        "    Rough_r.append(scores[0]['rouge-1']['r'])\n",
        "\n",
        "print(\"Precision: \", sum(precision)/len(precision))\n",
        "print(\"Recall:\", sum(recall)/len(recall))\n",
        "print(\"F-Measure / F1-Score:\", sum(f_measure)/len(f_measure))\n",
        "print(\"\\nRough:\\n\\t1. F:\", sum(Rough_f)/len(Rough_f),\"\\n\\t2. P:\",sum(Rough_p)/len(Rough_p),\"\\n\\t2. R:\",sum(Rough_r)/len(Rough_r))"
      ],
      "metadata": {
        "id": "6oXHaZPXP8hN",
        "colab": {
          "base_uri": "https://localhost:8080/"
        },
        "outputId": "6eaa3706-2e7c-4fdb-f3fa-dd99fb11839c"
      },
      "id": "6oXHaZPXP8hN",
      "execution_count": null,
      "outputs": [
        {
          "output_type": "stream",
          "name": "stdout",
          "text": [
            "Precision:  0.8341330863924518\n",
            "Recall: 0.5396400425902748\n",
            "F-Measure / F1-Score: 0.6462839927955499\n",
            "\n",
            "Rough:\n",
            "\t1. F: 0.3032058895684539 \n",
            "\t2. P: 0.3900626984126984 \n",
            "\t2. R: 0.2620068598068598\n"
          ]
        }
      ]
    },
    {
      "cell_type": "code",
      "source": [
        "!pip install evaluate"
      ],
      "metadata": {
        "colab": {
          "base_uri": "https://localhost:8080/"
        },
        "id": "ap_3HXgm0IWf",
        "outputId": "47677a71-6c6e-4943-be9d-ec5f1794e8dc"
      },
      "id": "ap_3HXgm0IWf",
      "execution_count": null,
      "outputs": [
        {
          "output_type": "stream",
          "name": "stdout",
          "text": [
            "Requirement already satisfied: evaluate in /usr/local/lib/python3.10/dist-packages (0.4.0)\n",
            "Requirement already satisfied: datasets>=2.0.0 in /usr/local/lib/python3.10/dist-packages (from evaluate) (2.14.4)\n",
            "Requirement already satisfied: numpy>=1.17 in /usr/local/lib/python3.10/dist-packages (from evaluate) (1.23.5)\n",
            "Requirement already satisfied: dill in /usr/local/lib/python3.10/dist-packages (from evaluate) (0.3.7)\n",
            "Requirement already satisfied: pandas in /usr/local/lib/python3.10/dist-packages (from evaluate) (1.5.3)\n",
            "Requirement already satisfied: requests>=2.19.0 in /usr/local/lib/python3.10/dist-packages (from evaluate) (2.31.0)\n",
            "Requirement already satisfied: tqdm>=4.62.1 in /usr/local/lib/python3.10/dist-packages (from evaluate) (4.66.1)\n",
            "Requirement already satisfied: xxhash in /usr/local/lib/python3.10/dist-packages (from evaluate) (3.3.0)\n",
            "Requirement already satisfied: multiprocess in /usr/local/lib/python3.10/dist-packages (from evaluate) (0.70.15)\n",
            "Requirement already satisfied: fsspec[http]>=2021.05.0 in /usr/local/lib/python3.10/dist-packages (from evaluate) (2023.6.0)\n",
            "Requirement already satisfied: huggingface-hub>=0.7.0 in /usr/local/lib/python3.10/dist-packages (from evaluate) (0.16.4)\n",
            "Requirement already satisfied: packaging in /usr/local/lib/python3.10/dist-packages (from evaluate) (23.1)\n",
            "Requirement already satisfied: responses<0.19 in /usr/local/lib/python3.10/dist-packages (from evaluate) (0.18.0)\n",
            "Requirement already satisfied: pyarrow>=8.0.0 in /usr/local/lib/python3.10/dist-packages (from datasets>=2.0.0->evaluate) (9.0.0)\n",
            "Requirement already satisfied: aiohttp in /usr/local/lib/python3.10/dist-packages (from datasets>=2.0.0->evaluate) (3.8.5)\n",
            "Requirement already satisfied: pyyaml>=5.1 in /usr/local/lib/python3.10/dist-packages (from datasets>=2.0.0->evaluate) (6.0.1)\n",
            "Requirement already satisfied: filelock in /usr/local/lib/python3.10/dist-packages (from huggingface-hub>=0.7.0->evaluate) (3.12.2)\n",
            "Requirement already satisfied: typing-extensions>=3.7.4.3 in /usr/local/lib/python3.10/dist-packages (from huggingface-hub>=0.7.0->evaluate) (4.7.1)\n",
            "Requirement already satisfied: charset-normalizer<4,>=2 in /usr/local/lib/python3.10/dist-packages (from requests>=2.19.0->evaluate) (3.2.0)\n",
            "Requirement already satisfied: idna<4,>=2.5 in /usr/local/lib/python3.10/dist-packages (from requests>=2.19.0->evaluate) (3.4)\n",
            "Requirement already satisfied: urllib3<3,>=1.21.1 in /usr/local/lib/python3.10/dist-packages (from requests>=2.19.0->evaluate) (2.0.4)\n",
            "Requirement already satisfied: certifi>=2017.4.17 in /usr/local/lib/python3.10/dist-packages (from requests>=2.19.0->evaluate) (2023.7.22)\n",
            "Requirement already satisfied: python-dateutil>=2.8.1 in /usr/local/lib/python3.10/dist-packages (from pandas->evaluate) (2.8.2)\n",
            "Requirement already satisfied: pytz>=2020.1 in /usr/local/lib/python3.10/dist-packages (from pandas->evaluate) (2023.3)\n",
            "Requirement already satisfied: attrs>=17.3.0 in /usr/local/lib/python3.10/dist-packages (from aiohttp->datasets>=2.0.0->evaluate) (23.1.0)\n",
            "Requirement already satisfied: multidict<7.0,>=4.5 in /usr/local/lib/python3.10/dist-packages (from aiohttp->datasets>=2.0.0->evaluate) (6.0.4)\n",
            "Requirement already satisfied: async-timeout<5.0,>=4.0.0a3 in /usr/local/lib/python3.10/dist-packages (from aiohttp->datasets>=2.0.0->evaluate) (4.0.3)\n",
            "Requirement already satisfied: yarl<2.0,>=1.0 in /usr/local/lib/python3.10/dist-packages (from aiohttp->datasets>=2.0.0->evaluate) (1.9.2)\n",
            "Requirement already satisfied: frozenlist>=1.1.1 in /usr/local/lib/python3.10/dist-packages (from aiohttp->datasets>=2.0.0->evaluate) (1.4.0)\n",
            "Requirement already satisfied: aiosignal>=1.1.2 in /usr/local/lib/python3.10/dist-packages (from aiohttp->datasets>=2.0.0->evaluate) (1.3.1)\n",
            "Requirement already satisfied: six>=1.5 in /usr/local/lib/python3.10/dist-packages (from python-dateutil>=2.8.1->pandas->evaluate) (1.16.0)\n"
          ]
        }
      ]
    },
    {
      "cell_type": "code",
      "source": [
        "from rouge_score import rouge_scorer"
      ],
      "metadata": {
        "id": "ucCKndeA0YnO"
      },
      "id": "ucCKndeA0YnO",
      "execution_count": null,
      "outputs": []
    },
    {
      "cell_type": "code",
      "source": [
        "from rouge_score import rouge_scorer\n",
        "from tqdm import tqdm\n",
        "\n",
        "# Initialize the scorer\n",
        "scorer = rouge_scorer.RougeScorer(['rouge1', 'rouge2', 'rouge3', 'rougeL'])\n",
        "\n",
        "# Initialize variables to store cumulative scores\n",
        "total_scores = {'rouge1': {'precision': 0, 'recall': 0, 'fmeasure': 0},\n",
        "                'rouge2': {'precision': 0, 'recall': 0, 'fmeasure': 0},\n",
        "                'rouge3': {'precision': 0, 'recall': 0, 'fmeasure': 0},\n",
        "                'rougeL': {'precision': 0, 'recall': 0, 'fmeasure': 0}}\n",
        "\n",
        "num_samples = len(y_tr)\n",
        "\n",
        "# Use tqdm to create a progress bar\n",
        "for i in tqdm(range(1000), desc=\"Calculating ROUGE scores\"):\n",
        "    y_or = seq2summary(y_tr[i])\n",
        "    y_pred = decode_sequence(x_tr[i].reshape(1, max_text_len))\n",
        "    scores = scorer.score(y_or, y_pred)\n",
        "\n",
        "    for key in scores:\n",
        "        total_scores[key]['precision'] += scores[key].precision\n",
        "        total_scores[key]['recall'] += scores[key].recall\n",
        "        total_scores[key]['fmeasure'] += scores[key].fmeasure\n",
        "\n",
        "# Calculate averages\n",
        "average_scores = {}\n",
        "for key in total_scores:\n",
        "    average_scores[key] = {\n",
        "        'precision': total_scores[key]['precision'] / num_samples,\n",
        "        'recall': total_scores[key]['recall'] / num_samples,\n",
        "        'fmeasure': total_scores[key]['fmeasure'] / num_samples\n",
        "    }\n",
        "\n",
        "# Print average scores\n",
        "for key in average_scores:\n",
        "    print(f'{key}: Precision={average_scores[key][\"precision\"]:.4f}, Recall={average_scores[key][\"recall\"]:.4f}, F1-score={average_scores[key][\"fmeasure\"]:.4f}')"
      ],
      "metadata": {
        "colab": {
          "base_uri": "https://localhost:8080/"
        },
        "id": "VkddFa_B0inJ",
        "outputId": "756c268e-6c44-4538-9f9d-85edb862cedc"
      },
      "id": "VkddFa_B0inJ",
      "execution_count": null,
      "outputs": [
        {
          "output_type": "stream",
          "name": "stderr",
          "text": [
            "Calculating ROUGE scores: 100%|██████████| 1000/1000 [12:21<00:00,  1.35it/s]"
          ]
        },
        {
          "output_type": "stream",
          "name": "stdout",
          "text": [
            "rouge1: Precision=0.1368, Recall=0.1370, F1-score=0.1369\n",
            "rouge2: Precision=0.1367, Recall=0.1367, F1-score=0.1367\n",
            "rouge3: Precision=0.0000, Recall=0.0000, F1-score=0.0000\n",
            "rougeL: Precision=0.1368, Recall=0.1370, F1-score=0.1369\n"
          ]
        },
        {
          "output_type": "stream",
          "name": "stderr",
          "text": [
            "\n"
          ]
        }
      ]
    },
    {
      "cell_type": "markdown",
      "source": [
        "# **BiLSTM-GRU**"
      ],
      "metadata": {
        "id": "_wdNTxcsQHto"
      },
      "id": "_wdNTxcsQHto"
    },
    {
      "cell_type": "code",
      "source": [
        "from keras.layers import Input, Embedding, Bidirectional, LSTM, GRU, RepeatVector, Concatenate, Dense, TimeDistributed\n",
        "from keras.layers import CuDNNLSTM, CuDNNGRU\n",
        "from keras.optimizers import Adam\n",
        "from keras.preprocessing.text import Tokenizer\n",
        "from tensorflow.keras.preprocessing.sequence import pad_sequences\n",
        "from tensorflow.keras import backend as K\n",
        "import numpy as np\n",
        "from keras import backend as K\n",
        "from tensorflow.keras.models import Model\n",
        "from tensorflow.keras.callbacks import EarlyStopping\n",
        "import warnings\n",
        "import pandas as pd\n",
        "pd.set_option(\"display.max_colwidth\", 200)\n",
        "warnings.filterwarnings(\"ignore\")\n",
        "\n",
        "K.clear_session()\n",
        "\n",
        "# Input lengths\n",
        "max_text_len = 300\n",
        "latent_dim = 300\n",
        "embedding_dim = 300\n",
        "\n",
        "# Encoder\n",
        "encoder_inputs = Input(shape=(max_text_len,))\n",
        "enc_emb = Embedding(x_voc, embedding_dim, weights=[ft_embedding_matrix_encoder], trainable=True)(encoder_inputs)\n",
        "\n",
        "# Encoder Layer\n",
        "encoder_bilstm_1 = Bidirectional(CuDNNLSTM(latent_dim, return_sequences=True, return_state=True))\n",
        "encoder_output1, forward_h1, forward_c1, backward_h1, backward_c1 = encoder_bilstm_1(enc_emb)\n",
        "\n",
        "encoder_bilstm_2 = Bidirectional(CuDNNLSTM(latent_dim, return_sequences=True, return_state=True))\n",
        "encoder_output2, forward_h2, forward_c2, backward_h2, backward_c2 = encoder_bilstm_2(encoder_output1)\n",
        "\n",
        "encoder_bilstm = Bidirectional(CuDNNLSTM(latent_dim, return_sequences=True, return_state=True))\n",
        "encoder_outputs, forward_h, forward_c, backward_h, backward_c = encoder_bilstm(encoder_output2)\n",
        "\n",
        "# Concatenate the forward and backward states\n",
        "state_h = Concatenate()([forward_h, backward_h])\n",
        "state_c = Concatenate()([forward_c, backward_c])\n",
        "\n",
        "# Decoder\n",
        "decoder_inputs = Input(shape=(None,))\n",
        "dec_emb = Embedding(input_dim=y_voc, output_dim=embedding_dim, weights=[ft_embedding_matrix_decoder], trainable=True)(decoder_inputs)\n",
        "\n",
        "decoder_gru = CuDNNGRU(latent_dim*2, return_sequences=True, return_state=True)\n",
        "decoder_outputs, decoder_state_h = decoder_gru(dec_emb, initial_state=state_h)\n",
        "\n",
        "# Dense layer\n",
        "decoder_dense = TimeDistributed(Dense(y_voc, activation='softmax'))\n",
        "decoder_outputs = decoder_dense(decoder_outputs)\n",
        "\n",
        "# Define the model\n",
        "model = Model(inputs=[encoder_inputs, decoder_inputs], outputs=decoder_outputs)\n",
        "\n",
        "model.summary()\n",
        "\n",
        "model.compile(optimizer='Adam', loss='sparse_categorical_crossentropy')\n",
        "\n",
        "# Early Stopping\n",
        "es = EarlyStopping(monitor='val_loss', mode='min', verbose=1, patience=3)"
      ],
      "metadata": {
        "id": "KdvCqCocQPZL",
        "colab": {
          "base_uri": "https://localhost:8080/"
        },
        "outputId": "00ae9875-f069-4abb-c017-3c1cc73ebe0e"
      },
      "id": "KdvCqCocQPZL",
      "execution_count": null,
      "outputs": [
        {
          "output_type": "stream",
          "name": "stdout",
          "text": [
            "Model: \"model\"\n",
            "__________________________________________________________________________________________________\n",
            " Layer (type)                   Output Shape         Param #     Connected to                     \n",
            "==================================================================================================\n",
            " input_1 (InputLayer)           [(None, 300)]        0           []                               \n",
            "                                                                                                  \n",
            " embedding (Embedding)          (None, 300, 300)     9322800     ['input_1[0][0]']                \n",
            "                                                                                                  \n",
            " bidirectional (Bidirectional)  [(None, 300, 600),   1444800     ['embedding[0][0]']              \n",
            "                                 (None, 300),                                                     \n",
            "                                 (None, 300),                                                     \n",
            "                                 (None, 300),                                                     \n",
            "                                 (None, 300)]                                                     \n",
            "                                                                                                  \n",
            " bidirectional_1 (Bidirectional  [(None, 300, 600),  2164800     ['bidirectional[0][0]']          \n",
            " )                               (None, 300),                                                     \n",
            "                                 (None, 300),                                                     \n",
            "                                 (None, 300),                                                     \n",
            "                                 (None, 300)]                                                     \n",
            "                                                                                                  \n",
            " input_2 (InputLayer)           [(None, None)]       0           []                               \n",
            "                                                                                                  \n",
            " bidirectional_2 (Bidirectional  [(None, 300, 600),  2164800     ['bidirectional_1[0][0]']        \n",
            " )                               (None, 300),                                                     \n",
            "                                 (None, 300),                                                     \n",
            "                                 (None, 300),                                                     \n",
            "                                 (None, 300)]                                                     \n",
            "                                                                                                  \n",
            " embedding_1 (Embedding)        (None, None, 300)    1986300     ['input_2[0][0]']                \n",
            "                                                                                                  \n",
            " concatenate (Concatenate)      (None, 600)          0           ['bidirectional_2[0][1]',        \n",
            "                                                                  'bidirectional_2[0][3]']        \n",
            "                                                                                                  \n",
            " cu_dnngru (CuDNNGRU)           [(None, None, 600),  1623600     ['embedding_1[0][0]',            \n",
            "                                 (None, 600)]                     'concatenate[0][0]']            \n",
            "                                                                                                  \n",
            " time_distributed (TimeDistribu  (None, None, 6621)  3979221     ['cu_dnngru[0][0]']              \n",
            " ted)                                                                                             \n",
            "                                                                                                  \n",
            "==================================================================================================\n",
            "Total params: 22,686,321\n",
            "Trainable params: 22,686,321\n",
            "Non-trainable params: 0\n",
            "__________________________________________________________________________________________________\n"
          ]
        }
      ]
    },
    {
      "cell_type": "code",
      "source": [
        "# we remove the last word [:,:-1] & the first word [:,1:] so that the model can predict the next one\n",
        "#reshape is done because the decoder expects a 3d tensor\n",
        "history=model.fit([x_tr,y_tr[:,:-1]], y_tr.reshape(y_tr.shape[0],y_tr.shape[1], 1)[:,1:] ,epochs=50,callbacks=[es],batch_size=128,verbose=1, validation_data=([x_val,y_val[:,:-1]], y_val.reshape(y_val.shape[0],y_val.shape[1], 1)[:,1:]))"
      ],
      "metadata": {
        "id": "vCYsn23tRdlC",
        "colab": {
          "base_uri": "https://localhost:8080/"
        },
        "outputId": "54fbae2d-54de-49cb-aaa7-0f441810ac1c"
      },
      "id": "vCYsn23tRdlC",
      "execution_count": null,
      "outputs": [
        {
          "output_type": "stream",
          "name": "stdout",
          "text": [
            "Epoch 1/50\n",
            "58/58 [==============================] - 62s 907ms/step - loss: 4.9591 - val_loss: 3.6868\n",
            "Epoch 2/50\n",
            "58/58 [==============================] - 44s 762ms/step - loss: 3.9739 - val_loss: 3.4981\n",
            "Epoch 3/50\n",
            "58/58 [==============================] - 44s 762ms/step - loss: 3.8659 - val_loss: 3.4936\n",
            "Epoch 4/50\n",
            "58/58 [==============================] - 39s 673ms/step - loss: 3.8003 - val_loss: 3.4735\n",
            "Epoch 5/50\n",
            "58/58 [==============================] - 43s 735ms/step - loss: 3.7256 - val_loss: 3.4564\n",
            "Epoch 6/50\n",
            "58/58 [==============================] - 39s 662ms/step - loss: 3.6350 - val_loss: 3.4524\n",
            "Epoch 7/50\n",
            "58/58 [==============================] - 39s 666ms/step - loss: 3.5391 - val_loss: 3.4745\n",
            "Epoch 8/50\n",
            "58/58 [==============================] - 39s 673ms/step - loss: 3.4361 - val_loss: 3.4768\n",
            "Epoch 9/50\n",
            "58/58 [==============================] - 41s 707ms/step - loss: 3.3193 - val_loss: 3.4814\n",
            "Epoch 9: early stopping\n"
          ]
        }
      ]
    },
    {
      "cell_type": "code",
      "source": [
        "import tensorflow as tf\n",
        "\n",
        "# Assuming you have already defined and compiled your model\n",
        "# Save the model weights\n",
        "model.save_weights(\"/content/drive/MyDrive/IITG/BiLSTM_GRU_weights.h5\")"
      ],
      "metadata": {
        "id": "bQlXMe_89xLq"
      },
      "id": "bQlXMe_89xLq",
      "execution_count": null,
      "outputs": []
    },
    {
      "cell_type": "code",
      "source": [
        "import tensorflow as tf\n",
        "\n",
        "# Load the saved model weights\n",
        "model.load_weights(\"/content/drive/MyDrive/IITG/BiLSTM_GRU_weights.h5\")"
      ],
      "metadata": {
        "id": "zxJKuPOw9wtu"
      },
      "id": "zxJKuPOw9wtu",
      "execution_count": null,
      "outputs": []
    },
    {
      "cell_type": "markdown",
      "source": [
        "**Visualize the model learning**"
      ],
      "metadata": {
        "id": "UO6NjhjyRpem"
      },
      "id": "UO6NjhjyRpem"
    },
    {
      "cell_type": "code",
      "source": [
        "from matplotlib import pyplot\n",
        "pyplot.plot(history.history['loss'], label='train')\n",
        "pyplot.plot(history.history['val_loss'], label='test')\n",
        "pyplot.legend()\n",
        "pyplot.show()"
      ],
      "metadata": {
        "id": "MmltDhxcRhxw",
        "colab": {
          "base_uri": "https://localhost:8080/",
          "height": 430
        },
        "outputId": "a856a94a-3837-4a9d-d15d-97602d68ae98"
      },
      "id": "MmltDhxcRhxw",
      "execution_count": null,
      "outputs": [
        {
          "output_type": "display_data",
          "data": {
            "text/plain": [
              "<Figure size 640x480 with 1 Axes>"
            ],
            "image/png": "[encoded data removed]"
          },
          "metadata": {}
        }
      ]
    },
    {
      "cell_type": "code",
      "source": [
        "reverse_target_word_index=y_tokenizer.index_word # from token int to word -> for y (tr summary)\n",
        "reverse_source_word_index=x_tokenizer.index_word # from token int to word -> for x(tr text)\n",
        "target_word_index=y_tokenizer.word_index # from word to token int -> for y(tr summary)"
      ],
      "metadata": {
        "id": "gHGMqQVeRiFl"
      },
      "id": "gHGMqQVeRiFl",
      "execution_count": null,
      "outputs": []
    },
    {
      "cell_type": "code",
      "source": [
        "#Model to summarize between 0-15 words for Summary and 0-300 words for Text\n",
        "max_text_len=300\n",
        "max_summary_len=16\n",
        "\n",
        "# these values are found from the histogram"
      ],
      "metadata": {
        "id": "6kepIKbFRvqt"
      },
      "id": "6kepIKbFRvqt",
      "execution_count": null,
      "outputs": []
    },
    {
      "cell_type": "code",
      "source": [
        "# Encode the input sequence to get the feature vector\n",
        "encoder_model = Model(inputs=encoder_inputs, outputs=[encoder_outputs, state_h, state_c])\n",
        "\n",
        "# Decoder setup\n",
        "# Below tensors will hold the states of the previous time step\n",
        "decoder_state_input_h = Input(shape=(latent_dim*2,))\n",
        "decoder_state_input_c = Input(shape=(latent_dim*2,))\n",
        "decoder_hidden_state_input = Input(shape=(max_text_len, latent_dim*2))\n",
        "\n",
        "# To predict the next word in the sequence, set the initial states to the states from the previous time step\n",
        "decoder_outputs2, state_h2 = decoder_gru(dec_emb, initial_state=decoder_state_input_h)\n",
        "\n",
        "# A dense softmax layer to generate probability distribution over the target vocabulary\n",
        "decoder_outputs2 = decoder_dense(decoder_outputs2)\n",
        "\n",
        "# Final decoder model\n",
        "decoder_model = Model(\n",
        "    [decoder_inputs] + [decoder_state_input_h],\n",
        "    [decoder_outputs2] + [state_h2]\n",
        ")"
      ],
      "metadata": {
        "id": "Actqq0aJRv-c"
      },
      "id": "Actqq0aJRv-c",
      "execution_count": null,
      "outputs": []
    },
    {
      "cell_type": "code",
      "source": [
        "def decode_sequence(input_seq):\n",
        "    # Encode the input as state vectors.\n",
        "    e_out, e_h, e_c = encoder_model.predict(input_seq, verbose=0)\n",
        "\n",
        "    # Generate empty target sequence of length 1.\n",
        "    target_seq = np.zeros((1, 1))\n",
        "\n",
        "    # Populate the first word of the target sequence with the start word.\n",
        "    target_seq[0, 0] = target_word_index['sostok']\n",
        "\n",
        "    stop_condition = False\n",
        "    decoded_sentence = ''\n",
        "    while not stop_condition:\n",
        "        output_tokens, h = decoder_model.predict([target_seq] + [e_h], verbose=0)\n",
        "\n",
        "        # Sample a token\n",
        "        sampled_token_index = np.argmax(output_tokens[0, -1, :])\n",
        "        sampled_token = reverse_target_word_index[sampled_token_index]\n",
        "\n",
        "        if sampled_token != 'eostok':\n",
        "            decoded_sentence += ' ' + sampled_token\n",
        "\n",
        "        # Exit condition: either hit the max length or find the stop word.\n",
        "        if sampled_token == 'eostok' or len(decoded_sentence.split()) >= (max_summary_len - 1):\n",
        "            stop_condition = True\n",
        "\n",
        "        # Update the target sequence (of length 1).\n",
        "        target_seq = np.zeros((1, 1))\n",
        "        target_seq[0, 0] = sampled_token_index\n",
        "\n",
        "        # Update internal states\n",
        "        e_h = h\n",
        "\n",
        "    return decoded_sentence"
      ],
      "metadata": {
        "id": "kIiw7KrjRwRd"
      },
      "id": "kIiw7KrjRwRd",
      "execution_count": null,
      "outputs": []
    },
    {
      "cell_type": "markdown",
      "source": [
        "**INPUT SEQUENCE TO SUMMARY**\n",
        "\n",
        "Let us define the functions to convert an integer sequence to a word sequence for summary as well as the reviews:\n",
        "\n",
        "Run the model over the data to see the results"
      ],
      "metadata": {
        "id": "yaUAjYbQiYGx"
      },
      "id": "yaUAjYbQiYGx"
    },
    {
      "cell_type": "code",
      "source": [
        "def seq2summary(input_seq):\n",
        "    newString=''\n",
        "    for i in input_seq:\n",
        "        if((i!=0 and i!=target_word_index['sostok']) and i!=target_word_index['eostok']):\n",
        "            newString=newString+reverse_target_word_index[i]+' '\n",
        "    return newString\n",
        "\n",
        "def seq2text(input_seq):\n",
        "    newString=''\n",
        "    for i in input_seq:\n",
        "        if(i!=0):  #  --> padding i.e., WE IGNORE 0\n",
        "            newString=newString+reverse_source_word_index[i]+' '\n",
        "    return newString"
      ],
      "metadata": {
        "id": "cThw_pwEh7Oj"
      },
      "id": "cThw_pwEh7Oj",
      "execution_count": null,
      "outputs": []
    },
    {
      "cell_type": "code",
      "source": [
        "for i in range(0,10):\n",
        "    print(\"Review:\",seq2text(x_tr[i]))\n",
        "    print(\"Original summary:\",seq2summary(y_tr[i]))\n",
        "    print(\"Predicted summary:\",decode_sequence(x_tr[i].reshape(1,max_text_len)))\n",
        "    print(\"\\n\")"
      ],
      "metadata": {
        "id": "0n_9ljLXh8iU",
        "colab": {
          "base_uri": "https://localhost:8080/"
        },
        "outputId": "3d08a773-283f-402b-cabd-53b27938a15e"
      },
      "id": "0n_9ljLXh8iU",
      "execution_count": null,
      "outputs": [
        {
          "output_type": "stream",
          "name": "stdout",
          "text": [
            "Review: টানা দশম সব যেন একে অপরকে টেক্কা দেওয়ার নেমেছে কিন্তু যে সব পর্যটক ও ঘুরে এসেছেন তাঁদের অনেককেই বলতে শোনা যাচ্ছে এ বার কিন্তু তিনটে জলপ্রপাতের মধ্যে হল হিরো নম্বর ওয়ান এই বর্ষায় টেক্কা দেওয়া কঠিন শুরু হয়ে গিয়েছে স্বাধীনতা দিবসের ছুটির মরশুম সোমবার ছুটি নিলেই টানা তিনদিন ধরে ছুটি তাই পর্যটকদের ভিড়ও প্রচুর এমনিতেই দশম খুব জলপ্রপাত গত বছরে দশমের পাথরে বসে স্নান করতে গিয়ে বেশ কয়েকজন পর্যটকের মৃত্যু হয়েছে এবার দশমের এই সচেতন জলপ্রপাতের কর্মীরা তাঁরা বারবার পর্যটকদের জলপ্রপাতের বেশি কাছে যেতে নিষেধ করছেন দশমের রুদ্রমূর্তি দেখে বেশি সাহস দেখানোর চেষ্টা করছেন না কাঁচি নদীর এই জলপ্রপাতের দশটি ধারায় জল পড়ে বলে এর নাম দশম জলপ্রপাত তবে এই বর্ষায় সব জলের ধারা মিলে মিশে একাকার দশম সঙ্গে বিন্দু বিন্দু জল হাওয়ায় উড়িয়ে দিচ্ছে ওই বিন্দু বিন্দু জল একসঙ্গে জমাট বেধে চলে যাচ্ছে অনেক দূর তাই জলপ্রপাত থেকে অনেকটা দূরে দাঁড়িয়ে থাকলেও হালকা ভিজিয়ে দিচ্ছে দশম দশমের এ ভাবেই ভিজতে ভিজতে কোনও এক পর্যটক বলে ওঠেন একেই বলে বোধহয় ভয়ঙ্কর সুন্দর \n",
            "Original summary: start সবাইকে টেক্কা দিচ্ছে দশম end \n",
            "Predicted summary:  start নতুন শৃঙ্গজয় গেল মৃত্যু end\n",
            "\n",
            "\n",
            "Review: দুদিনের সফরে রাজ্যে এলেন প্রধানমন্ত্রী নরেন্দ্র মোদী বিকেল চারটে কুড়ি নাগাদ বায়ুসেনার বিশেষ বিমানে দমদমে পৌছলেন তিনি নির্ধারিত সময়ের মিনিট আগে রাজ্যে পৌছন তিনি বিমানবন্দরে প্রধানমন্ত্রীকে স্বাগত জানাল রাজ্যপাল ও অর্থমন্ত্রী অমিত মিত্র ছিলেন রাজ্য বিজেপি নেতারা ওয়েব ডেস্ক দুদিনের সফরে রাজ্যে এলেন প্রধানমন্ত্রী নরেন্দ্র মোদী বিকেল চারটে কুড়ি নাগাদ বায়ুসেনার বিশেষ বিমানে দমদমে পৌছলেন তিনি নির্ধারিত সময়ের মিনিট আগে রাজ্যে পৌছন তিনি বিমানবন্দরে প্রধানমন্ত্রীকে স্বাগত জানাল রাজ্যপাল ও অর্থমন্ত্রী অমিত মিত্র ছিলেন রাজ্য বিজেপি নেতারা বিমানবন্দর থেকে বায়ুসেনার হেলিকপ্টারে রেসকোর্স যান প্রধানমন্ত্রী রেসকোর্স থেকে যাবেন নজরুল মঞ্চে সেখানে একাধিক সামাজিক প্রকল্পের উদ্বোধন করবেন নজরুল মঞ্চ থেকে রামকৃষ্ণ মিশন সেবাপ্রতিষ্ঠানে যাবেন প্রধানমন্ত্রী সেখানে ভর্তি রয়েছেন রামকৃষ্ণ মঠ ও মিশনের অধ্যক্ষ স্বামী আত্মস্থানন্দ তাঁকে দেখে রাত আটটায় রাজভবনে যাবেন সেখানেই আটটা পাঁচে মুখ্যমন্ত্রীর সঙ্গে তাঁর বৈঠক তারপর সময় দেবেন রাজ্য বিজেপি নেতাদের রবিবার সকাল সাতটা পঞ্চাশে প্রধানমন্ত্রী যাবেন দক্ষিণেশ্বরে সেখান থেকে আটটা পঁচিশে পৌছবেন বেলুড় মঠে দশটা পঞ্চাশে বার্নপুরে ইসকোর আধুনিকীকরণ প্রকল্পের উদ্বোধন করবেন সাড়ে এগারোটায় জনসভায় ভাষণ দুপুর একটায় অণ্ডাল বিমান বন্দরে যাবেন প্রধানমন্ত্রী অণ্ডাল থেকেই ফিরবেন দিল্লিতে \n",
            "Original summary: start সময়ের মিনিট আগে শহরে এলেন প্রধানমন্ত্রী end \n",
            "Predicted summary:  start নতুন শৃঙ্গজয় গেল মৃত্যু end\n",
            "\n",
            "\n",
            "Review: রোগী সেজে থেকে দালাল ধরল পুলিস আজ কার্ডিও থোরাসিক বিভাগ থেকে হাতেনাতে মহম্মদ নাজিম নামে ওই ব্যক্তিকে গ্রেফতার করল পুলিস রাজ্যের সুপার স্পেশালিটি হাসপাতাল চত্বরে রক্তের দালালি করত নাজিম হাসপাতালে দালালরাজ চলছেই রবিবার বিভাগ থেকে মহঃ নাজিম নামে আরও এক দালালকে গ্রেফতার করল পুলিস এ দাঁড়িয়েই রাজ্যের সুপার স্পেশালিটি হাসপাতালের দালালরাজ নিয়ে ক্ষোভ উগরে দেন মুখ্যমন্ত্রী ভবানীপুর থানাকে ব্যবস্থা নেওয়ার নির্দেশ দেন তারপরও রাশ টানা যাচ্ছে কই মাস কয়েক আগে দালাল চক্র চালানোর অভিযোগে গ্রেফতার করা হয় হাসপাতালেরই গ্রুপ ডি স্টাফ রাজেন মল্লিককে রবিবার পুলিসের জালে হাওড়ার বাসিন্দা মহঃ নাজিম ওয়েব ডেস্ক রোগী সেজে থেকে দালাল ধরল পুলিস আজ কার্ডিও থোরাসিক বিভাগ থেকে হাতেনাতে মহম্মদ নাজিম নামে ওই ব্যক্তিকে গ্রেফতার করল পুলিস রাজ্যের সুপার স্পেশালিটি হাসপাতাল চত্বরে রক্তের দালালি করত নাজিম হাসপাতালে দালালরাজ চলছেই রবিবার বিভাগ থেকে মহঃ নাজিম নামে আরও এক দালালকে গ্রেফতার করল পুলিস এ দাঁড়িয়েই রাজ্যের সুপার স্পেশালিটি হাসপাতালের দালালরাজ নিয়ে ক্ষোভ উগরে দেন মুখ্যমন্ত্রী ভবানীপুর থানাকে ব্যবস্থা নেওয়ার নির্দেশ দেন তারপরও রাশ টানা যাচ্ছে কই মাস কয়েক আগে দালাল চক্র চালানোর অভিযোগে গ্রেফতার করা হয় হাসপাতালেরই গ্রুপ ডি স্টাফ রাজেন মল্লিককে রবিবার পুলিসের জালে হাওড়ার বাসিন্দা মহঃ নাজিম মহঃ নাজিম দীর্ঘদিন ধরে হাসপাতালে রক্তের দালালি চালায় বিভিন্ন সূত্র থেকে পুলিসের কাছে সেখবর ছিল সম্প্রতি কার্ডিও থোরাসিক বিভাগে চিকিত্সাধীন বালিগঞ্জের এক রোগীর রক্তের দরকার পড়ে শনিবার রোগীর পরিবারের কাছে হাজার টাকার অস্ত্রোপচারের প্যাকেজ নিয়ে হাজির হয় নাজিম ফাঁদ পাতে পুলিস রবিবার রক্তের দরকার পড়তেই হাজির হয়ে যায় নাজিম তখনই হাতে নাতে ধরা হয় তাকে প্রতি প্যাকেট রক্তের জন্য টাকা আদায় করত নাজিম নাজিম যে হাসপাতাল চত্বরে রীতিমতো জমিয়ে বসেছিল রোগীদের কথা থেকেই তা স্পষ্ট পুলিসের জালে নাজিম কিন্তু দালালচক্রের দাঁড়ি পড়বে কি \n",
            "Original summary: start রোগী সেজে থেকে দালাল ধরল পুলিস end \n",
            "Predicted summary:  start নতুন শৃঙ্গজয় গেল মৃত্যু end\n",
            "\n",
            "\n",
            "Review: বিক্ষোভকারীদের শর্ত উপাচার্যকে আটকানো হচ্ছে না তিনি গেলে যেতে পারেন কিন্তু যেতে হবে পড়ুয়াদের মাড়িয়ে কিন্তু রাতভর উপাচার্য বিশ্ববিদ্যালয়েই থেকে যান   নিজস্ব প্রতিবেদন   কাউন্সিল নয় পুরোদস্তুর ছাত্র সংসদ গড়তে হবে এই দাবিতে ফের বিক্ষোভে উত্তাল যাদবপুর বিশ্ববিদ্যালয় সোমবার রাতভর যাদবপুরে অবস্থান বিক্ষোভ করলেন ছাত্রছাত্রীদের একাংশ বিক্ষোভকারীদের শর্ত উপাচার্যকে আটকানো হচ্ছে না তিনি গেলে যেতে পারেন কিন্তু যেতে হবে পড়ুয়াদের মাড়িয়ে কিন্তু রাতভর উপাচার্য বিশ্ববিদ্যালয়েই থেকে যান ছাত্রছাত্রীদের ছেড়ে যাননি তিনি কিন্তু যাদবপুরে ছাত্র আন্দোলনের যৌক্তিকতা নিয়েই মঙ্গলবার সকালে প্রশ্ন তোলেন উপাচার্য সুরঞ্জন দাস তাঁর যুক্তি আইন তো সরকার এনেছে সেই আইন সরকারকেই বদলাতে হবে সরকারের সঙ্গে আলোচনার জন্য যাদবপুরের নিয়ে কমিটি গড়ার প্রস্তাব দিয়েছে কর্তৃপক্ষ  রাতে ছাত্রদের সঙ্গে একাধিকবার বৈঠক করেন উপাচার্য যদিও এই নিয়ে এখনও কোনও পৌঁছানো সম্ভব হয়নি \n",
            "Original summary: start ছাত্র কাউন্সিলের দাবি ফের উত্তাল যাদবপুর বিশ্ববিদ্যালয় end \n",
            "Predicted summary:  start নতুন শৃঙ্গজয় গেল মৃত্যু end\n",
            "\n",
            "\n",
            "Review: হিংস্র কোনও অজানা হামলায় জখম জন শিশু সহ এক মহিলা ঘটনাকে কেন্দ্র করে ব্যাপক চাঞ্চল্য ছড়িয়েছে দক্ষিণ এলাকায় গলায় কানে হাতে গুরুতর ক্ষত নিয়ে আহত অবস্থায় জখম শিশু ও মহিলাদের ইসলামপুর মহকুমা হাসপাতালে করা হয়েছে   অজানা ওই পশুর পরিচয় নিয়ে ধন্দে জখমদের পরিবার তবে আহতদের মধ্যে কেউ কেউ মনে করছেন অজানা ওই পশু আসলে চিতাবাঘ হাসপাতাল সূত্রে জানা গেছে   জন জখম অবস্থায় ভর্তি হয়েছে হাসপাতালে তাদের চিকিৎসা শুরু করা হয়েছে তাদের গলায় হাতে কানে ও গালে পশুর চিহ্ন পাওয়া গিয়েছে ঘটনার তদন্তে নেমেছে জেলা বন দফতর   জানা গিয়েছে বুধবার বিকেলে দক্ষিণ এলাকার খেলছিল এলাকার বেশ কয়েকটি শিশু তখনই আচমকা অজানা এক পশু তাদের ওপর হামলা চালায় এক এক করে জখম হয় টি শিশু ও একজন মহিলা অজানা পশুর হামলায় ব্যাপক আতঙ্ক ছড়ায় শিশুদের মধ্যে দেখুন ভিডিও আহত এক শিশুর অভিভাবক আবদুল জানিয়েছেন মাঠে খেলতে গিয়ে অজানা পশুর হামলায় টি শিশু গুরুতর আহত হয়েছে তবে আমাদের মনে হচ্ছে বন্য কোনও এই হামলা চালিয়েছে আমাদের এলাকার চারপাশে অনেক চা বাগান রয়েছে সেখানে মাঝে মধ্যে দেখা গিয়েছে চিতার আক্রমণে এর আগেও এলাকার অনেক মানুষ আহত হয়েছে তবে একসঙ্গে এতগুলি শিশুকে কোনও বন্যপ্রাণী আহত করেনি কোনও শিশু ভাল করে বলতেই পারছে না প্রাণীটির আকার ঠিক কীরকম ঘটনার পরে এখনও বনদফতর বা কেউই এলাকায় আসেনি আমরা খুব আতঙ্কে রয়েছি ইসলামপুর মহকুমা হাসপাতালের ভারপ্রাপ্ত সুপার এ কে সিনহা জানিয়েছেন বন্য কোনও শিশুদের উপর হামলা চালিয়েছে বলে মনে হচ্ছে চিকিৎসা শুরু করেছি   জেলাশাসক আয়েশা রানি বলেন আমরা ঘটনার খবর পেয়েছি এলাকার ঘটনার তদন্তের জন্য পাঠানো হয়েছে এদিকে বন আধিকারিক দত্ত দফতরের কাজে জেলার বাইরে থাকায় তিনি ঘটনাস্থলে পাঠিয়েছেন বলে জানা গিয়েছে দেখুন ভিডিও দেখুন ভিডিও \n",
            "Original summary: start টার্গেট শিশুরা অজানা আতঙ্কে কাঁটা দেখুন ভিডিও end \n",
            "Predicted summary:  start নতুন শৃঙ্গজয় গেল মৃত্যু end\n",
            "\n",
            "\n",
            "Review: জোসে অ্যাটলেটিকো ডি কলকাতার কোচ হচ্ছেন না তা প্রায় আগেই ঠিক হয়ে গিয়েছিল এখনও সরকারিভাবে অ্যাটলেটিকো কলকাতার তরফ থেকে কিছু জানানো  না হলেও সূত্রের খবর চেয়ারে হয়তো বসতে চলেছেন বেঙ্গালুরু এফসির প্রাক্তন কোচ অ্যাশলে ওয়েস্টউড বেঙ্গালুরু এফসির হয়ে দুবারের আইলিগ এবং ফেডারেশন কাপ জয়ী কোচ বেঙ্গালুরুর দায়িত্ব ছাড়ার পর সুপার লিগে এফসির কোচ হয়েছিলেন তবে সেখানে সফল হতে পারেননি তিনি বর্তমানে ছিলেন ওয়েস্টউড তবে কিছু কর্তা এখনও কথা স্বীকার না করলেও জানিয়ে রাখছেন অন্যভাবে ব্যবহার করার পরিকল্পনা রয়েছে এটিকের কী সেই পরিকল্পনা জানা গিয়েছে কোচ হিসেবে সম্ভব না হলে ডিরেক্টর হিসেবেও নিয়োগ করতে পারেন কর্তারা সেক্ষেত্রে শুধু দল নয় মাঠের বাইরেও গুরুত্বপূর্ণ প্রভাব থাকবে অর্থাৎ না পাওয়ায় ঘর কাজ শুরু করে দিয়েছে এটিকে কলকাতার দলটির সঙ্গে অ্যাটলেটিকো মাদ্রিদের গাঁটছড়া আদৌ থাকছে কিনা তার জবাব দেবে সময় তবে ওয়েস্টউড যে আসছেন তা দিনের আলোর মতোই পরিষ্কার   উল্লেখ্য ম্যাঞ্চেস্টার ইউনাইটেডের ট্রেনার হিসেবে কেরিয়ার শুরু করেছিলেন ওয়েস্টউড রেড ডেভিলস সংসারের প্রাক্তনী এবার সফল হবে নতুন ভূমিকায় দেখা যাক \n",
            "Original summary: start সৌরভের এটিকের দায়িত্বে আসছেন আইলিগ জয়ী কোচ end \n",
            "Predicted summary:  start নতুন শৃঙ্গজয় গেল মৃত্যু end\n",
            "\n",
            "\n",
            "Review: ফোন করার মিনিটের মধ্যে চুরি যাওয়া গয়না এবং টাকা ফিরিয়ে দিল চোর গোটা ঘটনাই অবিশ্বাস্য যাদবপুরের এক ব্যবসায়ী পরিবারের তদন্তে নেমে দুজনকে গ্রেফতার করেছে পুলিশ   ঘটনাস্থল যাদবপুরের কালীতলা লেন শনিবার রাত সাড়ে টা নাগাদ বাড়ি ফেরেন কৌশিক ভট্টাচার্যের পরিবারের সদস্যেরা দরজায় চাবি তাঁরা বুঝতে পারেন দরজা খোলা ঢুকে দেখেন ঘর লন্ডভন্ড হয়ে রয়েছে একটি ঘরের আলমারি এবং অন্য ঘরের লকার খোলা আলমারি থেকে টাকা গায়েব লকার থেকে চুরি গিয়েছে কয়েক লক্ষ টাকার গয়না সঙ্গে সঙ্গেই যাদবপুর থানায় অভিযোগ জানান কৌশিক   পরিবারের সদস্যেরা জানিয়েছেন গত ডিসেম্বর কাশ্মীর বেড়াতে গিয়েছিলেন তাঁরা ফেরেন শনিবার তার বাড়িতে চুরি হয় রবিবার সকালে বাড়ির পরিচারিকা মণ্ডলের বোন তাঁদের জনৈক কথা বলে তাকে বললে নাকি চুরি যাওয়া সামগ্রী ফিরে পাওয়া যাবে এদিন দুপুর দেড়টা নাগাদ ফোন করেন কৌশিক কৌশিকের কথায় ফোনে বলে চিন্তা করবেন না দুঘণ্টার মধ্যে সব ফিরে পাবেন এর মিনিটের মধ্যে বাড়ির নীচে সাইকেলে ঝোলানো অবস্থায় একটি প্যাকেট উদ্ধার হয় সেই প্যাকেটের মধ্যে মেলে চুরি যাওয়া গয়না এবং কিছু টাকা তারপর খাটের নীচে আরও একটি প্যাকেট থেকে টাকা উদ্ধার হয় কৌশিকের স্ত্রী বলেন সকাল থেকে সব ঘরে খুঁজেছি কোথাও কিছু ছিল না কে রেখে গেল দেখতে পাইনি তবে বলে কিছু মানি না   পুলিশ সূত্রের খবর পরিচারিকা এবং গাড়ির চালক জয়রাম রাউতকে জিজ্ঞাসাবাদ করা হয় পরে গ্রেফতার করা হয় তাদের একইসঙ্গে ভূমিকাও খতিয়ে দেখা হচ্ছে তবে চুরির জন্য দরজা বা জানলা ভাঙা হয়নি তদন্তকারীদের প্রাথমিক অনুমান নকল চাবি ব্যবহার করা হয়ে থাকতে পারে চুরি প্রসঙ্গে অবশ্য দাবি আমি প্রায় সাত বছর কাজ করছি জানি না কীভাবে চুরি হয়েছে আমি জড়িত নই একই দাবি করেছেন \n",
            "Original summary: start বলা মাত্র সামগ্রী ফেরাল চোর রহস্য রয়েছে দাবি করল পরিবার end \n",
            "Predicted summary:  start নতুন শৃঙ্গজয় গেল মৃত্যু end\n",
            "\n",
            "\n",
            "Review: ওয়েব ডেস্ক প্রতীক্ষার অবসান প্রায় তিন বছর দশ মাস পরে আজ রায় ঘোষণা হবে পার্ক স্ট্রিট ধর্ষণ কাণ্ডের ন্যায্য বিচার কি পাবে নির্যাতিতার পরিবার পাঁচই ফেব্রুয়ারি দুহাজার বারো পার্ক স্ট্রিট এলাকায় শুনসান রাস্তায় রাতে অন্ধকারে বিলাসবহুল গাড়ির মধ্যেই ধর্ষিতা হন এক তরুণী রাতেই অভিযোগ জানাতে ছুটে যান থানায় তারপর যা ঘটেছিল তা এরাজ্যের পুলিস এবং প্রশাসনের কাছে একটি কলঙ্কিত অধ্যায় হয়েই থাকবে শুধু ধর্ষিতার চরিত্রই নয় পুলিসের তরফে প্রশ্ন তোলা হয় ঘটনার সত্যতা নিয়েও কলকাতা পুলিসের তত্কালীন নগরপাল রঞ্জিত দাবি করেছিলেন গোটা ঘটনা সরকারের ভাবমুর্তি নষ্ট করার চেষ্টা মাত্র তারপর থেকেই পার্ক স্ট্রিট কাণ্ড নিয়ে রাজ্য জুড়ে তোলপাড় শুরু হয়ে যায় চাপে পড়ে রুমান খান সুমিত বাজাজ এবং নাসের খান নামে তিন অভিযুক্তকে গ্রেফতার করে পুলিস তবে ফেরার মূল অভিযুক্ত কাদের খান এবং মহম্মদ আলি এরপর থেকে সম্পূর্ণ অন্য এক ভূমিকায় দেখা গেল নির্যাতিতাকে   যেখানেই নারী নির্যাতনের ঘটনা ঘটেছে ছুটে গিয়েছেন তিনি ফলে অচিরেই পার্ক স্ট্রিট কাণ্ডের নির্যাতিতা হয়ে ওঠেন প্রতিবাদের আরও একটি মুখ সব প্রতিকূলতাকে অতিক্রম করে লড়াই চালিয়ে গিয়েছেন তিনি তেরোই মার্চ দু হাজার পনেরো মৃত্যু হয় প্রতিবাদীর তবে প্রতিবাদী না থাকলেও সুবিচার মিলবে আশা আইনজীবীর ভারাক্রান্ত মনে মেয়ের দোষীদের শাস্তি কামনা করেন মা বিচার পাবেন কি প্রতিবাদী শাস্তি হবে কি দোষীদের জানা যাবে জানা যাবে আজ \n",
            "Original summary: start বছর মাস পরে আজ রায় ঘোষণা হবে পার্ক স্ট্রিট ধর্ষণ কাণ্ডের end \n",
            "Predicted summary:  start নতুন শৃঙ্গজয় গেল মৃত্যু end\n",
            "\n",
            "\n",
            "Review: দিঘার হোটেল থেকে উদ্ধার হল যুবকযুবতীর ঝুলন্ত দেহ শুক্রবার সকালে নিউ দিঘার একটি হোটেল থেকে ওই যুগলের দেহ উদ্ধার হয় মৃতদের দাম গোপাল সরকার ও সরকার হোটেল কর্তৃপক্ষের কাছে তাঁরা এই নাম দিয়েই রুম বুক করেছিলেন বলে জানা গিয়েছে এই বিষয়ে অন্যান্য খবর ফুটফুটে বাচ্চাটি কার দিঘার সৈকতে শিশুর কান্না জল্পনা চাপা দিল সমুদ্রের গর্জন দিঘায় মারাত্মক অভিযোগ মহিলা পর্যটককে প্রায় বিবস্ত্র করে হেনস্থা জানা গিয়েছে স্বামীস্ত্রীর পরিচয় দিয়ে ওই যুগল গত তারিখ হোটেলে ওঠেন হোটেলের হুগলির গ্রামের বাসিন্দা বলেন তাঁরা শুক্রবারই তাঁদের ফিরে যাওয়ার কথা ছিল   এদিন সকালে রুমের মধ্যে থেকে যুবকযুবতীর কোনও সাড়াশব্দ না পাওয়ায় সন্দেহ হয় মধ্যে পরে দরজা ভাঙতেই তাঁদের ঝুলন্ত দেহ দেখতে পান পরে পুলিশ এসে উদ্ধার করে ময়নাতদন্তের জন্য পাঠায় পুলিশের প্রাথমিক ধারণা প্রেমঘটিত কারণের জেরে আত্মহত্যা করেছেন ওই যুগল ঘটনার তদন্তে নেমেছে দিঘা থানার পুলিশ \n",
            "Original summary: start দিঘার হোটেলে রহস্য পরিচয় নিয়ে পুলিশ end \n",
            "Predicted summary:  start নতুন শৃঙ্গজয় গেল মৃত্যু end\n",
            "\n",
            "\n",
            "Review: সিপিএমের চেয়েও কয়েক কদম এগিয়ে গেল সিপিআই বিজেপিকে রুখতে বৃহত্তর গণতান্ত্রিক ঐক্যের পথে তারা থাকছে তো বটেই কংগ্রেসের সঙ্গে প্রয়োজনে নির্বাচনী সমঝোতার পথও সিপিআই খুলে দিল তাদের তম পার্টি কংগ্রেসে কেরলের রবিবার শেষ হওয়া সিপিআইয়ের পার্টি কংগ্রেসে গৃহীত রাজনৈতিক প্রস্তাবে সিপিএমের মতোই বলা হয়েছে এখন প্রধান বিপদ তাদের ধর্মনিরপেক্ষ ও গণতান্ত্রিক সব শক্তিকে এক জায়গায় আনতে হবে পার্টি কংগ্রেসে বিতর্কের শেষে জবাবি ভাষণে সিপিআইয়ের সাধারণ সম্পাদক সুধাকর রেড্ডি জানিয়ে দিয়েছেন রাজনৈতিক লড়াইয়ের অঙ্গ তাই সেখানেও প্রয়োজনে কংগ্রেসকে সঙ্গে রাখতে হবে নির্বাচনী কোথায় কী ভাবে কংগ্রেস বা অন্য কোনও দলের সঙ্গে যাওয়া হবে তা ঠিক করার ভার রাজ্যগুলির উপরেই ছেড়ে দিয়েছে সিপিআই পার্টি কংগ্রেসের এমন সিদ্ধান্তে খুশি বাংলার সিপিআই নেতৃত্বের বড় অংশ তাঁরাও ধর্মনিরপেক্ষ সব শক্তিকে একজোট করে লড়াইয়ের পক্ষে দলের রাজ্য সম্মেলনের আগে কলকাতা জেলা সম্মেলনেই প্রথম প্রস্তাব নেওয়া হয়েছিল প্রয়োজনে কংগ্রেসের সঙ্গে ভোটে আসন করেই বিজেপির বিরুদ্ধে লড়তে হবে সেই পথেই স্বীকৃতি মিলল পার্টি কংগ্রেসে সিপিআই সূত্রের খবর পার্টি কংগ্রেসে এ বার কেরলের নেতারাও মত দিয়েছেন কংগ্রেসকে করে রেখে এখন আর বিরুদ্ধে লড়াই সম্ভব নয় পার্টি কংগ্রেসের পর্বে গেরুয়া শিবিরের বিরুদ্ধে সর্বাত্মক আহ্বান জানিয়েছিলেন সিপিএমের সাধারণ সম্পাদক সীতারাম ইয়েচুরি পার্টি কংগ্রেস থেকে ফের সিপিআইয়ের সাধারণ সম্পাদক নির্বাচিত হয়েছেন কেন্দ্রীয় সম্পাদকমণ্ডলীর থেকে বাড়িয়ে করা হয়েছে শারীরিক কারণে দাশগুপ্ত অব্যাহতি নেওয়ায় তাঁর জায়গায় বাংলা থেকে কেন্দ্রীয় এসেছেন পল্লব সেনগুপ্ত আর নতুন জাতীয় পরিষদে জায়গা পেয়েছেন জেএনইউএর ছাত্র সংসদ থেকে উঠে আসা ছাত্রনেতা কানহাইয়া কুমার বাংলা থেকে জাতীয় পরিষদের নতুন সদস্য উজ্জ্বল চৌধুরী ও দাস ঠাকুর \n",
            "Original summary: start কংগ্রেসের সঙ্গে সায় end \n",
            "Predicted summary:  start নতুন শৃঙ্গজয় গেল মৃত্যু end\n",
            "\n",
            "\n"
          ]
        }
      ]
    },
    {
      "cell_type": "markdown",
      "source": [
        "**ROUGE SCORE**"
      ],
      "metadata": {
        "id": "0HSQiv2RQTNV"
      },
      "id": "0HSQiv2RQTNV"
    },
    {
      "cell_type": "code",
      "source": [
        "!pip install rouge"
      ],
      "metadata": {
        "id": "mkH4zTRMQVZD",
        "colab": {
          "base_uri": "https://localhost:8080/"
        },
        "outputId": "4ad3b093-6f80-441b-c944-0e7e6aadea28"
      },
      "id": "mkH4zTRMQVZD",
      "execution_count": null,
      "outputs": [
        {
          "output_type": "stream",
          "name": "stdout",
          "text": [
            "Requirement already satisfied: rouge in /usr/local/lib/python3.10/dist-packages (1.0.1)\n",
            "Requirement already satisfied: six in /usr/local/lib/python3.10/dist-packages (from rouge) (1.16.0)\n"
          ]
        }
      ]
    },
    {
      "cell_type": "code",
      "source": [
        "!pip install rouge-score"
      ],
      "metadata": {
        "id": "I4_GO-q7UEeo",
        "colab": {
          "base_uri": "https://localhost:8080/"
        },
        "outputId": "17c369ab-a19f-4e25-f8f9-43eba62e3842"
      },
      "id": "I4_GO-q7UEeo",
      "execution_count": null,
      "outputs": [
        {
          "output_type": "stream",
          "name": "stdout",
          "text": [
            "Requirement already satisfied: rouge-score in /usr/local/lib/python3.10/dist-packages (0.1.2)\n",
            "Requirement already satisfied: absl-py in /usr/local/lib/python3.10/dist-packages (from rouge-score) (1.4.0)\n",
            "Requirement already satisfied: nltk in /usr/local/lib/python3.10/dist-packages (from rouge-score) (3.8.1)\n",
            "Requirement already satisfied: numpy in /usr/local/lib/python3.10/dist-packages (from rouge-score) (1.23.5)\n",
            "Requirement already satisfied: six>=1.14.0 in /usr/local/lib/python3.10/dist-packages (from rouge-score) (1.16.0)\n",
            "Requirement already satisfied: click in /usr/local/lib/python3.10/dist-packages (from nltk->rouge-score) (8.1.6)\n",
            "Requirement already satisfied: joblib in /usr/local/lib/python3.10/dist-packages (from nltk->rouge-score) (1.3.2)\n",
            "Requirement already satisfied: regex>=2021.8.3 in /usr/local/lib/python3.10/dist-packages (from nltk->rouge-score) (2023.6.3)\n",
            "Requirement already satisfied: tqdm in /usr/local/lib/python3.10/dist-packages (from nltk->rouge-score) (4.66.1)\n"
          ]
        }
      ]
    },
    {
      "cell_type": "code",
      "source": [
        "def calculate_precision_recall_fmeasure(predicted_summary, original_summary):\n",
        "    predicted_set = set(predicted_summary)\n",
        "    reference_set = set(original_summary)\n",
        "\n",
        "    # Calculate precision\n",
        "    precision = len(predicted_set.intersection(reference_set)) / len(predicted_set)\n",
        "\n",
        "\n",
        "    # Calculate recall\n",
        "    if len(reference_set) > 0:\n",
        "        recall = len(predicted_set.intersection(reference_set)) / len(reference_set)\n",
        "    else:\n",
        "        recall = 0.0\n",
        "\n",
        "\n",
        "    # Calculate F-measure\n",
        "    if precision + recall != 0:\n",
        "        f_measure = 2 * (precision * recall) / (precision + recall)\n",
        "    else:\n",
        "        f_measure = 0.0\n",
        "\n",
        "\n",
        "    return precision, recall, f_measure"
      ],
      "metadata": {
        "id": "68fGywt6UGJD"
      },
      "id": "68fGywt6UGJD",
      "execution_count": null,
      "outputs": []
    },
    {
      "cell_type": "code",
      "source": [
        "from rouge import Rouge\n",
        "rouge=Rouge()\n",
        "\n",
        "precision = []\n",
        "recall = []\n",
        "f_measure = []\n",
        "Rough_f=[]\n",
        "Rough_p=[]\n",
        "Rough_r=[]\n",
        "\n",
        "for i in range(1000):\n",
        "    p, r, f= calculate_precision_recall_fmeasure(decode_sequence(x_tr[i].reshape(1, max_text_len)), seq2summary(y_tr[i]))\n",
        "    precision.append(p)\n",
        "    recall.append(r)\n",
        "    f_measure.append(f)\n",
        "\n",
        "    # Calculate ROUGE scores using rouge library\n",
        "    scores = rouge.get_scores(decode_sequence(x_tr[i].reshape(1, max_text_len)), seq2summary(y_tr[i]))\n",
        "    Rough_f.append(scores[0]['rouge-1']['f'])\n",
        "    Rough_p.append(scores[0]['rouge-1']['p'])\n",
        "    Rough_r.append(scores[0]['rouge-1']['r'])\n",
        "\n",
        "print(\"Precision: \", sum(precision)/len(precision))\n",
        "print(\"Recall:\", sum(recall)/len(recall))\n",
        "print(\"F-Measure / F1-Score:\", sum(f_measure)/len(f_measure))\n",
        "print(\"\\nRough:\\n\\t1. F:\", sum(Rough_f)/len(Rough_f),\"\\n\\t2. P:\",sum(Rough_p)/len(Rough_p),\"\\n\\t2. R:\",sum(Rough_r)/len(Rough_r))"
      ],
      "metadata": {
        "id": "8XwtaQciUH29",
        "colab": {
          "base_uri": "https://localhost:8080/"
        },
        "outputId": "5bf38219-15ac-4f56-e399-4177d92a9786"
      },
      "id": "8XwtaQciUH29",
      "execution_count": null,
      "outputs": [
        {
          "output_type": "stream",
          "name": "stdout",
          "text": [
            "Precision:  0.7016363636363637\n",
            "Recall: 0.5778613921689336\n",
            "F-Measure / F1-Score: 0.6261691452234536\n",
            "\n",
            "Rough:\n",
            "\t1. F: 0.2791585615843551 \n",
            "\t2. P: 0.33933333333333326 \n",
            "\t2. R: 0.25107091797091796\n"
          ]
        }
      ]
    },
    {
      "cell_type": "code",
      "source": [
        "!pip install evaluate"
      ],
      "metadata": {
        "colab": {
          "base_uri": "https://localhost:8080/"
        },
        "id": "UBdWJFeH9Z_X",
        "outputId": "7ec5423d-c300-4602-f704-c6c99e4ec9df"
      },
      "id": "UBdWJFeH9Z_X",
      "execution_count": null,
      "outputs": [
        {
          "output_type": "stream",
          "name": "stdout",
          "text": [
            "Requirement already satisfied: evaluate in /usr/local/lib/python3.10/dist-packages (0.4.0)\n",
            "Requirement already satisfied: datasets>=2.0.0 in /usr/local/lib/python3.10/dist-packages (from evaluate) (2.14.4)\n",
            "Requirement already satisfied: numpy>=1.17 in /usr/local/lib/python3.10/dist-packages (from evaluate) (1.23.5)\n",
            "Requirement already satisfied: dill in /usr/local/lib/python3.10/dist-packages (from evaluate) (0.3.7)\n",
            "Requirement already satisfied: pandas in /usr/local/lib/python3.10/dist-packages (from evaluate) (1.5.3)\n",
            "Requirement already satisfied: requests>=2.19.0 in /usr/local/lib/python3.10/dist-packages (from evaluate) (2.31.0)\n",
            "Requirement already satisfied: tqdm>=4.62.1 in /usr/local/lib/python3.10/dist-packages (from evaluate) (4.66.1)\n",
            "Requirement already satisfied: xxhash in /usr/local/lib/python3.10/dist-packages (from evaluate) (3.3.0)\n",
            "Requirement already satisfied: multiprocess in /usr/local/lib/python3.10/dist-packages (from evaluate) (0.70.15)\n",
            "Requirement already satisfied: fsspec[http]>=2021.05.0 in /usr/local/lib/python3.10/dist-packages (from evaluate) (2023.6.0)\n",
            "Requirement already satisfied: huggingface-hub>=0.7.0 in /usr/local/lib/python3.10/dist-packages (from evaluate) (0.16.4)\n",
            "Requirement already satisfied: packaging in /usr/local/lib/python3.10/dist-packages (from evaluate) (23.1)\n",
            "Requirement already satisfied: responses<0.19 in /usr/local/lib/python3.10/dist-packages (from evaluate) (0.18.0)\n",
            "Requirement already satisfied: pyarrow>=8.0.0 in /usr/local/lib/python3.10/dist-packages (from datasets>=2.0.0->evaluate) (9.0.0)\n",
            "Requirement already satisfied: aiohttp in /usr/local/lib/python3.10/dist-packages (from datasets>=2.0.0->evaluate) (3.8.5)\n",
            "Requirement already satisfied: pyyaml>=5.1 in /usr/local/lib/python3.10/dist-packages (from datasets>=2.0.0->evaluate) (6.0.1)\n",
            "Requirement already satisfied: filelock in /usr/local/lib/python3.10/dist-packages (from huggingface-hub>=0.7.0->evaluate) (3.12.2)\n",
            "Requirement already satisfied: typing-extensions>=3.7.4.3 in /usr/local/lib/python3.10/dist-packages (from huggingface-hub>=0.7.0->evaluate) (4.7.1)\n",
            "Requirement already satisfied: charset-normalizer<4,>=2 in /usr/local/lib/python3.10/dist-packages (from requests>=2.19.0->evaluate) (3.2.0)\n",
            "Requirement already satisfied: idna<4,>=2.5 in /usr/local/lib/python3.10/dist-packages (from requests>=2.19.0->evaluate) (3.4)\n",
            "Requirement already satisfied: urllib3<3,>=1.21.1 in /usr/local/lib/python3.10/dist-packages (from requests>=2.19.0->evaluate) (2.0.4)\n",
            "Requirement already satisfied: certifi>=2017.4.17 in /usr/local/lib/python3.10/dist-packages (from requests>=2.19.0->evaluate) (2023.7.22)\n",
            "Requirement already satisfied: python-dateutil>=2.8.1 in /usr/local/lib/python3.10/dist-packages (from pandas->evaluate) (2.8.2)\n",
            "Requirement already satisfied: pytz>=2020.1 in /usr/local/lib/python3.10/dist-packages (from pandas->evaluate) (2023.3)\n",
            "Requirement already satisfied: attrs>=17.3.0 in /usr/local/lib/python3.10/dist-packages (from aiohttp->datasets>=2.0.0->evaluate) (23.1.0)\n",
            "Requirement already satisfied: multidict<7.0,>=4.5 in /usr/local/lib/python3.10/dist-packages (from aiohttp->datasets>=2.0.0->evaluate) (6.0.4)\n",
            "Requirement already satisfied: async-timeout<5.0,>=4.0.0a3 in /usr/local/lib/python3.10/dist-packages (from aiohttp->datasets>=2.0.0->evaluate) (4.0.3)\n",
            "Requirement already satisfied: yarl<2.0,>=1.0 in /usr/local/lib/python3.10/dist-packages (from aiohttp->datasets>=2.0.0->evaluate) (1.9.2)\n",
            "Requirement already satisfied: frozenlist>=1.1.1 in /usr/local/lib/python3.10/dist-packages (from aiohttp->datasets>=2.0.0->evaluate) (1.4.0)\n",
            "Requirement already satisfied: aiosignal>=1.1.2 in /usr/local/lib/python3.10/dist-packages (from aiohttp->datasets>=2.0.0->evaluate) (1.3.1)\n",
            "Requirement already satisfied: six>=1.5 in /usr/local/lib/python3.10/dist-packages (from python-dateutil>=2.8.1->pandas->evaluate) (1.16.0)\n"
          ]
        }
      ]
    },
    {
      "cell_type": "code",
      "source": [
        "from rouge_score import rouge_scorer"
      ],
      "metadata": {
        "id": "hHPx36B99frx"
      },
      "id": "hHPx36B99frx",
      "execution_count": null,
      "outputs": []
    },
    {
      "cell_type": "code",
      "source": [
        "from rouge_score import rouge_scorer\n",
        "from tqdm import tqdm\n",
        "\n",
        "# Initialize the scorer\n",
        "scorer = rouge_scorer.RougeScorer(['rouge1', 'rouge2', 'rouge3', 'rougeL'])\n",
        "\n",
        "# Initialize variables to store cumulative scores\n",
        "total_scores = {'rouge1': {'precision': 0, 'recall': 0, 'fmeasure': 0},\n",
        "                'rouge2': {'precision': 0, 'recall': 0, 'fmeasure': 0},\n",
        "                'rouge3': {'precision': 0, 'recall': 0, 'fmeasure': 0},\n",
        "                'rougeL': {'precision': 0, 'recall': 0, 'fmeasure': 0}}\n",
        "\n",
        "num_samples = len(y_tr)\n",
        "\n",
        "# Use tqdm to create a progress bar\n",
        "for i in tqdm(range(1000), desc=\"Calculating ROUGE scores\"):\n",
        "    y_or = seq2summary(y_tr[i])\n",
        "    y_pred = decode_sequence(x_tr[i].reshape(1, max_text_len))\n",
        "    scores = scorer.score(y_or, y_pred)\n",
        "\n",
        "    for key in scores:\n",
        "        total_scores[key]['precision'] += scores[key].precision\n",
        "        total_scores[key]['recall'] += scores[key].recall\n",
        "        total_scores[key]['fmeasure'] += scores[key].fmeasure\n",
        "\n",
        "# Calculate averages\n",
        "average_scores = {}\n",
        "for key in total_scores:\n",
        "    average_scores[key] = {\n",
        "        'precision': total_scores[key]['precision'] / num_samples,\n",
        "        'recall': total_scores[key]['recall'] / num_samples,\n",
        "        'fmeasure': total_scores[key]['fmeasure'] / num_samples\n",
        "    }\n",
        "\n",
        "# Print average scores\n",
        "for key in average_scores:\n",
        "    print(f'{key}: Precision={average_scores[key][\"precision\"]:.4f}, Recall={average_scores[key][\"recall\"]:.4f}, F1-score={average_scores[key][\"fmeasure\"]:.4f}')"
      ],
      "metadata": {
        "colab": {
          "base_uri": "https://localhost:8080/"
        },
        "id": "CmlEjR4y9n4j",
        "outputId": "5f43fe26-c857-4ac9-e83a-d9383e33947a"
      },
      "id": "CmlEjR4y9n4j",
      "execution_count": null,
      "outputs": [
        {
          "output_type": "stream",
          "name": "stderr",
          "text": [
            "Calculating ROUGE scores: 100%|██████████| 1000/1000 [09:42<00:00,  1.72it/s]"
          ]
        },
        {
          "output_type": "stream",
          "name": "stdout",
          "text": [
            "rouge1: Precision=0.1368, Recall=0.1370, F1-score=0.1369\n",
            "rouge2: Precision=0.1367, Recall=0.1367, F1-score=0.1367\n",
            "rouge3: Precision=0.0000, Recall=0.0000, F1-score=0.0000\n",
            "rougeL: Precision=0.1368, Recall=0.1370, F1-score=0.1369\n"
          ]
        },
        {
          "output_type": "stream",
          "name": "stderr",
          "text": [
            "\n"
          ]
        }
      ]
    },
    {
      "cell_type": "markdown",
      "source": [
        "# **GRU - GRU**"
      ],
      "metadata": {
        "id": "uc33ZZFr6GmT"
      },
      "id": "uc33ZZFr6GmT"
    },
    {
      "cell_type": "code",
      "source": [
        "from keras import backend as K\n",
        "import fasttext as ft\n",
        "from numpy import *\n",
        "import numpy as np\n",
        "import pandas as pd\n",
        "from keras.layers import Input, GRU, Embedding, Dense, TimeDistributed\n",
        "from keras.models import Model\n",
        "from tensorflow.keras.callbacks import EarlyStopping, ReduceLROnPlateau\n",
        "import warnings\n",
        "pd.set_option(\"display.max_colwidth\", 200)\n",
        "warnings.filterwarnings(\"ignore\")\n",
        "from keras.layers import CuDNNGRU\n",
        "K.clear_session()\n",
        "\n",
        "# Assuming FastText was trained with an embedding dimension of 300\n",
        "embedding_dim = 300\n",
        "latent_dim = 300\n",
        "max_text_len = 300\n",
        "\n",
        "# Encoder\n",
        "encoder_inputs = Input(shape=(max_text_len,))\n",
        "\n",
        "# Embedding layer with FastText embeddings for the encoder\n",
        "enc_emb = Embedding(x_voc, embedding_dim, weights=[ft_embedding_matrix_encoder], trainable=True)(encoder_inputs)\n",
        "\n",
        "# Encoder GRU layers\n",
        "encoder_gru1 = CuDNNGRU(latent_dim, return_sequences=True, return_state=True)\n",
        "encoder_output1, state_h1 = encoder_gru1(enc_emb)\n",
        "\n",
        "encoder_gru2 = CuDNNGRU(latent_dim, return_sequences=True, return_state=True)\n",
        "encoder_output2, state_h2 = encoder_gru2(encoder_output1)\n",
        "\n",
        "encoder_gru3 = CuDNNGRU(latent_dim, return_state=True, return_sequences=True)\n",
        "encoder_outputs, state_h = encoder_gru3(encoder_output2)\n",
        "\n",
        "# Decoder\n",
        "decoder_inputs = Input(shape=(None,))\n",
        "\n",
        "# Embedding layer with FastText embeddings for the decoder\n",
        "dec_emb_layer = Embedding(y_voc, embedding_dim, weights=[ft_embedding_matrix_decoder], trainable=True)\n",
        "dec_emb = dec_emb_layer(decoder_inputs)\n",
        "\n",
        "# Decoder GRU layers\n",
        "decoder_gru = CuDNNGRU(latent_dim, return_sequences=True, return_state=True)\n",
        "decoder_outputs, decoder_state = decoder_gru(dec_emb, initial_state=state_h)\n",
        "\n",
        "# Dense layer\n",
        "decoder_dense = TimeDistributed(Dense(y_voc, activation='softmax'))\n",
        "decoder_outputs = decoder_dense(decoder_outputs)\n",
        "\n",
        "# Define the model\n",
        "model = Model([encoder_inputs, decoder_inputs], decoder_outputs)\n",
        "\n",
        "model.summary()\n",
        "\n",
        "model.compile(optimizer='Adam', loss='sparse_categorical_crossentropy')\n",
        "\n",
        "# Early Stopping\n",
        "es = EarlyStopping(monitor='val_loss', mode='min', verbose=1, patience=3)"
      ],
      "metadata": {
        "id": "ZFTJhTRv69u_",
        "colab": {
          "base_uri": "https://localhost:8080/"
        },
        "outputId": "bb49464b-6ad4-44b8-ff76-c93df1e64522"
      },
      "id": "ZFTJhTRv69u_",
      "execution_count": null,
      "outputs": [
        {
          "output_type": "stream",
          "name": "stdout",
          "text": [
            "Model: \"model\"\n",
            "__________________________________________________________________________________________________\n",
            " Layer (type)                   Output Shape         Param #     Connected to                     \n",
            "==================================================================================================\n",
            " input_1 (InputLayer)           [(None, 300)]        0           []                               \n",
            "                                                                                                  \n",
            " embedding (Embedding)          (None, 300, 300)     9322800     ['input_1[0][0]']                \n",
            "                                                                                                  \n",
            " cu_dnngru (CuDNNGRU)           [(None, 300, 300),   541800      ['embedding[0][0]']              \n",
            "                                 (None, 300)]                                                     \n",
            "                                                                                                  \n",
            " input_2 (InputLayer)           [(None, None)]       0           []                               \n",
            "                                                                                                  \n",
            " cu_dnngru_1 (CuDNNGRU)         [(None, 300, 300),   541800      ['cu_dnngru[0][0]']              \n",
            "                                 (None, 300)]                                                     \n",
            "                                                                                                  \n",
            " embedding_1 (Embedding)        (None, None, 300)    1986300     ['input_2[0][0]']                \n",
            "                                                                                                  \n",
            " cu_dnngru_2 (CuDNNGRU)         [(None, 300, 300),   541800      ['cu_dnngru_1[0][0]']            \n",
            "                                 (None, 300)]                                                     \n",
            "                                                                                                  \n",
            " cu_dnngru_3 (CuDNNGRU)         [(None, None, 300),  541800      ['embedding_1[0][0]',            \n",
            "                                 (None, 300)]                     'cu_dnngru_2[0][1]']            \n",
            "                                                                                                  \n",
            " time_distributed (TimeDistribu  (None, None, 6621)  1992921     ['cu_dnngru_3[0][0]']            \n",
            " ted)                                                                                             \n",
            "                                                                                                  \n",
            "==================================================================================================\n",
            "Total params: 15,469,221\n",
            "Trainable params: 15,469,221\n",
            "Non-trainable params: 0\n",
            "__________________________________________________________________________________________________\n"
          ]
        }
      ]
    },
    {
      "cell_type": "code",
      "source": [
        "# we remove the last word [:,:-1] & the first word [:,1:] so that the model can predict the next one\n",
        "#reshape is done because the decoder expects a 3d tensor\n",
        "history=model.fit([x_tr,y_tr[:,:-1]], y_tr.reshape(y_tr.shape[0],y_tr.shape[1], 1)[:,1:] ,epochs=50,callbacks=[es],batch_size=128,verbose=1, validation_data=([x_val,y_val[:,:-1]], y_val.reshape(y_val.shape[0],y_val.shape[1], 1)[:,1:]))"
      ],
      "metadata": {
        "id": "4LiUDYCI7x1L",
        "colab": {
          "base_uri": "https://localhost:8080/"
        },
        "outputId": "2a3c8967-3600-42a5-97f7-b392f9706585"
      },
      "id": "4LiUDYCI7x1L",
      "execution_count": null,
      "outputs": [
        {
          "output_type": "stream",
          "name": "stdout",
          "text": [
            "Epoch 1/50\n",
            "58/58 [==============================] - 30s 441ms/step - loss: 5.3500 - val_loss: 3.8615\n",
            "Epoch 2/50\n",
            "58/58 [==============================] - 21s 366ms/step - loss: 4.1092 - val_loss: 3.5441\n",
            "Epoch 3/50\n",
            "58/58 [==============================] - 21s 369ms/step - loss: 3.9324 - val_loss: 3.5074\n",
            "Epoch 4/50\n",
            "58/58 [==============================] - 19s 329ms/step - loss: 3.8724 - val_loss: 3.5161\n",
            "Epoch 5/50\n",
            "58/58 [==============================] - 19s 327ms/step - loss: 3.8230 - val_loss: 3.5006\n",
            "Epoch 6/50\n",
            "58/58 [==============================] - 18s 308ms/step - loss: 3.7669 - val_loss: 3.4854\n",
            "Epoch 7/50\n",
            "58/58 [==============================] - 17s 293ms/step - loss: 3.7020 - val_loss: 3.4696\n",
            "Epoch 8/50\n",
            "58/58 [==============================] - 16s 273ms/step - loss: 3.6341 - val_loss: 3.4755\n",
            "Epoch 9/50\n",
            "58/58 [==============================] - 17s 293ms/step - loss: 3.5648 - val_loss: 3.4791\n",
            "Epoch 10/50\n",
            "58/58 [==============================] - 16s 282ms/step - loss: 3.4904 - val_loss: 3.4670\n",
            "Epoch 11/50\n",
            "58/58 [==============================] - 15s 256ms/step - loss: 3.4119 - val_loss: 3.4743\n",
            "Epoch 12/50\n",
            "58/58 [==============================] - 15s 261ms/step - loss: 3.3284 - val_loss: 3.4773\n",
            "Epoch 13/50\n",
            "58/58 [==============================] - 15s 258ms/step - loss: 3.2387 - val_loss: 3.4884\n",
            "Epoch 13: early stopping\n"
          ]
        }
      ]
    },
    {
      "cell_type": "code",
      "source": [
        "import tensorflow as tf\n",
        "\n",
        "# Assuming you have already defined and compiled your model\n",
        "# Save the model weights\n",
        "model.save_weights(\"/content/drive/MyDrive/IITG/GRU_GRU_weights.h5\")"
      ],
      "metadata": {
        "id": "sQdxZ6ATHJ2n"
      },
      "id": "sQdxZ6ATHJ2n",
      "execution_count": null,
      "outputs": []
    },
    {
      "cell_type": "code",
      "source": [
        "import tensorflow as tf\n",
        "\n",
        "# Load the saved model weights\n",
        "model.load_weights(\"/content/drive/MyDrive/IITG/GRU_GRU_weights.h5\")"
      ],
      "metadata": {
        "id": "igyLAgULHEww"
      },
      "id": "igyLAgULHEww",
      "execution_count": null,
      "outputs": []
    },
    {
      "cell_type": "markdown",
      "source": [
        "**Visualize the model learning**"
      ],
      "metadata": {
        "id": "nQ50LlLgPh3c"
      },
      "id": "nQ50LlLgPh3c"
    },
    {
      "cell_type": "code",
      "execution_count": null,
      "metadata": {
        "id": "42884123",
        "colab": {
          "base_uri": "https://localhost:8080/",
          "height": 430
        },
        "outputId": "8c73cc7a-ce8e-44f6-84fd-f6d29486435b"
      },
      "outputs": [
        {
          "output_type": "display_data",
          "data": {
            "text/plain": [
              "<Figure size 640x480 with 1 Axes>"
            ],
            "image/png": "[encoded data removed]"
          },
          "metadata": {}
        }
      ],
      "source": [
        "from matplotlib import pyplot\n",
        "pyplot.plot(history.history['loss'], label='train')\n",
        "pyplot.plot(history.history['val_loss'], label='test')\n",
        "pyplot.legend()\n",
        "pyplot.show()"
      ],
      "id": "42884123"
    },
    {
      "cell_type": "code",
      "source": [
        "reverse_target_word_index=y_tokenizer.index_word # from token int to word -> for y (tr summary)\n",
        "reverse_source_word_index=x_tokenizer.index_word # from token int to word -> for x(tr text)\n",
        "target_word_index=y_tokenizer.word_index # from word to token int -> for y(tr summary)"
      ],
      "metadata": {
        "id": "Bio_VV0Sisgt"
      },
      "id": "Bio_VV0Sisgt",
      "execution_count": null,
      "outputs": []
    },
    {
      "cell_type": "code",
      "source": [
        "#Model to summarize between 0-15 words for Summary and 0-300 words for Text\n",
        "max_text_len=300\n",
        "max_summary_len=16\n",
        "\n",
        "# these values are found from the histogram"
      ],
      "metadata": {
        "id": "8azcekK8it0l"
      },
      "id": "8azcekK8it0l",
      "execution_count": null,
      "outputs": []
    },
    {
      "cell_type": "code",
      "source": [
        "# Encode the input sequence to get the feature vector\n",
        "encoder_model = Model(inputs=encoder_inputs,outputs=[encoder_outputs, state_h])\n",
        "\n",
        "# Decoder setup\n",
        "# Below tensors will hold the states of the previous time step\n",
        "decoder_state_input_h = Input(shape=(latent_dim,))\n",
        "decoder_hidden_state_input = Input(shape=(max_text_len,latent_dim))\n",
        "\n",
        "# Get the embeddings of the decoder sequence\n",
        "dec_emb2= dec_emb_layer(decoder_inputs)\n",
        "# To predict the next word in the sequence, set the initial states to the states from the previous time step\n",
        "decoder_outputs, state_h2 = decoder_gru(dec_emb, initial_state=decoder_state_input_h)\n",
        "\n",
        "# A dense softmax layer to generate prob dist. over the target vocabulary\n",
        "decoder_outputs2 = decoder_dense(decoder_outputs)\n",
        "\n",
        "# Final decoder model\n",
        "decoder_model = Model(\n",
        "    [decoder_inputs] + [decoder_state_input_h],\n",
        "    [decoder_outputs2] + [state_h2]\n",
        ")"
      ],
      "metadata": {
        "id": "fbREjhumN4s1"
      },
      "id": "fbREjhumN4s1",
      "execution_count": null,
      "outputs": []
    },
    {
      "cell_type": "code",
      "source": [
        "def decode_sequence(input_seq):\n",
        "    # Encode the input as state vectors.\n",
        "    e_out, e_h = encoder_model.predict(input_seq,verbose=0)\n",
        "\n",
        "    # Generate empty target sequence of length 1.\n",
        "    target_seq = np.zeros((1,1))\n",
        "\n",
        "    # Populate the first word of target sequence with the start word.\n",
        "    target_seq[0, 0] = target_word_index['sostok']\n",
        "\n",
        "    stop_condition = False\n",
        "    decoded_sentence = ''\n",
        "    while not stop_condition:\n",
        "\n",
        "        output_tokens, h= decoder_model.predict([target_seq] + [e_h],verbose=0)\n",
        "\n",
        "        # Sample a token\n",
        "        sampled_token_index = np.argmax(output_tokens[0, -1, :])\n",
        "        sampled_token = reverse_target_word_index[sampled_token_index]\n",
        "\n",
        "        if(sampled_token!='eostok'):\n",
        "            decoded_sentence += ' '+sampled_token\n",
        "\n",
        "        # Exit condition: either hit max length or find stop word.\n",
        "        if (sampled_token == 'eostok'  or len(decoded_sentence.split()) >= (max_summary_len-1)):\n",
        "            stop_condition = True\n",
        "\n",
        "        # Update the target sequence (of length 1).\n",
        "        target_seq = np.zeros((1,1))\n",
        "        target_seq[0, 0] = sampled_token_index\n",
        "\n",
        "        # Update internal states\n",
        "        e_h = h\n",
        "\n",
        "    return decoded_sentence\n"
      ],
      "metadata": {
        "id": "E-X1rC8eN-PZ"
      },
      "id": "E-X1rC8eN-PZ",
      "execution_count": null,
      "outputs": []
    },
    {
      "cell_type": "markdown",
      "source": [
        "**INPUT SEQUENCE TO SUMMARY**\n",
        "\n",
        "Let us define the functions to convert an integer sequence to a word sequence for summary as well as the reviews:\n",
        "\n",
        "Run the model over the data to see the results"
      ],
      "metadata": {
        "id": "ypkFYS41iFF0"
      },
      "id": "ypkFYS41iFF0"
    },
    {
      "cell_type": "code",
      "source": [
        "def seq2summary(input_seq):\n",
        "    newString=''\n",
        "    for i in input_seq:\n",
        "        if((i!=0 and i!=target_word_index['sostok']) and i!=target_word_index['eostok']):\n",
        "            newString=newString+reverse_target_word_index[i]+' '\n",
        "    return newString\n",
        "\n",
        "def seq2text(input_seq):\n",
        "    newString=''\n",
        "    for i in input_seq:\n",
        "        if(i!=0):  #  --> padding i.e., WE IGNORE 0\n",
        "            newString=newString+reverse_source_word_index[i]+' '\n",
        "    return newString"
      ],
      "metadata": {
        "id": "2fFwDyp2h_xA"
      },
      "id": "2fFwDyp2h_xA",
      "execution_count": null,
      "outputs": []
    },
    {
      "cell_type": "code",
      "source": [
        "for i in range(0,10):\n",
        "    print(\"Review:\",seq2text(x_tr[i]))\n",
        "    print(\"Original summary:\",seq2summary(y_tr[i]))\n",
        "    print(\"Predicted summary:\",decode_sequence(x_tr[i].reshape(1,max_text_len)))\n",
        "    print(\"\\n\")"
      ],
      "metadata": {
        "id": "3is7TqqEiBJq",
        "colab": {
          "base_uri": "https://localhost:8080/"
        },
        "outputId": "4fa6191f-0a81-40cc-c2e9-9236d0182414"
      },
      "id": "3is7TqqEiBJq",
      "execution_count": null,
      "outputs": [
        {
          "output_type": "stream",
          "name": "stdout",
          "text": [
            "Review: টানা দশম সব যেন একে অপরকে টেক্কা দেওয়ার নেমেছে কিন্তু যে সব পর্যটক ও ঘুরে এসেছেন তাঁদের অনেককেই বলতে শোনা যাচ্ছে এ বার কিন্তু তিনটে জলপ্রপাতের মধ্যে হল হিরো নম্বর ওয়ান এই বর্ষায় টেক্কা দেওয়া কঠিন শুরু হয়ে গিয়েছে স্বাধীনতা দিবসের ছুটির মরশুম সোমবার ছুটি নিলেই টানা তিনদিন ধরে ছুটি তাই পর্যটকদের ভিড়ও প্রচুর এমনিতেই দশম খুব জলপ্রপাত গত বছরে দশমের পাথরে বসে স্নান করতে গিয়ে বেশ কয়েকজন পর্যটকের মৃত্যু হয়েছে এবার দশমের এই সচেতন জলপ্রপাতের কর্মীরা তাঁরা বারবার পর্যটকদের জলপ্রপাতের বেশি কাছে যেতে নিষেধ করছেন দশমের রুদ্রমূর্তি দেখে বেশি সাহস দেখানোর চেষ্টা করছেন না কাঁচি নদীর এই জলপ্রপাতের দশটি ধারায় জল পড়ে বলে এর নাম দশম জলপ্রপাত তবে এই বর্ষায় সব জলের ধারা মিলে মিশে একাকার দশম সঙ্গে বিন্দু বিন্দু জল হাওয়ায় উড়িয়ে দিচ্ছে ওই বিন্দু বিন্দু জল একসঙ্গে জমাট বেধে চলে যাচ্ছে অনেক দূর তাই জলপ্রপাত থেকে অনেকটা দূরে দাঁড়িয়ে থাকলেও হালকা ভিজিয়ে দিচ্ছে দশম দশমের এ ভাবেই ভিজতে ভিজতে কোনও এক পর্যটক বলে ওঠেন একেই বলে বোধহয় ভয়ঙ্কর সুন্দর \n",
            "Original summary: start সবাইকে টেক্কা দিচ্ছে দশম end \n",
            "Predicted summary:  start ফের শহরে না পেয়ে গেলেন সলমন end\n",
            "\n",
            "\n",
            "Review: দুদিনের সফরে রাজ্যে এলেন প্রধানমন্ত্রী নরেন্দ্র মোদী বিকেল চারটে কুড়ি নাগাদ বায়ুসেনার বিশেষ বিমানে দমদমে পৌছলেন তিনি নির্ধারিত সময়ের মিনিট আগে রাজ্যে পৌছন তিনি বিমানবন্দরে প্রধানমন্ত্রীকে স্বাগত জানাল রাজ্যপাল ও অর্থমন্ত্রী অমিত মিত্র ছিলেন রাজ্য বিজেপি নেতারা ওয়েব ডেস্ক দুদিনের সফরে রাজ্যে এলেন প্রধানমন্ত্রী নরেন্দ্র মোদী বিকেল চারটে কুড়ি নাগাদ বায়ুসেনার বিশেষ বিমানে দমদমে পৌছলেন তিনি নির্ধারিত সময়ের মিনিট আগে রাজ্যে পৌছন তিনি বিমানবন্দরে প্রধানমন্ত্রীকে স্বাগত জানাল রাজ্যপাল ও অর্থমন্ত্রী অমিত মিত্র ছিলেন রাজ্য বিজেপি নেতারা বিমানবন্দর থেকে বায়ুসেনার হেলিকপ্টারে রেসকোর্স যান প্রধানমন্ত্রী রেসকোর্স থেকে যাবেন নজরুল মঞ্চে সেখানে একাধিক সামাজিক প্রকল্পের উদ্বোধন করবেন নজরুল মঞ্চ থেকে রামকৃষ্ণ মিশন সেবাপ্রতিষ্ঠানে যাবেন প্রধানমন্ত্রী সেখানে ভর্তি রয়েছেন রামকৃষ্ণ মঠ ও মিশনের অধ্যক্ষ স্বামী আত্মস্থানন্দ তাঁকে দেখে রাত আটটায় রাজভবনে যাবেন সেখানেই আটটা পাঁচে মুখ্যমন্ত্রীর সঙ্গে তাঁর বৈঠক তারপর সময় দেবেন রাজ্য বিজেপি নেতাদের রবিবার সকাল সাতটা পঞ্চাশে প্রধানমন্ত্রী যাবেন দক্ষিণেশ্বরে সেখান থেকে আটটা পঁচিশে পৌছবেন বেলুড় মঠে দশটা পঞ্চাশে বার্নপুরে ইসকোর আধুনিকীকরণ প্রকল্পের উদ্বোধন করবেন সাড়ে এগারোটায় জনসভায় ভাষণ দুপুর একটায় অণ্ডাল বিমান বন্দরে যাবেন প্রধানমন্ত্রী অণ্ডাল থেকেই ফিরবেন দিল্লিতে \n",
            "Original summary: start সময়ের মিনিট আগে শহরে এলেন প্রধানমন্ত্রী end \n",
            "Predicted summary:  start ফের শহরে না পেয়ে গেলেন সলমন end\n",
            "\n",
            "\n",
            "Review: রোগী সেজে থেকে দালাল ধরল পুলিস আজ কার্ডিও থোরাসিক বিভাগ থেকে হাতেনাতে মহম্মদ নাজিম নামে ওই ব্যক্তিকে গ্রেফতার করল পুলিস রাজ্যের সুপার স্পেশালিটি হাসপাতাল চত্বরে রক্তের দালালি করত নাজিম হাসপাতালে দালালরাজ চলছেই রবিবার বিভাগ থেকে মহঃ নাজিম নামে আরও এক দালালকে গ্রেফতার করল পুলিস এ দাঁড়িয়েই রাজ্যের সুপার স্পেশালিটি হাসপাতালের দালালরাজ নিয়ে ক্ষোভ উগরে দেন মুখ্যমন্ত্রী ভবানীপুর থানাকে ব্যবস্থা নেওয়ার নির্দেশ দেন তারপরও রাশ টানা যাচ্ছে কই মাস কয়েক আগে দালাল চক্র চালানোর অভিযোগে গ্রেফতার করা হয় হাসপাতালেরই গ্রুপ ডি স্টাফ রাজেন মল্লিককে রবিবার পুলিসের জালে হাওড়ার বাসিন্দা মহঃ নাজিম ওয়েব ডেস্ক রোগী সেজে থেকে দালাল ধরল পুলিস আজ কার্ডিও থোরাসিক বিভাগ থেকে হাতেনাতে মহম্মদ নাজিম নামে ওই ব্যক্তিকে গ্রেফতার করল পুলিস রাজ্যের সুপার স্পেশালিটি হাসপাতাল চত্বরে রক্তের দালালি করত নাজিম হাসপাতালে দালালরাজ চলছেই রবিবার বিভাগ থেকে মহঃ নাজিম নামে আরও এক দালালকে গ্রেফতার করল পুলিস এ দাঁড়িয়েই রাজ্যের সুপার স্পেশালিটি হাসপাতালের দালালরাজ নিয়ে ক্ষোভ উগরে দেন মুখ্যমন্ত্রী ভবানীপুর থানাকে ব্যবস্থা নেওয়ার নির্দেশ দেন তারপরও রাশ টানা যাচ্ছে কই মাস কয়েক আগে দালাল চক্র চালানোর অভিযোগে গ্রেফতার করা হয় হাসপাতালেরই গ্রুপ ডি স্টাফ রাজেন মল্লিককে রবিবার পুলিসের জালে হাওড়ার বাসিন্দা মহঃ নাজিম মহঃ নাজিম দীর্ঘদিন ধরে হাসপাতালে রক্তের দালালি চালায় বিভিন্ন সূত্র থেকে পুলিসের কাছে সেখবর ছিল সম্প্রতি কার্ডিও থোরাসিক বিভাগে চিকিত্সাধীন বালিগঞ্জের এক রোগীর রক্তের দরকার পড়ে শনিবার রোগীর পরিবারের কাছে হাজার টাকার অস্ত্রোপচারের প্যাকেজ নিয়ে হাজির হয় নাজিম ফাঁদ পাতে পুলিস রবিবার রক্তের দরকার পড়তেই হাজির হয়ে যায় নাজিম তখনই হাতে নাতে ধরা হয় তাকে প্রতি প্যাকেট রক্তের জন্য টাকা আদায় করত নাজিম নাজিম যে হাসপাতাল চত্বরে রীতিমতো জমিয়ে বসেছিল রোগীদের কথা থেকেই তা স্পষ্ট পুলিসের জালে নাজিম কিন্তু দালালচক্রের দাঁড়ি পড়বে কি \n",
            "Original summary: start রোগী সেজে থেকে দালাল ধরল পুলিস end \n",
            "Predicted summary:  start ফের শহরে না পেয়ে গেলেন সলমন end\n",
            "\n",
            "\n",
            "Review: বিক্ষোভকারীদের শর্ত উপাচার্যকে আটকানো হচ্ছে না তিনি গেলে যেতে পারেন কিন্তু যেতে হবে পড়ুয়াদের মাড়িয়ে কিন্তু রাতভর উপাচার্য বিশ্ববিদ্যালয়েই থেকে যান   নিজস্ব প্রতিবেদন   কাউন্সিল নয় পুরোদস্তুর ছাত্র সংসদ গড়তে হবে এই দাবিতে ফের বিক্ষোভে উত্তাল যাদবপুর বিশ্ববিদ্যালয় সোমবার রাতভর যাদবপুরে অবস্থান বিক্ষোভ করলেন ছাত্রছাত্রীদের একাংশ বিক্ষোভকারীদের শর্ত উপাচার্যকে আটকানো হচ্ছে না তিনি গেলে যেতে পারেন কিন্তু যেতে হবে পড়ুয়াদের মাড়িয়ে কিন্তু রাতভর উপাচার্য বিশ্ববিদ্যালয়েই থেকে যান ছাত্রছাত্রীদের ছেড়ে যাননি তিনি কিন্তু যাদবপুরে ছাত্র আন্দোলনের যৌক্তিকতা নিয়েই মঙ্গলবার সকালে প্রশ্ন তোলেন উপাচার্য সুরঞ্জন দাস তাঁর যুক্তি আইন তো সরকার এনেছে সেই আইন সরকারকেই বদলাতে হবে সরকারের সঙ্গে আলোচনার জন্য যাদবপুরের নিয়ে কমিটি গড়ার প্রস্তাব দিয়েছে কর্তৃপক্ষ  রাতে ছাত্রদের সঙ্গে একাধিকবার বৈঠক করেন উপাচার্য যদিও এই নিয়ে এখনও কোনও পৌঁছানো সম্ভব হয়নি \n",
            "Original summary: start ছাত্র কাউন্সিলের দাবি ফের উত্তাল যাদবপুর বিশ্ববিদ্যালয় end \n",
            "Predicted summary:  start ফের শহরে না পেয়ে গেলেন সলমন end\n",
            "\n",
            "\n",
            "Review: হিংস্র কোনও অজানা হামলায় জখম জন শিশু সহ এক মহিলা ঘটনাকে কেন্দ্র করে ব্যাপক চাঞ্চল্য ছড়িয়েছে দক্ষিণ এলাকায় গলায় কানে হাতে গুরুতর ক্ষত নিয়ে আহত অবস্থায় জখম শিশু ও মহিলাদের ইসলামপুর মহকুমা হাসপাতালে করা হয়েছে   অজানা ওই পশুর পরিচয় নিয়ে ধন্দে জখমদের পরিবার তবে আহতদের মধ্যে কেউ কেউ মনে করছেন অজানা ওই পশু আসলে চিতাবাঘ হাসপাতাল সূত্রে জানা গেছে   জন জখম অবস্থায় ভর্তি হয়েছে হাসপাতালে তাদের চিকিৎসা শুরু করা হয়েছে তাদের গলায় হাতে কানে ও গালে পশুর চিহ্ন পাওয়া গিয়েছে ঘটনার তদন্তে নেমেছে জেলা বন দফতর   জানা গিয়েছে বুধবার বিকেলে দক্ষিণ এলাকার খেলছিল এলাকার বেশ কয়েকটি শিশু তখনই আচমকা অজানা এক পশু তাদের ওপর হামলা চালায় এক এক করে জখম হয় টি শিশু ও একজন মহিলা অজানা পশুর হামলায় ব্যাপক আতঙ্ক ছড়ায় শিশুদের মধ্যে দেখুন ভিডিও আহত এক শিশুর অভিভাবক আবদুল জানিয়েছেন মাঠে খেলতে গিয়ে অজানা পশুর হামলায় টি শিশু গুরুতর আহত হয়েছে তবে আমাদের মনে হচ্ছে বন্য কোনও এই হামলা চালিয়েছে আমাদের এলাকার চারপাশে অনেক চা বাগান রয়েছে সেখানে মাঝে মধ্যে দেখা গিয়েছে চিতার আক্রমণে এর আগেও এলাকার অনেক মানুষ আহত হয়েছে তবে একসঙ্গে এতগুলি শিশুকে কোনও বন্যপ্রাণী আহত করেনি কোনও শিশু ভাল করে বলতেই পারছে না প্রাণীটির আকার ঠিক কীরকম ঘটনার পরে এখনও বনদফতর বা কেউই এলাকায় আসেনি আমরা খুব আতঙ্কে রয়েছি ইসলামপুর মহকুমা হাসপাতালের ভারপ্রাপ্ত সুপার এ কে সিনহা জানিয়েছেন বন্য কোনও শিশুদের উপর হামলা চালিয়েছে বলে মনে হচ্ছে চিকিৎসা শুরু করেছি   জেলাশাসক আয়েশা রানি বলেন আমরা ঘটনার খবর পেয়েছি এলাকার ঘটনার তদন্তের জন্য পাঠানো হয়েছে এদিকে বন আধিকারিক দত্ত দফতরের কাজে জেলার বাইরে থাকায় তিনি ঘটনাস্থলে পাঠিয়েছেন বলে জানা গিয়েছে দেখুন ভিডিও দেখুন ভিডিও \n",
            "Original summary: start টার্গেট শিশুরা অজানা আতঙ্কে কাঁটা দেখুন ভিডিও end \n",
            "Predicted summary:  start ফের শহরে না পেয়ে গেলেন সলমন end\n",
            "\n",
            "\n",
            "Review: জোসে অ্যাটলেটিকো ডি কলকাতার কোচ হচ্ছেন না তা প্রায় আগেই ঠিক হয়ে গিয়েছিল এখনও সরকারিভাবে অ্যাটলেটিকো কলকাতার তরফ থেকে কিছু জানানো  না হলেও সূত্রের খবর চেয়ারে হয়তো বসতে চলেছেন বেঙ্গালুরু এফসির প্রাক্তন কোচ অ্যাশলে ওয়েস্টউড বেঙ্গালুরু এফসির হয়ে দুবারের আইলিগ এবং ফেডারেশন কাপ জয়ী কোচ বেঙ্গালুরুর দায়িত্ব ছাড়ার পর সুপার লিগে এফসির কোচ হয়েছিলেন তবে সেখানে সফল হতে পারেননি তিনি বর্তমানে ছিলেন ওয়েস্টউড তবে কিছু কর্তা এখনও কথা স্বীকার না করলেও জানিয়ে রাখছেন অন্যভাবে ব্যবহার করার পরিকল্পনা রয়েছে এটিকের কী সেই পরিকল্পনা জানা গিয়েছে কোচ হিসেবে সম্ভব না হলে ডিরেক্টর হিসেবেও নিয়োগ করতে পারেন কর্তারা সেক্ষেত্রে শুধু দল নয় মাঠের বাইরেও গুরুত্বপূর্ণ প্রভাব থাকবে অর্থাৎ না পাওয়ায় ঘর কাজ শুরু করে দিয়েছে এটিকে কলকাতার দলটির সঙ্গে অ্যাটলেটিকো মাদ্রিদের গাঁটছড়া আদৌ থাকছে কিনা তার জবাব দেবে সময় তবে ওয়েস্টউড যে আসছেন তা দিনের আলোর মতোই পরিষ্কার   উল্লেখ্য ম্যাঞ্চেস্টার ইউনাইটেডের ট্রেনার হিসেবে কেরিয়ার শুরু করেছিলেন ওয়েস্টউড রেড ডেভিলস সংসারের প্রাক্তনী এবার সফল হবে নতুন ভূমিকায় দেখা যাক \n",
            "Original summary: start সৌরভের এটিকের দায়িত্বে আসছেন আইলিগ জয়ী কোচ end \n",
            "Predicted summary:  start ফের শহরে না পেয়ে গেলেন সলমন end\n",
            "\n",
            "\n",
            "Review: ফোন করার মিনিটের মধ্যে চুরি যাওয়া গয়না এবং টাকা ফিরিয়ে দিল চোর গোটা ঘটনাই অবিশ্বাস্য যাদবপুরের এক ব্যবসায়ী পরিবারের তদন্তে নেমে দুজনকে গ্রেফতার করেছে পুলিশ   ঘটনাস্থল যাদবপুরের কালীতলা লেন শনিবার রাত সাড়ে টা নাগাদ বাড়ি ফেরেন কৌশিক ভট্টাচার্যের পরিবারের সদস্যেরা দরজায় চাবি তাঁরা বুঝতে পারেন দরজা খোলা ঢুকে দেখেন ঘর লন্ডভন্ড হয়ে রয়েছে একটি ঘরের আলমারি এবং অন্য ঘরের লকার খোলা আলমারি থেকে টাকা গায়েব লকার থেকে চুরি গিয়েছে কয়েক লক্ষ টাকার গয়না সঙ্গে সঙ্গেই যাদবপুর থানায় অভিযোগ জানান কৌশিক   পরিবারের সদস্যেরা জানিয়েছেন গত ডিসেম্বর কাশ্মীর বেড়াতে গিয়েছিলেন তাঁরা ফেরেন শনিবার তার বাড়িতে চুরি হয় রবিবার সকালে বাড়ির পরিচারিকা মণ্ডলের বোন তাঁদের জনৈক কথা বলে তাকে বললে নাকি চুরি যাওয়া সামগ্রী ফিরে পাওয়া যাবে এদিন দুপুর দেড়টা নাগাদ ফোন করেন কৌশিক কৌশিকের কথায় ফোনে বলে চিন্তা করবেন না দুঘণ্টার মধ্যে সব ফিরে পাবেন এর মিনিটের মধ্যে বাড়ির নীচে সাইকেলে ঝোলানো অবস্থায় একটি প্যাকেট উদ্ধার হয় সেই প্যাকেটের মধ্যে মেলে চুরি যাওয়া গয়না এবং কিছু টাকা তারপর খাটের নীচে আরও একটি প্যাকেট থেকে টাকা উদ্ধার হয় কৌশিকের স্ত্রী বলেন সকাল থেকে সব ঘরে খুঁজেছি কোথাও কিছু ছিল না কে রেখে গেল দেখতে পাইনি তবে বলে কিছু মানি না   পুলিশ সূত্রের খবর পরিচারিকা এবং গাড়ির চালক জয়রাম রাউতকে জিজ্ঞাসাবাদ করা হয় পরে গ্রেফতার করা হয় তাদের একইসঙ্গে ভূমিকাও খতিয়ে দেখা হচ্ছে তবে চুরির জন্য দরজা বা জানলা ভাঙা হয়নি তদন্তকারীদের প্রাথমিক অনুমান নকল চাবি ব্যবহার করা হয়ে থাকতে পারে চুরি প্রসঙ্গে অবশ্য দাবি আমি প্রায় সাত বছর কাজ করছি জানি না কীভাবে চুরি হয়েছে আমি জড়িত নই একই দাবি করেছেন \n",
            "Original summary: start বলা মাত্র সামগ্রী ফেরাল চোর রহস্য রয়েছে দাবি করল পরিবার end \n",
            "Predicted summary:  start ফের শহরে না পেয়ে গেলেন সলমন end\n",
            "\n",
            "\n",
            "Review: ওয়েব ডেস্ক প্রতীক্ষার অবসান প্রায় তিন বছর দশ মাস পরে আজ রায় ঘোষণা হবে পার্ক স্ট্রিট ধর্ষণ কাণ্ডের ন্যায্য বিচার কি পাবে নির্যাতিতার পরিবার পাঁচই ফেব্রুয়ারি দুহাজার বারো পার্ক স্ট্রিট এলাকায় শুনসান রাস্তায় রাতে অন্ধকারে বিলাসবহুল গাড়ির মধ্যেই ধর্ষিতা হন এক তরুণী রাতেই অভিযোগ জানাতে ছুটে যান থানায় তারপর যা ঘটেছিল তা এরাজ্যের পুলিস এবং প্রশাসনের কাছে একটি কলঙ্কিত অধ্যায় হয়েই থাকবে শুধু ধর্ষিতার চরিত্রই নয় পুলিসের তরফে প্রশ্ন তোলা হয় ঘটনার সত্যতা নিয়েও কলকাতা পুলিসের তত্কালীন নগরপাল রঞ্জিত দাবি করেছিলেন গোটা ঘটনা সরকারের ভাবমুর্তি নষ্ট করার চেষ্টা মাত্র তারপর থেকেই পার্ক স্ট্রিট কাণ্ড নিয়ে রাজ্য জুড়ে তোলপাড় শুরু হয়ে যায় চাপে পড়ে রুমান খান সুমিত বাজাজ এবং নাসের খান নামে তিন অভিযুক্তকে গ্রেফতার করে পুলিস তবে ফেরার মূল অভিযুক্ত কাদের খান এবং মহম্মদ আলি এরপর থেকে সম্পূর্ণ অন্য এক ভূমিকায় দেখা গেল নির্যাতিতাকে   যেখানেই নারী নির্যাতনের ঘটনা ঘটেছে ছুটে গিয়েছেন তিনি ফলে অচিরেই পার্ক স্ট্রিট কাণ্ডের নির্যাতিতা হয়ে ওঠেন প্রতিবাদের আরও একটি মুখ সব প্রতিকূলতাকে অতিক্রম করে লড়াই চালিয়ে গিয়েছেন তিনি তেরোই মার্চ দু হাজার পনেরো মৃত্যু হয় প্রতিবাদীর তবে প্রতিবাদী না থাকলেও সুবিচার মিলবে আশা আইনজীবীর ভারাক্রান্ত মনে মেয়ের দোষীদের শাস্তি কামনা করেন মা বিচার পাবেন কি প্রতিবাদী শাস্তি হবে কি দোষীদের জানা যাবে জানা যাবে আজ \n",
            "Original summary: start বছর মাস পরে আজ রায় ঘোষণা হবে পার্ক স্ট্রিট ধর্ষণ কাণ্ডের end \n",
            "Predicted summary:  start ফের শহরে না পেয়ে গেলেন সলমন end\n",
            "\n",
            "\n",
            "Review: দিঘার হোটেল থেকে উদ্ধার হল যুবকযুবতীর ঝুলন্ত দেহ শুক্রবার সকালে নিউ দিঘার একটি হোটেল থেকে ওই যুগলের দেহ উদ্ধার হয় মৃতদের দাম গোপাল সরকার ও সরকার হোটেল কর্তৃপক্ষের কাছে তাঁরা এই নাম দিয়েই রুম বুক করেছিলেন বলে জানা গিয়েছে এই বিষয়ে অন্যান্য খবর ফুটফুটে বাচ্চাটি কার দিঘার সৈকতে শিশুর কান্না জল্পনা চাপা দিল সমুদ্রের গর্জন দিঘায় মারাত্মক অভিযোগ মহিলা পর্যটককে প্রায় বিবস্ত্র করে হেনস্থা জানা গিয়েছে স্বামীস্ত্রীর পরিচয় দিয়ে ওই যুগল গত তারিখ হোটেলে ওঠেন হোটেলের হুগলির গ্রামের বাসিন্দা বলেন তাঁরা শুক্রবারই তাঁদের ফিরে যাওয়ার কথা ছিল   এদিন সকালে রুমের মধ্যে থেকে যুবকযুবতীর কোনও সাড়াশব্দ না পাওয়ায় সন্দেহ হয় মধ্যে পরে দরজা ভাঙতেই তাঁদের ঝুলন্ত দেহ দেখতে পান পরে পুলিশ এসে উদ্ধার করে ময়নাতদন্তের জন্য পাঠায় পুলিশের প্রাথমিক ধারণা প্রেমঘটিত কারণের জেরে আত্মহত্যা করেছেন ওই যুগল ঘটনার তদন্তে নেমেছে দিঘা থানার পুলিশ \n",
            "Original summary: start দিঘার হোটেলে রহস্য পরিচয় নিয়ে পুলিশ end \n",
            "Predicted summary:  start ফের শহরে না পেয়ে গেলেন সলমন end\n",
            "\n",
            "\n",
            "Review: সিপিএমের চেয়েও কয়েক কদম এগিয়ে গেল সিপিআই বিজেপিকে রুখতে বৃহত্তর গণতান্ত্রিক ঐক্যের পথে তারা থাকছে তো বটেই কংগ্রেসের সঙ্গে প্রয়োজনে নির্বাচনী সমঝোতার পথও সিপিআই খুলে দিল তাদের তম পার্টি কংগ্রেসে কেরলের রবিবার শেষ হওয়া সিপিআইয়ের পার্টি কংগ্রেসে গৃহীত রাজনৈতিক প্রস্তাবে সিপিএমের মতোই বলা হয়েছে এখন প্রধান বিপদ তাদের ধর্মনিরপেক্ষ ও গণতান্ত্রিক সব শক্তিকে এক জায়গায় আনতে হবে পার্টি কংগ্রেসে বিতর্কের শেষে জবাবি ভাষণে সিপিআইয়ের সাধারণ সম্পাদক সুধাকর রেড্ডি জানিয়ে দিয়েছেন রাজনৈতিক লড়াইয়ের অঙ্গ তাই সেখানেও প্রয়োজনে কংগ্রেসকে সঙ্গে রাখতে হবে নির্বাচনী কোথায় কী ভাবে কংগ্রেস বা অন্য কোনও দলের সঙ্গে যাওয়া হবে তা ঠিক করার ভার রাজ্যগুলির উপরেই ছেড়ে দিয়েছে সিপিআই পার্টি কংগ্রেসের এমন সিদ্ধান্তে খুশি বাংলার সিপিআই নেতৃত্বের বড় অংশ তাঁরাও ধর্মনিরপেক্ষ সব শক্তিকে একজোট করে লড়াইয়ের পক্ষে দলের রাজ্য সম্মেলনের আগে কলকাতা জেলা সম্মেলনেই প্রথম প্রস্তাব নেওয়া হয়েছিল প্রয়োজনে কংগ্রেসের সঙ্গে ভোটে আসন করেই বিজেপির বিরুদ্ধে লড়তে হবে সেই পথেই স্বীকৃতি মিলল পার্টি কংগ্রেসে সিপিআই সূত্রের খবর পার্টি কংগ্রেসে এ বার কেরলের নেতারাও মত দিয়েছেন কংগ্রেসকে করে রেখে এখন আর বিরুদ্ধে লড়াই সম্ভব নয় পার্টি কংগ্রেসের পর্বে গেরুয়া শিবিরের বিরুদ্ধে সর্বাত্মক আহ্বান জানিয়েছিলেন সিপিএমের সাধারণ সম্পাদক সীতারাম ইয়েচুরি পার্টি কংগ্রেস থেকে ফের সিপিআইয়ের সাধারণ সম্পাদক নির্বাচিত হয়েছেন কেন্দ্রীয় সম্পাদকমণ্ডলীর থেকে বাড়িয়ে করা হয়েছে শারীরিক কারণে দাশগুপ্ত অব্যাহতি নেওয়ায় তাঁর জায়গায় বাংলা থেকে কেন্দ্রীয় এসেছেন পল্লব সেনগুপ্ত আর নতুন জাতীয় পরিষদে জায়গা পেয়েছেন জেএনইউএর ছাত্র সংসদ থেকে উঠে আসা ছাত্রনেতা কানহাইয়া কুমার বাংলা থেকে জাতীয় পরিষদের নতুন সদস্য উজ্জ্বল চৌধুরী ও দাস ঠাকুর \n",
            "Original summary: start কংগ্রেসের সঙ্গে সায় end \n",
            "Predicted summary:  start ফের শহরে না পেয়ে গেলেন সলমন end\n",
            "\n",
            "\n"
          ]
        }
      ]
    },
    {
      "cell_type": "markdown",
      "source": [
        "**ROUGE SCORE**"
      ],
      "metadata": {
        "id": "YQREHg5PUpyA"
      },
      "id": "YQREHg5PUpyA"
    },
    {
      "cell_type": "code",
      "source": [
        "!pip install rouge"
      ],
      "metadata": {
        "id": "1_usrDVdUrrB",
        "colab": {
          "base_uri": "https://localhost:8080/"
        },
        "outputId": "6adf3082-8290-4b7b-9520-b32fc8369bed"
      },
      "id": "1_usrDVdUrrB",
      "execution_count": null,
      "outputs": [
        {
          "output_type": "stream",
          "name": "stdout",
          "text": [
            "Requirement already satisfied: rouge in /usr/local/lib/python3.10/dist-packages (1.0.1)\n",
            "Requirement already satisfied: six in /usr/local/lib/python3.10/dist-packages (from rouge) (1.16.0)\n"
          ]
        }
      ]
    },
    {
      "cell_type": "code",
      "source": [
        "!pip install rouge-score"
      ],
      "metadata": {
        "id": "HSAw2brdUs3X"
      },
      "id": "HSAw2brdUs3X",
      "execution_count": null,
      "outputs": []
    },
    {
      "cell_type": "code",
      "source": [
        "def calculate_precision_recall_fmeasure(predicted_summary, original_summary):\n",
        "    predicted_set = set(predicted_summary)\n",
        "    reference_set = set(original_summary)\n",
        "\n",
        "    # Calculate precision\n",
        "    precision = len(predicted_set.intersection(reference_set)) / len(predicted_set)\n",
        "\n",
        "\n",
        "    # Calculate recall\n",
        "    if len(reference_set) > 0:\n",
        "        recall = len(predicted_set.intersection(reference_set)) / len(reference_set)\n",
        "    else:\n",
        "        recall = 0.0\n",
        "\n",
        "\n",
        "    # Calculate F-measure\n",
        "    if precision + recall != 0:\n",
        "        f_measure = 2 * (precision * recall) / (precision + recall)\n",
        "    else:\n",
        "        f_measure = 0.0\n",
        "\n",
        "\n",
        "    return precision, recall, f_measure"
      ],
      "metadata": {
        "id": "KpkAlof8UuLe"
      },
      "id": "KpkAlof8UuLe",
      "execution_count": null,
      "outputs": []
    },
    {
      "cell_type": "code",
      "source": [
        "from rouge import Rouge\n",
        "rouge=Rouge()\n",
        "\n",
        "precision = []\n",
        "recall = []\n",
        "f_measure = []\n",
        "Rough_f=[]\n",
        "Rough_p=[]\n",
        "Rough_r=[]\n",
        "\n",
        "for i in range(1000):\n",
        "    p, r, f= calculate_precision_recall_fmeasure(decode_sequence(x_tr[i].reshape(1, max_text_len)), seq2summary(y_tr[i]))\n",
        "    precision.append(p)\n",
        "    recall.append(r)\n",
        "    f_measure.append(f)\n",
        "\n",
        "    # Calculate ROUGE scores using rouge library\n",
        "    scores = rouge.get_scores(decode_sequence(x_tr[i].reshape(1, max_text_len)), seq2summary(y_tr[i]))\n",
        "    Rough_f.append(scores[0]['rouge-1']['f'])\n",
        "    Rough_p.append(scores[0]['rouge-1']['p'])\n",
        "    Rough_r.append(scores[0]['rouge-1']['r'])\n",
        "\n",
        "print(\"Precision: \", sum(precision)/len(precision))\n",
        "print(\"Recall:\", sum(recall)/len(recall))\n",
        "print(\"F-Measure / F1-Score:\", sum(f_measure)/len(f_measure))\n",
        "print(\"\\nRough:\\n\\t1. F:\", sum(Rough_f)/len(Rough_f),\"\\n\\t2. P:\",sum(Rough_p)/len(Rough_p),\"\\n\\t2. R:\",sum(Rough_r)/len(Rough_r))"
      ],
      "metadata": {
        "id": "dA1jNTwIUvpl",
        "colab": {
          "base_uri": "https://localhost:8080/"
        },
        "outputId": "f693209c-296d-4928-d9d1-28868c888772"
      },
      "id": "dA1jNTwIUvpl",
      "execution_count": null,
      "outputs": [
        {
          "output_type": "stream",
          "name": "stdout",
          "text": [
            "Precision:  0.7556190476190477\n",
            "Recall: 0.5960804443031232\n",
            "F-Measure / F1-Score: 0.6583735272364308\n",
            "\n",
            "Rough:\n",
            "\t1. F: 0.2528159085072577 \n",
            "\t2. P: 0.26375 \n",
            "\t2. R: 0.2586409923409923\n"
          ]
        }
      ]
    },
    {
      "cell_type": "code",
      "source": [
        "!pip install evaluate"
      ],
      "metadata": {
        "colab": {
          "base_uri": "https://localhost:8080/"
        },
        "id": "ETiA6owW5qy2",
        "outputId": "54fb3d96-905e-407c-e716-4d86123c7b68"
      },
      "id": "ETiA6owW5qy2",
      "execution_count": null,
      "outputs": [
        {
          "output_type": "stream",
          "name": "stdout",
          "text": [
            "Requirement already satisfied: evaluate in /usr/local/lib/python3.10/dist-packages (0.4.0)\n",
            "Requirement already satisfied: datasets>=2.0.0 in /usr/local/lib/python3.10/dist-packages (from evaluate) (2.14.4)\n",
            "Requirement already satisfied: numpy>=1.17 in /usr/local/lib/python3.10/dist-packages (from evaluate) (1.23.5)\n",
            "Requirement already satisfied: dill in /usr/local/lib/python3.10/dist-packages (from evaluate) (0.3.7)\n",
            "Requirement already satisfied: pandas in /usr/local/lib/python3.10/dist-packages (from evaluate) (1.5.3)\n",
            "Requirement already satisfied: requests>=2.19.0 in /usr/local/lib/python3.10/dist-packages (from evaluate) (2.31.0)\n",
            "Requirement already satisfied: tqdm>=4.62.1 in /usr/local/lib/python3.10/dist-packages (from evaluate) (4.66.1)\n",
            "Requirement already satisfied: xxhash in /usr/local/lib/python3.10/dist-packages (from evaluate) (3.3.0)\n",
            "Requirement already satisfied: multiprocess in /usr/local/lib/python3.10/dist-packages (from evaluate) (0.70.15)\n",
            "Requirement already satisfied: fsspec[http]>=2021.05.0 in /usr/local/lib/python3.10/dist-packages (from evaluate) (2023.6.0)\n",
            "Requirement already satisfied: huggingface-hub>=0.7.0 in /usr/local/lib/python3.10/dist-packages (from evaluate) (0.16.4)\n",
            "Requirement already satisfied: packaging in /usr/local/lib/python3.10/dist-packages (from evaluate) (23.1)\n",
            "Requirement already satisfied: responses<0.19 in /usr/local/lib/python3.10/dist-packages (from evaluate) (0.18.0)\n",
            "Requirement already satisfied: pyarrow>=8.0.0 in /usr/local/lib/python3.10/dist-packages (from datasets>=2.0.0->evaluate) (9.0.0)\n",
            "Requirement already satisfied: aiohttp in /usr/local/lib/python3.10/dist-packages (from datasets>=2.0.0->evaluate) (3.8.5)\n",
            "Requirement already satisfied: pyyaml>=5.1 in /usr/local/lib/python3.10/dist-packages (from datasets>=2.0.0->evaluate) (6.0.1)\n",
            "Requirement already satisfied: filelock in /usr/local/lib/python3.10/dist-packages (from huggingface-hub>=0.7.0->evaluate) (3.12.2)\n",
            "Requirement already satisfied: typing-extensions>=3.7.4.3 in /usr/local/lib/python3.10/dist-packages (from huggingface-hub>=0.7.0->evaluate) (4.7.1)\n",
            "Requirement already satisfied: charset-normalizer<4,>=2 in /usr/local/lib/python3.10/dist-packages (from requests>=2.19.0->evaluate) (3.2.0)\n",
            "Requirement already satisfied: idna<4,>=2.5 in /usr/local/lib/python3.10/dist-packages (from requests>=2.19.0->evaluate) (3.4)\n",
            "Requirement already satisfied: urllib3<3,>=1.21.1 in /usr/local/lib/python3.10/dist-packages (from requests>=2.19.0->evaluate) (2.0.4)\n",
            "Requirement already satisfied: certifi>=2017.4.17 in /usr/local/lib/python3.10/dist-packages (from requests>=2.19.0->evaluate) (2023.7.22)\n",
            "Requirement already satisfied: python-dateutil>=2.8.1 in /usr/local/lib/python3.10/dist-packages (from pandas->evaluate) (2.8.2)\n",
            "Requirement already satisfied: pytz>=2020.1 in /usr/local/lib/python3.10/dist-packages (from pandas->evaluate) (2023.3)\n",
            "Requirement already satisfied: attrs>=17.3.0 in /usr/local/lib/python3.10/dist-packages (from aiohttp->datasets>=2.0.0->evaluate) (23.1.0)\n",
            "Requirement already satisfied: multidict<7.0,>=4.5 in /usr/local/lib/python3.10/dist-packages (from aiohttp->datasets>=2.0.0->evaluate) (6.0.4)\n",
            "Requirement already satisfied: async-timeout<5.0,>=4.0.0a3 in /usr/local/lib/python3.10/dist-packages (from aiohttp->datasets>=2.0.0->evaluate) (4.0.3)\n",
            "Requirement already satisfied: yarl<2.0,>=1.0 in /usr/local/lib/python3.10/dist-packages (from aiohttp->datasets>=2.0.0->evaluate) (1.9.2)\n",
            "Requirement already satisfied: frozenlist>=1.1.1 in /usr/local/lib/python3.10/dist-packages (from aiohttp->datasets>=2.0.0->evaluate) (1.4.0)\n",
            "Requirement already satisfied: aiosignal>=1.1.2 in /usr/local/lib/python3.10/dist-packages (from aiohttp->datasets>=2.0.0->evaluate) (1.3.1)\n",
            "Requirement already satisfied: six>=1.5 in /usr/local/lib/python3.10/dist-packages (from python-dateutil>=2.8.1->pandas->evaluate) (1.16.0)\n"
          ]
        }
      ]
    },
    {
      "cell_type": "code",
      "source": [
        "from rouge_score import rouge_scorer"
      ],
      "metadata": {
        "id": "LFGW4Oyr5smA"
      },
      "id": "LFGW4Oyr5smA",
      "execution_count": null,
      "outputs": []
    },
    {
      "cell_type": "code",
      "source": [
        "scorer = rouge_scorer.RougeScorer(['rouge1', 'rouge2','rouge3', 'rougeL'], use_stemmer=True)"
      ],
      "metadata": {
        "id": "JG1NHlw6TcmS"
      },
      "id": "JG1NHlw6TcmS",
      "execution_count": null,
      "outputs": []
    },
    {
      "cell_type": "code",
      "source": [
        "from rouge_score import rouge_scorer\n",
        "from tqdm import tqdm\n",
        "\n",
        "# Initialize the scorer\n",
        "scorer = rouge_scorer.RougeScorer(['rouge1', 'rouge2', 'rouge3', 'rougeL'])\n",
        "\n",
        "# Initialize variables to store cumulative scores\n",
        "total_scores = {'rouge1': {'precision': 0, 'recall': 0, 'fmeasure': 0},\n",
        "                'rouge2': {'precision': 0, 'recall': 0, 'fmeasure': 0},\n",
        "                'rouge3': {'precision': 0, 'recall': 0, 'fmeasure': 0},\n",
        "                'rougeL': {'precision': 0, 'recall': 0, 'fmeasure': 0}}\n",
        "\n",
        "num_samples = len(y_tr)\n",
        "\n",
        "# Use tqdm to create a progress bar\n",
        "for i in tqdm(range(1000), desc=\"Calculating ROUGE scores\"):\n",
        "    y_or = seq2summary(y_tr[i])\n",
        "    y_pred = decode_sequence(x_tr[i].reshape(1, max_text_len))\n",
        "    scores = scorer.score(y_or, y_pred)\n",
        "\n",
        "    for key in scores:\n",
        "        total_scores[key]['precision'] += scores[key].precision\n",
        "        total_scores[key]['recall'] += scores[key].recall\n",
        "        total_scores[key]['fmeasure'] += scores[key].fmeasure\n",
        "\n",
        "# Calculate averages\n",
        "average_scores = {}\n",
        "for key in total_scores:\n",
        "    average_scores[key] = {\n",
        "        'precision': total_scores[key]['precision'] / num_samples,\n",
        "        'recall': total_scores[key]['recall'] / num_samples,\n",
        "        'fmeasure': total_scores[key]['fmeasure'] / num_samples\n",
        "    }\n",
        "\n",
        "# Print average scores\n",
        "for key in average_scores:\n",
        "    print(f'{key}: Precision={average_scores[key][\"precision\"]:.4f}, Recall={average_scores[key][\"recall\"]:.4f}, F1-score={average_scores[key][\"fmeasure\"]:.4f}')\n"
      ],
      "metadata": {
        "id": "4lFJGcfDTfyI",
        "colab": {
          "base_uri": "https://localhost:8080/"
        },
        "outputId": "bd2868e7-36d2-42dd-c9ad-90f551a0111a"
      },
      "id": "4lFJGcfDTfyI",
      "execution_count": null,
      "outputs": [
        {
          "output_type": "stream",
          "name": "stderr",
          "text": [
            "Calculating ROUGE scores: 100%|██████████| 1000/1000 [11:39<00:00,  1.43it/s]"
          ]
        },
        {
          "output_type": "stream",
          "name": "stdout",
          "text": [
            "rouge1: Precision=0.1368, Recall=0.1370, F1-score=0.1369\n",
            "rouge2: Precision=0.1367, Recall=0.1367, F1-score=0.1367\n",
            "rouge3: Precision=0.0000, Recall=0.0000, F1-score=0.0000\n",
            "rougeL: Precision=0.1368, Recall=0.1370, F1-score=0.1369\n"
          ]
        },
        {
          "output_type": "stream",
          "name": "stderr",
          "text": [
            "\n"
          ]
        }
      ]
    }
  ],
  "metadata": {
    "colab": {
      "provenance": [],
      "gpuType": "T4",
      "include_colab_link": true
    },
    "kernelspec": {
      "display_name": "Python 3",
      "name": "python3"
    },
    "language_info": {
      "codemirror_mode": {
        "name": "ipython",
        "version": 3
      },
      "file_extension": ".py",
      "mimetype": "text/x-python",
      "name": "python",
      "nbconvert_exporter": "python",
      "pygments_lexer": "ipython3",
      "version": "3.10.9"
    },
    "accelerator": "GPU"
  },
  "nbformat": 4,
  "nbformat_minor": 5
}